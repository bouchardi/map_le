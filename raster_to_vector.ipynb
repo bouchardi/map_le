{
 "cells": [
  {
   "cell_type": "code",
   "execution_count": null,
   "id": "30eaae4a",
   "metadata": {},
   "outputs": [],
   "source": [
    "import rasterio\n",
    "from rasterio.features import shapes\n",
    "import geopandas\n",
    "from pathlib import Path\n",
    "import matplotlib.pyplot as plt\n",
    "import matplotlib as mpl\n",
    "\n",
    "from utils import raster_to_vector\n",
    "\n",
    "%load_ext autoreload\n",
    "%autoreload 2"
   ]
  },
  {
   "cell_type": "code",
   "execution_count": null,
   "id": "2a347b91",
   "metadata": {},
   "outputs": [],
   "source": [
    "DATA_PATH = Path(\"data/\")\n",
    "\n",
    "# projection = \"arcp4510000502071-2100\"\n",
    "# in_filename=DATA_PATH / \"rasters\" / f\"{projection}.asc\"\n",
    "# out_filename = f'{projection}.shp'\n",
    "\n",
    "filename = \"gain_scenario_A_2011-2040_vs_2071-2100\"\n",
    "in_filename=f\"{filename}.tiff\"\n",
    "out_filename=f\"{filename}.shp\""
   ]
  },
  {
   "cell_type": "code",
   "execution_count": null,
   "id": "b8ddae0b",
   "metadata": {},
   "outputs": [],
   "source": [
    "gdf = raster_to_vector(in_filename)"
   ]
  },
  {
   "cell_type": "code",
   "execution_count": null,
   "id": "f8f7be2c",
   "metadata": {},
   "outputs": [],
   "source": [
    "gdf = gdf[gdf[\"raster_val\"] >= 1]"
   ]
  },
  {
   "cell_type": "code",
   "execution_count": null,
   "id": "5815f4fd",
   "metadata": {},
   "outputs": [],
   "source": [
    "gdf"
   ]
  },
  {
   "cell_type": "code",
   "execution_count": null,
   "id": "5f91a427",
   "metadata": {},
   "outputs": [],
   "source": [
    "gdf.plot(column=\"raster_val\")"
   ]
  },
  {
   "cell_type": "code",
   "execution_count": null,
   "id": "1a66411b",
   "metadata": {},
   "outputs": [],
   "source": [
    "gdf.to_file(out_filename) "
   ]
  }
 ],
 "metadata": {
  "kernelspec": {
   "display_name": "Python 3 (ipykernel)",
   "language": "python",
   "name": "python3"
  },
  "language_info": {
   "codemirror_mode": {
    "name": "ipython",
    "version": 3
   },
   "file_extension": ".py",
   "mimetype": "text/x-python",
   "name": "python",
   "nbconvert_exporter": "python",
   "pygments_lexer": "ipython3",
   "version": "3.9.7"
  }
 },
 "nbformat": 4,
 "nbformat_minor": 5
}
