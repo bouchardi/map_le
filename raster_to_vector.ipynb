{
 "cells": [
  {
   "cell_type": "code",
   "execution_count": 30,
   "id": "30eaae4a",
   "metadata": {},
   "outputs": [
    {
     "name": "stdout",
     "output_type": "stream",
     "text": [
      "The autoreload extension is already loaded. To reload it, use:\n",
      "  %reload_ext autoreload\n"
     ]
    }
   ],
   "source": [
    "import rasterio\n",
    "from rasterio.features import shapes\n",
    "import geopandas\n",
    "from pathlib import Path\n",
    "import matplotlib.pyplot as plt\n",
    "import matplotlib as mpl\n",
    "\n",
    "from utils import raster_to_vector\n",
    "\n",
    "%load_ext autoreload\n",
    "%autoreload 2"
   ]
  },
  {
   "cell_type": "code",
   "execution_count": 69,
   "id": "2a347b91",
   "metadata": {},
   "outputs": [],
   "source": [
    "DATA_PATH = Path(\"data/\")\n",
    "\n",
    "projection = \"arcp4510000502071-2100\"\n",
    "in_filename=DATA_PATH / \"rasters\" / f\"{projection}.asc\"\n",
    "out_filename = f'{projection}.shp'\n",
    "\n",
    "# filename = \"perte_scenario_A_2011-2040_vs_2041-2070\"\n",
    "# in_filename=f\"{filename}.tiff\"\n",
    "# out_filename=f\"{filename}.shp\""
   ]
  },
  {
   "cell_type": "code",
   "execution_count": 70,
   "id": "b8ddae0b",
   "metadata": {},
   "outputs": [],
   "source": [
    "gdf = raster_to_vector(in_filename)"
   ]
  },
  {
   "cell_type": "code",
   "execution_count": 71,
   "id": "f8f7be2c",
   "metadata": {},
   "outputs": [],
   "source": [
    "gdf = gdf[gdf[\"raster_val\"] >= 1]"
   ]
  },
  {
   "cell_type": "code",
   "execution_count": 72,
   "id": "5815f4fd",
   "metadata": {},
   "outputs": [
    {
     "data": {
      "text/html": [
       "<div>\n",
       "<style scoped>\n",
       "    .dataframe tbody tr th:only-of-type {\n",
       "        vertical-align: middle;\n",
       "    }\n",
       "\n",
       "    .dataframe tbody tr th {\n",
       "        vertical-align: top;\n",
       "    }\n",
       "\n",
       "    .dataframe thead th {\n",
       "        text-align: right;\n",
       "    }\n",
       "</style>\n",
       "<table border=\"1\" class=\"dataframe\">\n",
       "  <thead>\n",
       "    <tr style=\"text-align: right;\">\n",
       "      <th></th>\n",
       "      <th>geometry</th>\n",
       "      <th>raster_val</th>\n",
       "    </tr>\n",
       "  </thead>\n",
       "  <tbody>\n",
       "    <tr>\n",
       "      <th>0</th>\n",
       "      <td>POLYGON ((-162.45833 64.95834, -162.45833 64.8...</td>\n",
       "      <td>1.0</td>\n",
       "    </tr>\n",
       "    <tr>\n",
       "      <th>1</th>\n",
       "      <td>POLYGON ((-162.54166 64.87500, -162.54166 64.7...</td>\n",
       "      <td>1.0</td>\n",
       "    </tr>\n",
       "    <tr>\n",
       "      <th>2</th>\n",
       "      <td>POLYGON ((-162.79166 64.70834, -162.79166 64.6...</td>\n",
       "      <td>1.0</td>\n",
       "    </tr>\n",
       "    <tr>\n",
       "      <th>3</th>\n",
       "      <td>POLYGON ((-159.29166 64.70834, -159.29166 64.6...</td>\n",
       "      <td>1.0</td>\n",
       "    </tr>\n",
       "    <tr>\n",
       "      <th>4</th>\n",
       "      <td>POLYGON ((-159.62500 64.70834, -159.45833 64.7...</td>\n",
       "      <td>1.0</td>\n",
       "    </tr>\n",
       "    <tr>\n",
       "      <th>...</th>\n",
       "      <td>...</td>\n",
       "      <td>...</td>\n",
       "    </tr>\n",
       "    <tr>\n",
       "      <th>1526</th>\n",
       "      <td>POLYGON ((-88.87500 30.04167, -88.79167 30.041...</td>\n",
       "      <td>1.0</td>\n",
       "    </tr>\n",
       "    <tr>\n",
       "      <th>1530</th>\n",
       "      <td>POLYGON ((-89.04167 29.54167, -89.04167 29.458...</td>\n",
       "      <td>1.0</td>\n",
       "    </tr>\n",
       "    <tr>\n",
       "      <th>1533</th>\n",
       "      <td>POLYGON ((-103.29167 29.29167, -103.29167 29.1...</td>\n",
       "      <td>1.0</td>\n",
       "    </tr>\n",
       "    <tr>\n",
       "      <th>1535</th>\n",
       "      <td>POLYGON ((-82.54167 29.37500, -82.45833 29.375...</td>\n",
       "      <td>1.0</td>\n",
       "    </tr>\n",
       "    <tr>\n",
       "      <th>1536</th>\n",
       "      <td>POLYGON ((-123.20833 62.87500, -123.12500 62.8...</td>\n",
       "      <td>1.0</td>\n",
       "    </tr>\n",
       "  </tbody>\n",
       "</table>\n",
       "<p>1060 rows × 2 columns</p>\n",
       "</div>"
      ],
      "text/plain": [
       "                                               geometry  raster_val\n",
       "0     POLYGON ((-162.45833 64.95834, -162.45833 64.8...         1.0\n",
       "1     POLYGON ((-162.54166 64.87500, -162.54166 64.7...         1.0\n",
       "2     POLYGON ((-162.79166 64.70834, -162.79166 64.6...         1.0\n",
       "3     POLYGON ((-159.29166 64.70834, -159.29166 64.6...         1.0\n",
       "4     POLYGON ((-159.62500 64.70834, -159.45833 64.7...         1.0\n",
       "...                                                 ...         ...\n",
       "1526  POLYGON ((-88.87500 30.04167, -88.79167 30.041...         1.0\n",
       "1530  POLYGON ((-89.04167 29.54167, -89.04167 29.458...         1.0\n",
       "1533  POLYGON ((-103.29167 29.29167, -103.29167 29.1...         1.0\n",
       "1535  POLYGON ((-82.54167 29.37500, -82.45833 29.375...         1.0\n",
       "1536  POLYGON ((-123.20833 62.87500, -123.12500 62.8...         1.0\n",
       "\n",
       "[1060 rows x 2 columns]"
      ]
     },
     "execution_count": 72,
     "metadata": {},
     "output_type": "execute_result"
    }
   ],
   "source": [
    "gdf"
   ]
  },
  {
   "cell_type": "code",
   "execution_count": 73,
   "id": "5f91a427",
   "metadata": {},
   "outputs": [
    {
     "data": {
      "text/plain": [
       "<AxesSubplot: >"
      ]
     },
     "execution_count": 73,
     "metadata": {},
     "output_type": "execute_result"
    },
    {
     "data": {
      "image/png": "[encoded data removed]",
      "text/plain": [
       "<Figure size 640x480 with 1 Axes>"
      ]
     },
     "metadata": {},
     "output_type": "display_data"
    }
   ],
   "source": [
    "gdf.plot(column=\"raster_val\")"
   ]
  },
  {
   "cell_type": "code",
   "execution_count": 74,
   "id": "1a66411b",
   "metadata": {},
   "outputs": [],
   "source": [
    "gdf.to_file(out_filename) "
   ]
  }
 ],
 "metadata": {
  "kernelspec": {
   "display_name": "Python 3 (ipykernel)",
   "language": "python",
   "name": "python3"
  },
  "language_info": {
   "codemirror_mode": {
    "name": "ipython",
    "version": 3
   },
   "file_extension": ".py",
   "mimetype": "text/x-python",
   "name": "python",
   "nbconvert_exporter": "python",
   "pygments_lexer": "ipython3",
   "version": "3.9.7"
  }
 },
 "nbformat": 4,
 "nbformat_minor": 5
}
