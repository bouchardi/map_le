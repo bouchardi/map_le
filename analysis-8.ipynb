{
 "cells": [
  {
   "cell_type": "markdown",
   "id": "3cc4b321",
   "metadata": {},
   "source": [
    "# Le déplacement de la niche climatique de l’érable au Canada\n",
    "\n",
    "_Par Isabelle Bouchard, analyste de données, et Daniel Blanchette Pelletier, journaliste_\n",
    "\n",
    "\n",
    "L'avenir de l'or ambré de l'est du Canada est-il menacé par les changements climatiques? \n",
    "\n",
    "D'ici la fin du siècle, la zone propice à la croissance de l'érable se déplacerait vers le nord, laissant certaines régions du sud du pays, où sont concentrées les érablières, dans de nouvelles conditions climatiques auxquelles l’acériculture pourrait difficilement s’adapter.\n",
    "\n",
    "L’objectif de notre analyse était de mesurer à quel point les régions actuelles de production du sirop d’érable se retrouveraient d’ici 2100 à l’extérieur de la niche climatique de l’espèce à cause du réchauffement climatique.\n",
    "\n",
    "Pour ce faire, nous avons croisé les données disponibles sur le déplacement de la niche climatique aux données du Recensement de l'agriculture (2021) de Statistique Canada. \n",
    "\n",
    "## Questions de recherche \n",
    "\n",
    "1. Où se situent les zones propices au développement de l’érable au Canada et comment seront-elles affectées par le réchauffement climatique?\n",
    "\n",
    "2. Où se concentre la production de sirop d’érable au Canada. Et comment a-t-elle évolué au fil des ans?\n",
    "\n",
    "3. Croisement des données : quelle proportion des entailles actuelles (et quelles régions du pays) se retrouverait à l’extérieur de la niche climatique de l’érable?\n",
    "\n",
    "## Résumé des résultats\n",
    "\n",
    "Selon notre analyse, la majorité des érablières canadiennes et des entailles (90 %) pourraient se retrouver à l’extérieur de la niche climatique de l’érable d’ici 2100, selon le scénario de réchauffement climatique le plus pessimiste.\n",
    "\n",
    "Les scénarios plus modérés laissent toutefois l’est du Canada en partie à l’intérieur de la niche climatique de l’érable, selon une autre de nos analyses. \n",
    "\n",
    "Le reportage complet sur le sujet peut être consulté ici.\n",
    "\n",
    "### Table des matières :\n",
    "1. Lecture des données\n",
    "2. Création de la table de données de travail\n",
    "3. Visualisation interactive des données\n",
    "4. Réponses aux questions de recherche"
   ]
  },
  {
   "cell_type": "code",
   "execution_count": null,
   "id": "df4e0f7e",
   "metadata": {
    "scrolled": false
   },
   "outputs": [],
   "source": [
    "import warnings\n",
    "import geopandas\n",
    "import rasterio\n",
    "from pathlib import Path\n",
    "import numpy as np\n",
    "import pandas as pd\n",
    "from rasterstats import zonal_stats\n",
    "import matplotlib.pyplot as plt\n",
    "from ipywidgets import interact\n",
    "import matplotlib as mpl\n",
    "from rasterio.plot import show as show_raster\n",
    "import plotly.io as pio\n",
    "from rasterio.mask import mask\n",
    "from shapely.geometry import Polygon\n",
    "from rasterio.transform import Affine\n",
    "from shapely.geometry import box\n",
    "from itables import show\n",
    "\n",
    "from utils import read_raster, reproject_raster, compute_area, zonal_stats_for_value, register_raster, zonal_stats_intersection, zonal_stats_intersection_gain\n",
    "\n",
    "pio.renderers.default = \"notebook+pdf\"\n",
    "plt.rcParams['figure.figsize'] = [25, 15]\n",
    "pd.set_option('display.max_columns', None, 'display.max_rows', None)\n",
    "\n",
    "warnings.filterwarnings('ignore')\n",
    "\n",
    "%load_ext autoreload\n",
    "%autoreload 2\n",
    "\n",
    "\n",
    "def _show(df):\n",
    "    if isinstance(df, geopandas.geodataframe.GeoDataFrame):\n",
    "        df = pd.DataFrame(df.drop(columns=\"geometry\"))\n",
    "\n",
    "    show(df)"
   ]
  },
  {
   "cell_type": "markdown",
   "id": "27c4f808",
   "metadata": {},
   "source": [
    "## Définition des variables "
   ]
  },
  {
   "cell_type": "code",
   "execution_count": null,
   "id": "90aef686",
   "metadata": {
    "scrolled": false
   },
   "outputs": [],
   "source": [
    "DATA_PATH = Path(\"data/\")\n",
    "CRS = \"EPSG:4326\""
   ]
  },
  {
   "cell_type": "markdown",
   "id": "45071a10",
   "metadata": {},
   "source": [
    "# 1. Lecture des données "
   ]
  },
  {
   "cell_type": "markdown",
   "id": "86fc27c8",
   "metadata": {},
   "source": [
    "### 1.1. Données d'exploitations acéricoles et d'entailles d'érables\n",
    "\n",
    "Les données d'exploitations et d'entailles proviennent de Statistique Canada. On télécharge les données pour [2011, 2016](https://www150.statcan.gc.ca/t1/tbl1/fr/cv!recreate.action?pid=3210042301&selectedNodeIds=&checkedLevels=0D1,0D2,0D3,0D4,0D5,1D1&refPeriods=20110101,20160101&dimensionLayouts=layout3,layout3,layout2&vectorDisplay=false) et [2021](https://www150.statcan.gc.ca/t1/tbl1/fr/cv.action?pid=3210036201), par région agricole de recensement (RAR).\n",
    "\n",
    "On télécharge également les données par Division de Recensement (CD) ou Région Agricole de Recensement (RAR), selon la province. À noter que ces données ne sont utilisées que pour la visualisation des régions, et non pour l'analyse."
   ]
  },
  {
   "cell_type": "code",
   "execution_count": null,
   "id": "1523a6eb",
   "metadata": {
    "scrolled": false
   },
   "outputs": [],
   "source": [
    "level = \"RAR\"\n",
    "\n",
    "df_farms = pd.concat(\n",
    "    [\n",
    "        pd.read_csv(DATA_PATH / \"fermes\" / f\"{level}_2021.csv\", delimiter=\";\"), \n",
    "        pd.read_csv(DATA_PATH / \"fermes\" / f\"{level}_2011_2016.csv\", delimiter=\";\"), \n",
    "    ]\n",
    ").drop(\n",
    "    [\n",
    "        \"UNITÉ DE MESURE\", \n",
    "        \"IDENTIFICATEUR D'UNITÉ DE MESURE\", \n",
    "        \"FACTEUR SCALAIRE\", \n",
    "        \"VECTEUR\", \n",
    "        \"COORDONNÉES\", \n",
    "        \"IDENTIFICATEUR SCALAIRE\", \n",
    "        \"STATUS\", \n",
    "        \"SYMBOLE\", \n",
    "        \"TERMINÉ\", \n",
    "        \"DÉCIMALES\"\n",
    "    ], \n",
    "    axis=1\n",
    ").reset_index()\n",
    "\n",
    "df_farms[\"GÉO\"] = df_farms.apply(\n",
    "    lambda row: row[\"GÉO\"].split(\" [\")[0], \n",
    "    axis=1\n",
    ")\n",
    "\n",
    "df_farms[\"DGUID\"] = df_farms.apply(\n",
    "    lambda row: row[\"DGUID\"][4:], \n",
    "    axis=1\n",
    ")\n",
    "\n",
    "\n",
    "df_farms = df_farms.replace(\n",
    "    \"Nombre d'exploitations déclarantes\", \n",
    "    \"num_exploitations\"\n",
    ").replace(\n",
    "    \"Nombre d'entailles\", \n",
    "    \"num_entailles\"\n",
    ").replace(\n",
    "    \"Nombre de fermes déclarantes\", \n",
    "    \"num_exploitations\"\n",
    ").pivot(\n",
    "    index=[\"GÉO\", \"DGUID\"], \n",
    "    columns=[\"PÉRIODE DE RÉFÉRENCE\", \"Entailles d'érables\"], \n",
    "    values=\"VALEUR\"\n",
    ")\n",
    "\n",
    "df_farms.columns = [f\"{x}_{y}\" for x, y in df_farms.columns.to_flat_index()]\n",
    "\n",
    "_show(df_farms)"
   ]
  },
  {
   "cell_type": "code",
   "execution_count": null,
   "id": "76b8f1f1",
   "metadata": {
    "scrolled": false
   },
   "outputs": [],
   "source": [
    "def read_farms_df(level, provinces):\n",
    "    farms = pd.read_csv(\n",
    "        DATA_PATH / \"fermes\" / f\"{level}_2021.csv\", delimiter=\";\"\n",
    "    ).drop(\n",
    "        [\n",
    "            \"UNITÉ DE MESURE\", \n",
    "            \"IDENTIFICATEUR D'UNITÉ DE MESURE\", \n",
    "            \"FACTEUR SCALAIRE\", \n",
    "            \"VECTEUR\", \n",
    "            \"COORDONNÉES\", \n",
    "            \"IDENTIFICATEUR SCALAIRE\", \n",
    "            \"STATUS\", \n",
    "            \"SYMBOLE\", \n",
    "            \"TERMINÉ\", \n",
    "            \"DÉCIMALES\"\n",
    "        ], \n",
    "        axis=1\n",
    "    ).reset_index()\n",
    "\n",
    "    farms[\"GÉO\"] = farms.apply(\n",
    "        lambda row: row[\"GÉO\"].split(\" [\")[0], \n",
    "        axis=1\n",
    "    )\n",
    "\n",
    "    farms[\"DGUID\"] = farms.apply(\n",
    "        lambda row: row[\"DGUID\"][4:], \n",
    "        axis=1\n",
    "    )\n",
    "\n",
    "    farms[\"Province\"] = farms.apply(\n",
    "        lambda row: row[\"GÉO\"].split(\", \")[-1], \n",
    "        axis=1\n",
    "    )\n",
    "\n",
    "    farms = farms[farms[\"Province\"].isin(provinces)]\n",
    "\n",
    "    farms = farms.replace(\n",
    "        \"Nombre d'exploitations déclarantes\", \n",
    "        \"num_exploitations\"\n",
    "    ).replace(\n",
    "        \"Nombre d'entailles\", \n",
    "        \"num_entailles\"\n",
    "    ).replace(\n",
    "        \"Nombre de fermes déclarantes\", \n",
    "        \"num_exploitations\"\n",
    "    ).pivot(\n",
    "        index=[\"GÉO\", \"DGUID\"], \n",
    "        columns=[\"PÉRIODE DE RÉFÉRENCE\", \"Entailles d'érables\"], \n",
    "        values=\"VALEUR\"\n",
    "    )\n",
    "\n",
    "    farms.columns = [f\"{x}_{y}\" for x, y in farms.columns.to_flat_index()]\n",
    "    farms[\"level\"] = level\n",
    "    \n",
    "    return farms\n",
    "\n",
    "\n",
    "df_farms_RAR = read_farms_df(\n",
    "    \"RAR\", \n",
    "    provinces=[\n",
    "        \"Québec\", \n",
    "        \"Terre-Neuve-et-Labrador\", \n",
    "        \"Manitoba\", \n",
    "        \"Saskatchewan\",  \n",
    "        \"Alberta\",    \n",
    "        \"Colombie-Britannique\",\n",
    "])\n",
    "df_farms_CD = read_farms_df(\n",
    "    \"CD\", \n",
    "    provinces=[\n",
    "        \"Ontario\", \n",
    "        \"Nouveau-Brunswick\",\n",
    "        \"Nouvelle-Écosse\", \n",
    "        \"Île-du-Prince-Édouard\", \n",
    "])\n",
    "\n",
    "_show(df_farms_CD)"
   ]
  },
  {
   "cell_type": "markdown",
   "id": "4b58f03d",
   "metadata": {},
   "source": [
    "### 1.2. Fichiers des limites géographiques\n",
    "\n",
    "On télécharge également les fichiers des [limites géographiques des régions agricoles de recensement (RAR)](https://www12.statcan.gc.ca/census-recensement/2021/geo/sip-pis/boundary-limites/index2021-fra.cfm?year=21) à partir du site de Statistique Canada."
   ]
  },
  {
   "cell_type": "code",
   "execution_count": null,
   "id": "37b5ae95",
   "metadata": {
    "scrolled": false
   },
   "outputs": [],
   "source": [
    "df_boundaries = geopandas.read_file(\n",
    "    DATA_PATH / \"boundaries\" / \"lcar000b21a_e.shp\"\n",
    ").to_crs(\n",
    "    CRS\n",
    ").drop(\n",
    "    [\"CARUID\", \"CARENAME\", \"LANDAREA\"], \n",
    "    axis=1\n",
    ").rename(\n",
    "    columns={\"CARFNAME\": \"area_name\"}\n",
    ")\n",
    "\n",
    "df_boundaries[\"DGUID\"] = df_boundaries.apply(\n",
    "    lambda row: row[\"DGUID\"][4:], \n",
    "    axis=1\n",
    ")\n",
    "\n",
    "df_boundaries[\"total_area\"] = compute_area(df_boundaries)\n",
    "\n",
    "_show(df_boundaries)"
   ]
  },
  {
   "cell_type": "markdown",
   "id": "e04445ca",
   "metadata": {},
   "source": [
    "On visualise les limites géographiques des Régions Agricoles de Recensement."
   ]
  },
  {
   "cell_type": "code",
   "execution_count": null,
   "id": "e7d01ac9",
   "metadata": {
    "scrolled": false
   },
   "outputs": [],
   "source": [
    "df_boundaries.plot()"
   ]
  },
  {
   "cell_type": "markdown",
   "id": "58029e0a",
   "metadata": {},
   "source": [
    "On télécharge également les fichiers des [limites géographiques des divisions de recensement (CD)](https://www12.statcan.gc.ca/census-recensement/2021/geo/sip-pis/boundary-limites/index2021-fra.cfm?year=21) à partir du site de Statistique Canada."
   ]
  },
  {
   "cell_type": "code",
   "execution_count": null,
   "id": "aa503dd3",
   "metadata": {
    "scrolled": false
   },
   "outputs": [],
   "source": [
    "df_boundaries_CD = geopandas.read_file(\n",
    "    DATA_PATH / \"boundaries\" / \"ldr_000b21a_f.shp\"\n",
    ").to_crs(\n",
    "    CRS\n",
    ").drop(\n",
    "    [\"DRIDU\", \"DRGENRE\", \"SUPTERRE\"], \n",
    "    axis=1\n",
    ").rename(\n",
    "    columns={\n",
    "        \"DRNOM\": \"area_name\", \n",
    "        \"IDUGD\": \"DGUID\", \n",
    "        \"PRIDU\": \"PRUID\"\n",
    "    }\n",
    ")\n",
    "\n",
    "df_boundaries_CD[\"DGUID\"] = df_boundaries_CD.apply(\n",
    "    lambda row: row[\"DGUID\"][4:], \n",
    "    axis=1\n",
    ")\n",
    "\n",
    "_show(df_boundaries_CD)"
   ]
  },
  {
   "cell_type": "markdown",
   "id": "964a15b1",
   "metadata": {},
   "source": [
    "On visualise les limites géographiques des Divisions de Recensement."
   ]
  },
  {
   "cell_type": "code",
   "execution_count": null,
   "id": "12e68fcc",
   "metadata": {
    "scrolled": false
   },
   "outputs": [],
   "source": [
    "df_boundaries_CD.plot()"
   ]
  },
  {
   "cell_type": "markdown",
   "id": "37158bd2",
   "metadata": {},
   "source": [
    "### 1.3. Projections de l'enveloppe climatique propice à l'érable \n",
    "\n",
    "On télécharge ensuite les fichiers de projections climatiques pour l'érable à sucre et l’érable rouge (selon le scénario SDM ANUCLIM et le RCP 8.5) pour les horizons 2011-2040, 2041-2070 et 2071-2100.\n",
    "\n",
    "On considère une enveloppe \"marginale\" et une enveloppe \"core\", selon les définitions suivantes :\n",
    "- \"marginale\" : enveloppe climatique pour une période définie calibrée selon le min/max des conditions climatiques observées durant la période de référence.\n",
    "- \"core\" : Enveloppe climatique selon le 5e à 95e centile des conditions climatiques observées durant la période de référence \n",
    "\n",
    "_Source : https://protect-eu.mimecast.com/s/G3lTCVNkkFqzB6DHGqvem?domain=planthardiness.gc.ca ET McKENNEY, D. W., Pedlar, J. H., Rood, R. B., & Price, D. (2011). Revisiting projected shifts in the climate envelopes of North American trees using updated general circulation models. Global Change Biology, 17(8), 2720-2730._"
   ]
  },
  {
   "cell_type": "markdown",
   "id": "1327bd8a",
   "metadata": {},
   "source": [
    "#### 1.3.1. Projection 2011-2040"
   ]
  },
  {
   "cell_type": "code",
   "execution_count": null,
   "id": "c60b201c",
   "metadata": {
    "scrolled": false
   },
   "outputs": [],
   "source": [
    "filename = DATA_PATH / \"rasters\" / \"arcp8510000532011-2040.asc\"\n",
    "\n",
    "raster_2011_2040 = read_raster(filename, crs=CRS)\n",
    "    \n",
    "cmap = mpl.colors.ListedColormap(['black', 'yellow', 'orange'])\n",
    "bounds = [raster_2011_2040.nodata, 1, 3, 4]\n",
    "norm = mpl.colors.BoundaryNorm(bounds, cmap.N)\n",
    "\n",
    "raster_2011_2040_data = raster_2011_2040.read(1)\n",
    "plt.imshow(raster_2011_2040_data, cmap=cmap, norm=norm, alpha=0.5)\n",
    "plt.show()"
   ]
  },
  {
   "cell_type": "markdown",
   "id": "f5ab9ea7",
   "metadata": {},
   "source": [
    "#### 1.3.2. Projection 2041-2070"
   ]
  },
  {
   "cell_type": "code",
   "execution_count": null,
   "id": "da7e9a49",
   "metadata": {
    "scrolled": false
   },
   "outputs": [],
   "source": [
    "filename = DATA_PATH / \"rasters\" / \"arcp8510000532041-2070.asc\"\n",
    "\n",
    "raster_2041_2070 = read_raster(filename, crs=CRS)\n",
    "\n",
    "raster_2041_2070_data = raster_2041_2070.read(1)\n",
    "plt.imshow(raster_2041_2070_data, cmap=cmap, norm=norm, alpha=0.5)\n",
    "plt.show()"
   ]
  },
  {
   "cell_type": "markdown",
   "id": "4d567399",
   "metadata": {},
   "source": [
    "#### 1.3.3. Projection 2071-2100"
   ]
  },
  {
   "cell_type": "code",
   "execution_count": null,
   "id": "ae1faf33",
   "metadata": {
    "scrolled": false
   },
   "outputs": [],
   "source": [
    "filename = DATA_PATH / \"rasters\" / \"arcp8510000532071-2100.asc\"\n",
    "raster_2071_2100 = read_raster(filename, crs=CRS)\n",
    "\n",
    "raster_2071_2100_data = raster_2071_2100.read(1)\n",
    "plt.imshow(raster_2071_2100_data, cmap=cmap, norm=norm, alpha=0.5)\n",
    "plt.show()"
   ]
  },
  {
   "cell_type": "markdown",
   "id": "69fe1aa3",
   "metadata": {},
   "source": [
    "### 1.4. Limites de la forêt boréale\n",
    "\n",
    "On télécharge ensuite le fichier des limites des [zones de végétation du Canada](https://open.canada.ca/data/fr/dataset/22b0166b-9db3-46b7-9baf-6584a3acc7b1). "
   ]
  },
  {
   "cell_type": "code",
   "execution_count": null,
   "id": "b65b6ca5",
   "metadata": {
    "scrolled": false
   },
   "outputs": [],
   "source": [
    "vegetation_zones_df = geopandas.read_file(\n",
    "    DATA_PATH / \"vegetation\" / \"vegetation_zones_of_canada_2020.shp\"\n",
    ").to_crs(\n",
    "    CRS\n",
    ")\n",
    "\n",
    "vegetation_zones_df.plot(column='niveau_1', legend=True)"
   ]
  },
  {
   "cell_type": "markdown",
   "id": "e49366f3",
   "metadata": {},
   "source": [
    "### 1.5. Biomasse de l'érable\n",
    "\n",
    "Référence: [https://cdnsciencepub.com/doi/10.1139/cjfr-2013-0401](https://cdnsciencepub.com/doi/10.1139/cjfr-2013-0401)"
   ]
  },
  {
   "cell_type": "code",
   "execution_count": null,
   "id": "a3f3380e",
   "metadata": {
    "scrolled": true
   },
   "outputs": [],
   "source": [
    "biomass_raster = read_raster(DATA_PATH / \"cartography\" / \"ACESAC_volume_250m_final-100.tif\", crs=CRS)\n",
    "\n",
    "biomass_raster_data = biomass_raster.read(1)\n",
    "biomass_raster_data[biomass_raster_data < 0] = -1\n",
    "biomass_raster_data[biomass_raster_data > 20] = 20\n",
    "plt.imshow(biomass_raster_data)\n",
    "plt.show()"
   ]
  },
  {
   "cell_type": "markdown",
   "id": "606369df",
   "metadata": {},
   "source": [
    "### 1.6. Aires colonisées par l'érable\n",
    "\n",
    "On télécharge également les fichiers des [aires colonisées par l'érable](https://doi.org/10.1111/ddi.13630)."
   ]
  },
  {
   "cell_type": "code",
   "execution_count": null,
   "id": "14cdd958",
   "metadata": {
    "scrolled": true
   },
   "outputs": [],
   "source": [
    "colonized_areas_raster = read_raster(DATA_PATH / \"colonized\" / \"ACESAC_250_iniDist.tiff\", crs=CRS)\n",
    "\n",
    "colonized_areas_raster_data = colonized_areas_raster.read(1)\n",
    "colonized_areas_raster_data[np.where(colonized_areas_raster_data < 0)] = 0\n",
    "plt.imshow(colonized_areas_raster_data)\n",
    "plt.show()"
   ]
  },
  {
   "cell_type": "markdown",
   "id": "118f9d2c",
   "metadata": {},
   "source": [
    "# 2. Création de la table de données de travail"
   ]
  },
  {
   "cell_type": "markdown",
   "id": "b7ca9952",
   "metadata": {},
   "source": [
    "## 2.1. Projections climatiques"
   ]
  },
  {
   "cell_type": "markdown",
   "id": "93b5dc9e",
   "metadata": {},
   "source": [
    "### 2.1.2. Calcul de l'aire des enveloppes climatiques par région\n",
    "\n",
    "Pour chacune des régions agricoles de recensement, on calcule l'aire de l'enveloppe cimatique intersectant chacune des régions pour chacune des catégories (\"marginale\", \"core\" et \"autres\")."
   ]
  },
  {
   "cell_type": "code",
   "execution_count": null,
   "id": "704d2a45",
   "metadata": {
    "scrolled": true
   },
   "outputs": [],
   "source": [
    "for value, name in [\n",
    "    (1, \"marginal\"), \n",
    "    (3, \"core\"), \n",
    "    (raster_2011_2040.nodata, \"rest\")\n",
    "]:\n",
    "    df_boundaries[f\"{name}_2011-2040\"] = zonal_stats_for_value(\n",
    "        raster=raster_2011_2040, \n",
    "        vectors=df_boundaries[\"geometry\"], \n",
    "        value=value, \n",
    "        data_value=100, \n",
    "        stats=\"count\", \n",
    "        resolution=2.5\n",
    "    )\n",
    "    df_boundaries[f\"{name}_2041-2070\"] = zonal_stats_for_value(\n",
    "        raster=raster_2041_2070, \n",
    "        vectors=df_boundaries[\"geometry\"], \n",
    "        value=value, \n",
    "        data_value=100, \n",
    "        stats=\"count\", \n",
    "        resolution=2.5\n",
    "    )\n",
    "    df_boundaries[f\"{name}_2071-2100\"] = zonal_stats_for_value(\n",
    "        raster=raster_2071_2100, \n",
    "        vectors=df_boundaries[\"geometry\"], \n",
    "        value=value, \n",
    "        data_value=100, \n",
    "        stats=\"count\", \n",
    "        resolution=2.5\n",
    "    )"
   ]
  },
  {
   "cell_type": "markdown",
   "id": "7b4f41cc",
   "metadata": {},
   "source": [
    "### 2.1.2. Intersection des projections\n",
    "\n",
    "Pour chacune des régions, on calcule l'aire de chacune des régions à l'intérieur de l'enveloppe climatique en 2011-2040 qui l'est encore dans la période de projection donnée (soit 2041-2070 ou 2071-2100).\n",
    "\n",
    "On recalle d'abord les images à partir des limites géographiques des trois projections."
   ]
  },
  {
   "cell_type": "code",
   "execution_count": null,
   "id": "23c0bcdc",
   "metadata": {
    "scrolled": false
   },
   "outputs": [],
   "source": [
    "resolution = raster_2011_2040.res[0]\n",
    "\n",
    "box1 = box(*raster_2011_2040.bounds)\n",
    "box2 = box(*raster_2041_2070.bounds)\n",
    "box3 = box(*raster_2071_2100.bounds)\n",
    "\n",
    "intersection = box1.intersection(box2).intersection(box3)\n",
    "\n",
    "registered_raster_2011_2040 = register_raster(raster_2011_2040, intersection)\n",
    "registered_raster_2041_2070 = register_raster(raster_2041_2070, intersection)\n",
    "registered_raster_2071_2100 = register_raster(raster_2071_2100, intersection)\n",
    "\n",
    "transform = Affine(\n",
    "    resolution,\n",
    "    0.0,\n",
    "    intersection.bounds[0],\n",
    "    0.0,\n",
    "    -resolution,\n",
    "    intersection.bounds[3]\n",
    ")\n",
    "\n",
    "stats, marginal_2011_and_2041_raster = zonal_stats_intersection(\n",
    "    df_boundaries['geometry'], \n",
    "    registered_raster_2011_2040, \n",
    "    registered_raster_2041_2070, \n",
    "    affine=transform, \n",
    "    data_values=[1, 3], \n",
    "    nodata_value=-999, \n",
    "    resolution=2.5\n",
    ")\n",
    "df_boundaries[f\"core_or_marginal_2011_and_2041\"] = stats\n",
    "\n",
    "stats, core_2011_and_2041_raster = zonal_stats_intersection(\n",
    "    df_boundaries['geometry'], \n",
    "    registered_raster_2011_2040, \n",
    "    registered_raster_2041_2070, \n",
    "    affine=transform, \n",
    "    data_values=[3], \n",
    "    nodata_value=-999, \n",
    "    resolution=2.5\n",
    ")\n",
    "df_boundaries[f\"core_2011_and_2041\"] = stats\n",
    "    \n",
    "stats, marginal_2011_and_2071_raster = zonal_stats_intersection(\n",
    "    df_boundaries['geometry'], \n",
    "    registered_raster_2011_2040, \n",
    "    registered_raster_2071_2100, \n",
    "    affine=transform, \n",
    "    data_values=[1, 3], \n",
    "    nodata_value=-999, \n",
    "    resolution=2.5\n",
    ")\n",
    "df_boundaries[f\"core_or_marginal_2011_and_2071\"] = stats\n",
    "\n",
    "stats, core_2011_and_2071_raster = zonal_stats_intersection(\n",
    "    df_boundaries['geometry'], \n",
    "    registered_raster_2011_2040, \n",
    "    registered_raster_2071_2100, \n",
    "    affine=transform, \n",
    "    data_values=[3], \n",
    "    nodata_value=-999, \n",
    "    resolution=2.5\n",
    ")\n",
    "df_boundaries[f\"core_2011_and_2071\"] = stats"
   ]
  },
  {
   "cell_type": "markdown",
   "id": "5119b159",
   "metadata": {},
   "source": [
    "## 2.2. Combinaison des données de pertes et de gains de territoire avec les données d'entailles et d'exploitations\n",
    "\n",
    "On joint les données téléchargées dans un dataframe comprenant toutes les informations requises pour répondre aux questions de recherche. On calcule quelques statistiques préalables et on nettoie la table de données finale."
   ]
  },
  {
   "cell_type": "code",
   "execution_count": null,
   "id": "10918505",
   "metadata": {
    "scrolled": false
   },
   "outputs": [],
   "source": [
    "df = pd.merge(\n",
    "    df_boundaries, \n",
    "    df_farms, \n",
    "    on=\"DGUID\"\n",
    ")\n",
    "\n",
    "pr_df = pd.DataFrame({\n",
    "    \"PRUID\": [\"10\", \"11\", \"12\", \"13\", \"24\", \"35\", \"46\", \"47\", \"48\", \"59\", \"60\", \"61\", \"62\"], \n",
    "    \"province\": [\n",
    "        \"Terre-Neuve-et-Labrador\", \n",
    "        \"Île-du-Prince-Édouard\", \n",
    "        \"Nouvelle-Écosse\",\n",
    "        \"Nouveau-Brunswick\",\n",
    "        \"Québec\",\n",
    "        \"Ontario\",\n",
    "        \"Manitoba\",\n",
    "        \"Saskatchewan\",\n",
    "        \"Alberta\",\n",
    "        \"Colombie-Britannique\",\n",
    "        \"Yukon\",\n",
    "        \"Territoires du Nord-Ouest\",\n",
    "        \"Nunavut\"\n",
    "    ]\n",
    "}\n",
    ")\n",
    "\n",
    "df = df.merge(\n",
    "    pr_df, \n",
    "    on=\"PRUID\"\n",
    ").drop(\"PRUID\", axis=1)\n",
    "\n",
    "df[\"rank_entailles\"] = df[\"2021_num_entailles\"].rank(\n",
    "    method=\"min\", \n",
    "    na_option=\"bottom\", \n",
    "    ascending=False\n",
    ")\n",
    "df[\"rank_exploitations\"] = df[\"2021_num_exploitations\"].rank(\n",
    "    method=\"min\", \n",
    "    na_option=\"bottom\", \n",
    "    ascending=False\n",
    ")\n",
    "\n",
    "df = df.rename({\n",
    "    \"all_2011-2040\": \"rest_2011-2040\", \n",
    "    \"all_2041-2070\": \"rest_2041-2070\", \n",
    "    \"all_2071-2100\": \"rest_2071-2100\", \n",
    "}, axis=1)\n",
    "\n",
    "_show(df)"
   ]
  },
  {
   "cell_type": "markdown",
   "id": "edc3060f",
   "metadata": {},
   "source": [
    "On crée également une table de données avec différents niveaux de délimitation des régions (CD ou RAR) selon la province. Ces données ne seront utilisées que pour la visualisation."
   ]
  },
  {
   "cell_type": "code",
   "execution_count": null,
   "id": "78721c03",
   "metadata": {
    "scrolled": true
   },
   "outputs": [],
   "source": [
    "df_CD_and_RAR = geopandas.GeoDataFrame(\n",
    "    pd.concat([\n",
    "        pd.merge(\n",
    "            df_farms_CD,\n",
    "            df_boundaries_CD,  \n",
    "            on=\"DGUID\", \n",
    "            how=\"left\"\n",
    "        ),  \n",
    "        pd.merge(\n",
    "            df_farms_RAR,\n",
    "            df_boundaries,  \n",
    "            on=\"DGUID\", \n",
    "            how=\"left\"\n",
    "        )\n",
    "    ])\n",
    ")"
   ]
  },
  {
   "cell_type": "markdown",
   "id": "237f7476",
   "metadata": {},
   "source": [
    "# 3. Visualisation des données \n",
    "\n",
    "## 3.1. Projection des niches climatiques et des entailles\n",
    "\n",
    "On visualise la distribution des entailles en 2021 par rapport à la carte des niches climatiques.\n",
    "\n",
    "La niche climatique marginale est en jaune et la niche climatique core, en orange. Les cercles bleus pointent vers le centroïde de chacune des régions agricoles de recensement et la taille du cercle est proportionnelle au nombre d'entailles en 2021.\n",
    "\n",
    "\n",
    "### 3.1.2. Vue d'ensemble\n",
    "\n",
    "#### Projection 2011-2040"
   ]
  },
  {
   "cell_type": "code",
   "execution_count": null,
   "id": "36a601e0",
   "metadata": {
    "scrolled": false
   },
   "outputs": [],
   "source": [
    "def _plot(df, raster, markersize_factor=50000, extent=None):\n",
    "    fig, ax = plt.subplots()\n",
    "\n",
    "    ax = show_raster(\n",
    "        raster, \n",
    "        extent=[\n",
    "            raster.bounds[0], \n",
    "            raster.bounds[2], \n",
    "            raster.bounds[1], \n",
    "            raster.bounds[3]\n",
    "        ], \n",
    "        alpha=0.5,\n",
    "        cmap=cmap, \n",
    "        norm=norm,\n",
    "        with_bounds=True, \n",
    "        ax=ax\n",
    "    )\n",
    "\n",
    "    df.boundary.plot(ax=ax, lw=0.15, color=\"black\")\n",
    "    df.centroid.plot(\n",
    "        markersize=df['2021_num_entailles'] / markersize_factor, \n",
    "        alpha=0.5,\n",
    "        color=\"DarkTurquoise\", \n",
    "        ax=ax\n",
    "    )\n",
    "    \n",
    "_plot(df_CD_and_RAR, raster_2011_2040)"
   ]
  },
  {
   "cell_type": "markdown",
   "id": "12967392",
   "metadata": {},
   "source": [
    "#### Projection 2041-2070"
   ]
  },
  {
   "cell_type": "code",
   "execution_count": null,
   "id": "6edebe5a",
   "metadata": {
    "scrolled": false
   },
   "outputs": [],
   "source": [
    "_plot(df_CD_and_RAR, raster_2041_2070)"
   ]
  },
  {
   "cell_type": "markdown",
   "id": "29cc1778",
   "metadata": {},
   "source": [
    "#### Projection 2071-2100"
   ]
  },
  {
   "cell_type": "code",
   "execution_count": null,
   "id": "4f0cf001",
   "metadata": {
    "scrolled": false
   },
   "outputs": [],
   "source": [
    "_plot(df_CD_and_RAR, raster_2071_2100)"
   ]
  },
  {
   "cell_type": "markdown",
   "id": "f3c07a42",
   "metadata": {},
   "source": [
    "### 3.1.2. Vue concentrée"
   ]
  },
  {
   "cell_type": "markdown",
   "id": "10451392",
   "metadata": {},
   "source": [
    "On zoom ici sur l'Est du pays, où se concentre la production acéricole.\n",
    "\n",
    "#### Projection 2011-2040"
   ]
  },
  {
   "cell_type": "code",
   "execution_count": null,
   "id": "9ac85d5e",
   "metadata": {
    "scrolled": false
   },
   "outputs": [],
   "source": [
    "def _plot_zoom(df, raster, markersize_factor=5000):\n",
    "    xmin = -90\n",
    "    xmax = -40\n",
    "    ymin = 42\n",
    "    ymax = 55\n",
    "    \n",
    "    crop_df = df.cx[xmin: xmax, ymin: ymax]\n",
    "    \n",
    "    xmin = min(crop_df.bounds[\"minx\"])\n",
    "    ymin = min(crop_df.bounds[\"miny\"])\n",
    "    xmax = max(crop_df.bounds[\"maxx\"])\n",
    "    ymax = max(crop_df.bounds[\"maxy\"])\n",
    "    \n",
    "    fig, ax = plt.subplots()\n",
    "    \n",
    "    out_image, out_transform = mask(\n",
    "        raster, \n",
    "        [Polygon(((xmin, ymin), (xmax, ymin) ,(xmax, ymax), (xmin, ymax),  (xmin, ymin)))], \n",
    "        crop=True\n",
    "    )\n",
    "\n",
    "    ax = show_raster(\n",
    "        out_image, \n",
    "        transform=out_transform, \n",
    "        alpha=0.5,\n",
    "        cmap=cmap, \n",
    "        norm=norm,\n",
    "        with_bounds=True, \n",
    "        ax=ax\n",
    "    )\n",
    "\n",
    "    crop_df.boundary.plot(ax=ax, lw=0.75, color=\"black\")\n",
    "    \n",
    "    centroids = crop_df.centroid\n",
    "    centroids.plot(\n",
    "        markersize=crop_df['2021_num_entailles'] / markersize_factor, \n",
    "        alpha=0.35,\n",
    "        color=\"DarkTurquoise\", \n",
    "        ax=ax, \n",
    "    )\n",
    "    centroids.plot(\n",
    "        markersize=3,\n",
    "        alpha=1,\n",
    "        color=\"DarkSlateGrey\", \n",
    "        ax=ax, \n",
    "    )\n",
    "\n",
    "    ax.set_axis_off()\n",
    "    \n",
    "_plot_zoom(df_CD_and_RAR, raster_2011_2040)"
   ]
  },
  {
   "cell_type": "markdown",
   "id": "5642f4c6",
   "metadata": {},
   "source": [
    "#### Projection 2041-2070"
   ]
  },
  {
   "cell_type": "code",
   "execution_count": null,
   "id": "f57c61b2",
   "metadata": {
    "scrolled": false
   },
   "outputs": [],
   "source": [
    "_plot_zoom(df_CD_and_RAR, raster_2041_2070)"
   ]
  },
  {
   "cell_type": "markdown",
   "id": "9b114515",
   "metadata": {},
   "source": [
    "#### Projection 2071-2100"
   ]
  },
  {
   "cell_type": "code",
   "execution_count": null,
   "id": "c7ac2a38",
   "metadata": {
    "scrolled": false
   },
   "outputs": [],
   "source": [
    "_plot_zoom(df_CD_and_RAR, raster_2071_2100)"
   ]
  },
  {
   "cell_type": "markdown",
   "id": "85f61e77",
   "metadata": {},
   "source": [
    "## 3.2. Déplacement des niches climatiques\n",
    "\n",
    "On visualise maintenant les régions qui gagnent ou perdent les conditions favorables au développement de l'érable. On croise ces données avec les types de végétation.\n",
    "\n",
    "### 3.2.1. Pertes de conditions favorables \n",
    "\n",
    "On observe en rouge les régions qui faisaient partie de la niche climatique dans la période de projection initiale (2011-2040), mais qui n'en font plus partie dans la période de projection finale.\n",
    "\n",
    "#### Conditions cores seulement : 2011-2040 à 2041-2070"
   ]
  },
  {
   "cell_type": "code",
   "execution_count": null,
   "id": "b8192c73",
   "metadata": {
    "scrolled": false
   },
   "outputs": [],
   "source": [
    "def _plot_lost_terrain(df1, df2, raster1, raster2, extent, data_value, color, nodata_value=-999, markersize_factor=50000):\n",
    "    new_raster = np.ones(raster1.shape) * nodata_value\n",
    "    new_raster[np.where((raster1 >= data_value) & (raster2 < data_value))] = 1\n",
    "    \n",
    "    fig, ax = plt.subplots()\n",
    "\n",
    "    cmap = mpl.colors.ListedColormap(['white', color])\n",
    "    bounds = [nodata_value, 1, 3]\n",
    "    norm = mpl.colors.BoundaryNorm(bounds, cmap.N)\n",
    "\n",
    "    \n",
    "    ax = show_raster(\n",
    "        new_raster,\n",
    "        extent=extent,\n",
    "        alpha=0.3,\n",
    "        cmap=cmap, \n",
    "        norm=norm,\n",
    "        with_bounds=True, \n",
    "        ax=ax\n",
    "    )\n",
    "\n",
    "    df1.boundary.plot(ax=ax, lw=0.15, color=\"black\")\n",
    "    df2.plot(ax=ax, column=\"niveau_1\", alpha=0.2, legend=True)\n",
    "\n",
    "    \n",
    "def lost_to_file(filename, raster1, raster2, raster_ref, data_value):\n",
    "    out_meta = raster_ref.meta.copy()\n",
    "\n",
    "    out_meta.update({\n",
    "        'driver': 'GTiff',\n",
    "        'width': raster_ref.shape[1],\n",
    "        'height': raster_ref.shape[0],\n",
    "        'count': 1,\n",
    "        'dtype': 'float64',\n",
    "        'crs': raster_ref.crs, \n",
    "        'transform': raster_ref.transform,\n",
    "        'nodata': 0\n",
    "    })\n",
    "\n",
    "    new_raster = np.ones(raster1.shape) * raster_ref.nodata\n",
    "    new_raster[np.where((raster1 >= data_value) & (raster2 < data_value))] = 1\n",
    "\n",
    "    with rasterio.open(fp=filename, mode='w',**out_meta) as dst:\n",
    "        dst.write(new_raster.astype(np.int), 1)\n",
    "        \n",
    "        \n",
    "lost_to_file(\n",
    "    \"perte_scenario_A_2011-2040_vs_2041-2070.tiff\",\n",
    "    registered_raster_2011_2040, \n",
    "    registered_raster_2041_2070, \n",
    "    raster_2011_2040, \n",
    "    data_value=3\n",
    ")\n",
    "    \n",
    "_plot_lost_terrain(\n",
    "    df_CD_and_RAR,\n",
    "    vegetation_zones_df, \n",
    "    registered_raster_2011_2040, \n",
    "    registered_raster_2041_2070, \n",
    "    extent=[\n",
    "        raster_2011_2040.bounds[0], \n",
    "        raster_2011_2040.bounds[2], \n",
    "        raster_2011_2040.bounds[1], \n",
    "        raster_2011_2040.bounds[3]\n",
    "    ], \n",
    "    data_value=3, \n",
    "    color=\"red\"\n",
    ")"
   ]
  },
  {
   "cell_type": "markdown",
   "id": "a673d16c",
   "metadata": {},
   "source": [
    "#### Conditions cores seulement : 2011-2040 à 2071-2100"
   ]
  },
  {
   "cell_type": "code",
   "execution_count": null,
   "id": "85887dc5",
   "metadata": {
    "scrolled": false
   },
   "outputs": [],
   "source": [
    "lost_to_file(\n",
    "    \"perte_scenario_A_2011-2040_vs_2071-2100.tiff\",\n",
    "    registered_raster_2011_2040, \n",
    "    registered_raster_2071_2100, \n",
    "    raster_2011_2040, \n",
    "    data_value=3\n",
    ")\n",
    "\n",
    "_plot_lost_terrain(\n",
    "    df_CD_and_RAR,\n",
    "    vegetation_zones_df, \n",
    "    registered_raster_2011_2040, \n",
    "    registered_raster_2071_2100, \n",
    "    extent=[\n",
    "        raster_2011_2040.bounds[0], \n",
    "        raster_2011_2040.bounds[2], \n",
    "        raster_2011_2040.bounds[1], \n",
    "        raster_2011_2040.bounds[3]\n",
    "    ], \n",
    "    data_value=3, \n",
    "    color=\"red\"\n",
    ")"
   ]
  },
  {
   "cell_type": "markdown",
   "id": "f22c9f01",
   "metadata": {},
   "source": [
    "#### Conditions cores et marginales : 2011-2040 vs 2041-2070"
   ]
  },
  {
   "cell_type": "code",
   "execution_count": null,
   "id": "63b2d9f1",
   "metadata": {
    "scrolled": false
   },
   "outputs": [],
   "source": [
    "lost_to_file(\n",
    "    \"perte_scenario_B_2011-2040_vs_2041-2070.tiff\",\n",
    "    registered_raster_2011_2040, \n",
    "    registered_raster_2041_2070, \n",
    "    raster_2011_2040, \n",
    "    data_value=1\n",
    ")\n",
    "\n",
    "_plot_lost_terrain(\n",
    "    df_CD_and_RAR,\n",
    "    vegetation_zones_df, \n",
    "    registered_raster_2011_2040, \n",
    "    registered_raster_2041_2070, \n",
    "    extent=[\n",
    "        raster_2011_2040.bounds[0], \n",
    "        raster_2011_2040.bounds[2], \n",
    "        raster_2011_2040.bounds[1], \n",
    "        raster_2011_2040.bounds[3]\n",
    "    ], \n",
    "    data_value=1, \n",
    "    color=\"red\"\n",
    ")"
   ]
  },
  {
   "cell_type": "markdown",
   "id": "2f7860bb",
   "metadata": {},
   "source": [
    "#### Conditions cores et marginales : 2011-2040 vs 2071-2100"
   ]
  },
  {
   "cell_type": "code",
   "execution_count": null,
   "id": "218489b7",
   "metadata": {
    "scrolled": false
   },
   "outputs": [],
   "source": [
    "lost_to_file(\n",
    "    \"perte_scenario_B_2011-2040_vs_2071-2100.tiff\",\n",
    "    registered_raster_2011_2040, \n",
    "    registered_raster_2071_2100, \n",
    "    raster_2011_2040, \n",
    "    data_value=1\n",
    ")\n",
    "\n",
    "_plot_lost_terrain(\n",
    "    df_CD_and_RAR,\n",
    "    vegetation_zones_df, \n",
    "    registered_raster_2011_2040, \n",
    "    registered_raster_2071_2100, \n",
    "    extent=[\n",
    "        raster_2011_2040.bounds[0], \n",
    "        raster_2011_2040.bounds[2], \n",
    "        raster_2011_2040.bounds[1], \n",
    "        raster_2011_2040.bounds[3]\n",
    "    ], \n",
    "    data_value=1, \n",
    "    color=\"red\"\n",
    ")"
   ]
  },
  {
   "cell_type": "markdown",
   "id": "b68174c1",
   "metadata": {},
   "source": [
    "### 3.2.2. Gains de conditions favorables \n",
    "\n",
    "On observe en vert les régions qui ne faisaient partie de la niche climatique dans la période de projection initiale (2011-2040), mais qui en font partie dans la période de projection finale.\n",
    "\n",
    "#### Conditions cores seulement : 2011-2040 à 2041-2070"
   ]
  },
  {
   "cell_type": "code",
   "execution_count": null,
   "id": "605f65d9",
   "metadata": {
    "scrolled": false
   },
   "outputs": [],
   "source": [
    "_plot_lost_terrain(\n",
    "    df_CD_and_RAR,\n",
    "    vegetation_zones_df, \n",
    "    registered_raster_2041_2070, \n",
    "    registered_raster_2011_2040, \n",
    "    extent=[\n",
    "        raster_2011_2040.bounds[0], \n",
    "        raster_2011_2040.bounds[2], \n",
    "        raster_2011_2040.bounds[1], \n",
    "        raster_2011_2040.bounds[3]\n",
    "    ], \n",
    "    data_value=3, \n",
    "    color=\"green\"\n",
    ")"
   ]
  },
  {
   "cell_type": "markdown",
   "id": "a51e781e",
   "metadata": {},
   "source": [
    "#### Conditions cores seulement : 2011-2040 à 2071-2100"
   ]
  },
  {
   "cell_type": "code",
   "execution_count": null,
   "id": "a903f775",
   "metadata": {
    "scrolled": false
   },
   "outputs": [],
   "source": [
    "_plot_lost_terrain(\n",
    "    df_CD_and_RAR, \n",
    "    vegetation_zones_df,\n",
    "    registered_raster_2071_2100, \n",
    "    registered_raster_2011_2040, \n",
    "    extent=[\n",
    "        raster_2011_2040.bounds[0], \n",
    "        raster_2011_2040.bounds[2], \n",
    "        raster_2011_2040.bounds[1], \n",
    "        raster_2011_2040.bounds[3]\n",
    "    ], \n",
    "    data_value=3, \n",
    "    color=\"green\"\n",
    ")"
   ]
  },
  {
   "cell_type": "markdown",
   "id": "b400d254",
   "metadata": {},
   "source": [
    "#### Conditions cores et marginales : 2011-2040 à 2041-2070"
   ]
  },
  {
   "cell_type": "code",
   "execution_count": null,
   "id": "d1ad4324",
   "metadata": {
    "scrolled": false
   },
   "outputs": [],
   "source": [
    "_plot_lost_terrain(\n",
    "    df_CD_and_RAR,\n",
    "    vegetation_zones_df, \n",
    "    registered_raster_2041_2070, \n",
    "    registered_raster_2011_2040, \n",
    "    extent=[\n",
    "        raster_2011_2040.bounds[0], \n",
    "        raster_2011_2040.bounds[2], \n",
    "        raster_2011_2040.bounds[1], \n",
    "        raster_2011_2040.bounds[3]\n",
    "    ], \n",
    "    data_value=1, \n",
    "    color=\"green\"\n",
    ")"
   ]
  },
  {
   "cell_type": "markdown",
   "id": "d7ddfabf",
   "metadata": {},
   "source": [
    "#### Conditions cores et marginales : 2011-2040 à 2071-2100"
   ]
  },
  {
   "cell_type": "code",
   "execution_count": null,
   "id": "e49d32c3",
   "metadata": {
    "scrolled": false
   },
   "outputs": [],
   "source": [
    "_plot_lost_terrain(\n",
    "    df_CD_and_RAR,\n",
    "    vegetation_zones_df, \n",
    "    registered_raster_2071_2100, \n",
    "    registered_raster_2011_2040, \n",
    "    extent=[\n",
    "        raster_2011_2040.bounds[0], \n",
    "        raster_2011_2040.bounds[2], \n",
    "        raster_2011_2040.bounds[1], \n",
    "        raster_2011_2040.bounds[3]\n",
    "    ], \n",
    "    data_value=1, \n",
    "    color=\"green\"\n",
    ")"
   ]
  },
  {
   "cell_type": "markdown",
   "id": "a2b1f4c8",
   "metadata": {},
   "source": [
    "### 3.3. Distribution de la biomasse et enveloppe climatique.\n",
    "\n",
    "On veut voir si la biomasse actuelle se trouve à l'intérieur des enveloppes climatiques (2011-2040)."
   ]
  },
  {
   "cell_type": "code",
   "execution_count": null,
   "id": "ae9a3714",
   "metadata": {
    "scrolled": false
   },
   "outputs": [],
   "source": [
    "def _plot_biomass(df, raster1, raster2, markersize_factor=50000, extent=None):\n",
    "    xmin = -90\n",
    "    xmax = -40\n",
    "    ymin = 42\n",
    "    ymax = 55\n",
    "    \n",
    "    crop_df = df.cx[xmin: xmax, ymin: ymax]\n",
    "    \n",
    "    xmin = min(crop_df.bounds[\"minx\"])\n",
    "    ymin = min(crop_df.bounds[\"miny\"])\n",
    "    xmax = max(crop_df.bounds[\"maxx\"])\n",
    "    ymax = max(crop_df.bounds[\"maxy\"])\n",
    "    \n",
    "    fig, ax = plt.subplots()\n",
    "    \n",
    "    out_image2, out_transform2 = mask(\n",
    "        raster2, \n",
    "        [Polygon(((xmin, ymin), (xmax, ymin) ,(xmax, ymax), (xmin, ymax),  (xmin, ymin)))], \n",
    "        crop=True\n",
    "    )\n",
    "    out_image2[out_image2 < 0] = 0\n",
    "    out_image2[out_image2 > 100] = 100\n",
    "    \n",
    "    ax = show_raster(\n",
    "        out_image2, \n",
    "        transform=out_transform2, \n",
    "        alpha=1,\n",
    "        with_bounds=True, \n",
    "        ax=ax, \n",
    "        cmap=\"Greys\"\n",
    "    )\n",
    "    \n",
    "    out_image1, out_transform1 = mask(\n",
    "        raster1, \n",
    "        [Polygon(((xmin, ymin), (xmax, ymin) ,(xmax, ymax), (xmin, ymax),  (xmin, ymin)))], \n",
    "        crop=True\n",
    "    )\n",
    "\n",
    "    ax = show_raster(\n",
    "        out_image1, \n",
    "        transform=out_transform1, \n",
    "        alpha=0.3,\n",
    "        cmap=cmap, \n",
    "        norm=norm,\n",
    "        with_bounds=True, \n",
    "        ax=ax\n",
    "    )\n",
    "\n",
    "    crop_df.boundary.plot(ax=ax, lw=0.2, color=\"black\")\n",
    "\n",
    "_plot_biomass(df_CD_and_RAR, raster_2011_2040, biomass_raster)"
   ]
  },
  {
   "cell_type": "markdown",
   "id": "f2bcbce6",
   "metadata": {},
   "source": [
    "# 4. Réponses aux questions de recherche"
   ]
  },
  {
   "cell_type": "markdown",
   "id": "dfd76d6f",
   "metadata": {},
   "source": [
    "Pour répondre aux questions de recherche, on définit deux scénarios :\n",
    "- Scénario A : on ne considère que les zones avec les conditions climatiques cores.\n",
    "- Scénario B : on considère les zones avec les conditions climatiques cores et marginales.\n",
    "\n",
    "On décline également la réponse par rapport aux projections de 2041-2070, puis aux projections de 2071-2100.\n",
    "\n",
    "On s'attend à ce que les différences les plus marquées soient observées selon le scénario A, avec les projections de 2071-2100, et les différences les moins marquées avec le scénario B et les projections de 2041-2070.\n",
    "\n",
    "Les conclusions aux questions de recherche sont affichées <span style=\"color:red\"> en rouge </span>."
   ]
  },
  {
   "cell_type": "markdown",
   "id": "e681cd5a",
   "metadata": {},
   "source": [
    "## 4.1. Où se situent les zones propices au développement de l’érable au Canada et comment seront-elles affectées par le réchauffement climatique?\n",
    "\n",
    "### 4.1.1. Quelles sont les régions qui connaissent les plus fortes pertes relatives de leur territoire?\n",
    "\n",
    "On calcule ici les pertes et les gains relatifs de territoire à l'intérieur d'une niche climatique par rapport à la niche initiale (2011-2040). On ordonne les régions de la plus forte perte à la plus faible. On indique également le rang en termes d'entailles et d'exploitations. "
   ]
  },
  {
   "cell_type": "code",
   "execution_count": null,
   "id": "ab0f90f9",
   "metadata": {
    "scrolled": true
   },
   "outputs": [],
   "source": [
    "# Perte et gain: Scénario A \n",
    "df[\"perte_A_2011_vs_2041\"] = df[\"core_2011-2040\"] - df[\"core_2011_and_2041\"]\n",
    "df[\"perte_A_2011_vs_2071\"] = df[\"core_2011-2040\"] - df[\"core_2011_and_2071\"]\n",
    "df[\"gain_A_2011_vs_2041\"] = df[\"core_2041-2070\"] - df[\"core_2011_and_2041\"]\n",
    "df[\"gain_A_2011_vs_2071\"] = df[\"core_2071-2100\"] - df[\"core_2011_and_2071\"]\n",
    "\n",
    "# Perte et gain: Scénario B\n",
    "df[\"core_or_marginal_2011-2040\"] = df[\"core_2011-2040\"] + df[\"marginal_2011-2040\"]\n",
    "df[\"core_or_marginal_2041-2070\"] = df[\"core_2041-2070\"] + df[\"marginal_2041-2070\"]\n",
    "df[\"core_or_marginal_2071-2100\"] = df[\"core_2071-2100\"] + df[\"marginal_2071-2100\"]\n",
    "df[\"perte_B_2011_vs_2041\"] = df[\"core_or_marginal_2011-2040\"] - df[\"core_or_marginal_2011_and_2041\"]\n",
    "df[\"perte_B_2011_vs_2071\"] = df[\"core_or_marginal_2011-2040\"] - df[\"core_or_marginal_2011_and_2071\"]\n",
    "df[\"gain_B_2011_vs_2041\"] = df[\"core_or_marginal_2041-2070\"] - df[\"core_or_marginal_2011_and_2041\"]\n",
    "df[\"gain_B_2011_vs_2071\"] = df[\"core_or_marginal_2071-2100\"] - df[\"core_or_marginal_2011_and_2071\"]\n",
    "\n",
    "# Perte et gain en POURCENTAGE par rapport à la zone initiale: Scénario A \n",
    "df[\"perte_pourcentage_A_2011_vs_2041\"] = df[\"perte_A_2011_vs_2041\"] / df[\"core_2011-2040\"]\n",
    "df[\"perte_pourcentage_A_2011_vs_2071\"] = df[\"perte_A_2011_vs_2071\"] / df[\"core_2011-2040\"]\n",
    "df[\"gain_pourcentage_A_2011_vs_2041\"] = df[\"gain_A_2011_vs_2041\"] / df[\"core_2011-2040\"]\n",
    "df[\"gain_pourcentage_A_2011_vs_2071\"] = df[\"gain_A_2011_vs_2071\"] / df[\"core_2011-2040\"]\n",
    "\n",
    "# Perte et gain en POURCENTAGE par rapport à la zone initiale: Scénario B\n",
    "df[\"perte_pourcentage_B_2011_vs_2041\"] = df[\"perte_B_2011_vs_2041\"] / df[\"core_or_marginal_2011-2040\"]\n",
    "df[\"perte_pourcentage_B_2011_vs_2071\"] = df[\"perte_B_2011_vs_2071\"] / df[\"core_or_marginal_2011-2040\"]\n",
    "df[\"gain_pourcentage_B_2011_vs_2041\"] = df[\"gain_B_2011_vs_2041\"] / df[\"core_or_marginal_2011-2040\"]\n",
    "df[\"gain_pourcentage_B_2011_vs_2071\"] = df[\"gain_B_2011_vs_2071\"] / df[\"core_or_marginal_2011-2040\"]"
   ]
  },
  {
   "cell_type": "markdown",
   "id": "f7a8299e",
   "metadata": {},
   "source": [
    "#### Scénario A (2011-2040 vs 2041-2070)\n",
    "\n",
    "\n",
    "<span style=\"color:red\"> \n",
    "<br/>\n",
    "Pour plusieurs régions, près de la totalité du territoire faisant partie de la niche climatique ne le sera plus dès 2041. Par contre, ces régions n'exploitent pas toutes l'érable. C'est le cas, par exemple de l'IPE qui perd 100% de sa niche climatique favorable, mais qui se retrouve au 42e des régions en termes de nombre d'entailles. \n",
    "    \n",
    "À noter la Montérégie (5e rang d'entailles), le Centre-du-Québec (4e rang) et la Région agricole de recensement 1\tNouveau-Brunswick (9e rang) qui perdent toutes plus de 34% du territoire à l'intérieur de la niche climatique favorable.\n",
    "</span>"
   ]
  },
  {
   "cell_type": "code",
   "execution_count": null,
   "id": "4a0000c2",
   "metadata": {
    "scrolled": false
   },
   "outputs": [],
   "source": [
    "_show(\n",
    "    df.sort_values(\n",
    "        \"perte_pourcentage_A_2011_vs_2041\", \n",
    "        ascending=False\n",
    "    )[[\n",
    "        \"area_name\", \n",
    "        \"province\", \n",
    "        \"perte_pourcentage_A_2011_vs_2041\",\n",
    "        \"perte_A_2011_vs_2041\",\n",
    "        \"gain_pourcentage_A_2011_vs_2041\",\n",
    "        \"gain_A_2011_vs_2041\",\n",
    "        \"rank_entailles\",\n",
    "        \"rank_exploitations\"\n",
    "    ]].reset_index()\n",
    ")"
   ]
  },
  {
   "cell_type": "markdown",
   "id": "23a18175",
   "metadata": {},
   "source": [
    "#### Scénario A (2011-2040 vs 2071-2100)\n",
    "\n",
    "\n",
    "<span style=\"color:red\"> \n",
    "<br/>\n",
    "En 2071, toutes les régions à l'intérieur de la niche climatique favorable perdent plus de 83% de leur territoire. \n",
    "    \n",
    "Les six régions produisant le plus d'entailles perdent la totalité de leur territoire à l'intérieur de la niche climatique.\n",
    "</span>"
   ]
  },
  {
   "cell_type": "code",
   "execution_count": null,
   "id": "6375601b",
   "metadata": {
    "scrolled": false
   },
   "outputs": [],
   "source": [
    "_show(\n",
    "    df.sort_values(\n",
    "        \"perte_pourcentage_A_2011_vs_2071\", \n",
    "        ascending=False\n",
    "    )[[\n",
    "        \"area_name\", \n",
    "        \"province\", \n",
    "        \"perte_pourcentage_A_2011_vs_2071\",\n",
    "        \"perte_A_2011_vs_2071\",\n",
    "        \"gain_pourcentage_A_2011_vs_2071\",\n",
    "        \"gain_A_2011_vs_2071\",\n",
    "        \"rank_entailles\",\n",
    "        \"rank_exploitations\"\n",
    "    ]].reset_index()\n",
    ")"
   ]
  },
  {
   "cell_type": "markdown",
   "id": "ab9856c0",
   "metadata": {},
   "source": [
    "#### Scénario B (2011-2040 vs 2041-2070)\n",
    "\n",
    "<span style=\"color:red\"> \n",
    "<br/>\n",
    "Pour le scénario B, en 2041, on retrouve principalement des régions qui ne produisent pas de sirop d'érable. \n",
    "</span>\n"
   ]
  },
  {
   "cell_type": "code",
   "execution_count": null,
   "id": "6a55fcdd",
   "metadata": {
    "scrolled": false
   },
   "outputs": [],
   "source": [
    "_show(\n",
    "    df.sort_values(\n",
    "        \"perte_pourcentage_B_2011_vs_2041\", \n",
    "        ascending=False\n",
    "    )[[\n",
    "        \"area_name\", \n",
    "        \"province\", \n",
    "        \"perte_pourcentage_B_2011_vs_2041\",\n",
    "        \"perte_B_2011_vs_2041\",\n",
    "        \"gain_pourcentage_B_2011_vs_2041\",\n",
    "        \"gain_B_2011_vs_2041\",\n",
    "        \"rank_entailles\",\n",
    "        \"rank_exploitations\"\n",
    "    ]].reset_index()\n",
    ")"
   ]
  },
  {
   "cell_type": "markdown",
   "id": "b3533097",
   "metadata": {},
   "source": [
    "#### Scénario B (2011-2040 vs 2071-2010)\n",
    "\n",
    "<span style=\"color:red\"> \n",
    "<br/>\n",
    "En 2071, on retrouve toutefois d'importants producteurs au haut de la liste, notamment la Montérégie (5e rang entailles) et le Centre-du-Québec (4e rang) avec des pertes de plus de 87% de leur territoire propice au développement de l'érable.\n",
    "</span>\n"
   ]
  },
  {
   "cell_type": "code",
   "execution_count": null,
   "id": "53990a84",
   "metadata": {
    "scrolled": false
   },
   "outputs": [],
   "source": [
    "_show(\n",
    "    df.sort_values(\n",
    "        \"perte_pourcentage_B_2011_vs_2071\", \n",
    "        ascending=False\n",
    "    )[[\n",
    "        \"area_name\", \n",
    "        \"province\", \n",
    "        \"perte_pourcentage_B_2011_vs_2071\",\n",
    "        \"perte_B_2011_vs_2071\",\n",
    "        \"gain_pourcentage_B_2011_vs_2071\",\n",
    "        \"gain_B_2011_vs_2071\",\n",
    "        \"rank_entailles\",\n",
    "        \"rank_exploitations\"\n",
    "    ]].reset_index()\n",
    ")"
   ]
  },
  {
   "cell_type": "markdown",
   "id": "057b44d6",
   "metadata": {},
   "source": [
    "### 4.1.2. Quelle proportion du Canada et des provinces est actuellement favorable au développement de l’érable? Qu'elle deviendra cette proportion avec le réchauffement climatique?\n",
    "\n",
    "#### Canada \n",
    "\n",
    "On calcule la proportion du Canada qui se trouve dans la niche climatique de l'érable en 2011-2040, 2041-2070 et 2071-2100, selon les scénarios A et B."
   ]
  },
  {
   "cell_type": "markdown",
   "id": "9077e519",
   "metadata": {},
   "source": [
    "<span style=\"color:red\"> \n",
    "On constate que la proportion du territoire canadien propice au développement de l'érable pourrait s'accroître avec le temps, qu'on se fit au scénario A ou B. En effet, l'enveloppe climatique ne rétrécirait pas, mais elle se déplacerait plutôt vers le Nord.\n",
    "</span>"
   ]
  },
  {
   "cell_type": "code",
   "execution_count": null,
   "id": "20f1374b",
   "metadata": {
    "scrolled": false
   },
   "outputs": [],
   "source": [
    "sum_A_2011 = df['core_2011-2040'].sum() / (df['rest_2011-2040'].sum() + df['core_or_marginal_2011-2040'].sum())\n",
    "sum_B_2011 = df['core_or_marginal_2011-2040'].sum() / (df['rest_2011-2040'].sum() + df['core_or_marginal_2011-2040'].sum())\n",
    "\n",
    "sum_A_2041 = df['core_2041-2070'].sum() / (df['rest_2041-2070'].sum() + df['core_or_marginal_2041-2070'].sum())\n",
    "sum_B_2041 = df['core_or_marginal_2041-2070'].sum() / (df['rest_2041-2070'].sum() + df['core_or_marginal_2041-2070'].sum())\n",
    "\n",
    "sum_A_2071 = df['core_2071-2100'].sum() / (df['rest_2071-2100'].sum() + df['core_or_marginal_2071-2100'].sum())\n",
    "sum_B_2071 = df['core_or_marginal_2071-2100'].sum() / (df['rest_2071-2100'].sum() + df['core_or_marginal_2071-2100'].sum())\n",
    "\n",
    "print(f\"Scénario A : {round(sum_A_2011, 3)} (2011), {round(sum_A_2041, 3)} (2041), {round(sum_A_2071, 3)} (2071)\")\n",
    "print(f\"Scénario B : {round(sum_B_2011, 3)} (2011), {round(sum_B_2041, 3)} (2041), {round(sum_B_2071, 3)} (2071)\")"
   ]
  },
  {
   "cell_type": "markdown",
   "id": "ded6241b",
   "metadata": {},
   "source": [
    "<span style=\"color:red\"> \n",
    "Selon le scénario A, c'est 70 % de l'aire idéale actuelle qui le serait toujours en 2041-2070, contre seulement 2 % en 2071-2100.\n",
    "<br/>\n",
    "Selon le scénario B, c'est 81 % de l'aire idéale et tolérable actuelle qui le serait toujours en 2041-2070, contre seulement 65 % en 2071-2100. \n",
    "</span>"
   ]
  },
  {
   "cell_type": "code",
   "execution_count": null,
   "id": "56c1be36",
   "metadata": {
    "scrolled": false
   },
   "outputs": [],
   "source": [
    "sum_A_2041 = df['core_2011_and_2041'].sum() / df['core_2011-2040'].sum()\n",
    "sum_B_2041 = df['core_or_marginal_2011_and_2041'].sum() / df['core_or_marginal_2011-2040'].sum()\n",
    "\n",
    "sum_A_2071 = df['core_2011_and_2071'].sum() / df['core_2011-2040'].sum()\n",
    "sum_B_2071 = df['core_or_marginal_2011_and_2071'].sum() / df['core_or_marginal_2011-2040'].sum()\n",
    "\n",
    "print(f\"Scénario A : {round(sum_A_2041, 3)} (2041), {round(sum_A_2071, 3)} (2071)\")\n",
    "print(f\"Scénario B : {round(sum_B_2041, 3)} (2041), {round(sum_B_2071, 3)} (2071)\")"
   ]
  },
  {
   "cell_type": "markdown",
   "id": "03276969",
   "metadata": {},
   "source": [
    "#### Provinces\n",
    "\n",
    "On calcule ensuite ces mêmes proportions à l'échelle des provinces. \n",
    "- `sum_X_YYYY` représente la proportion pour l'année de départ d'une projection donnée (`YYYY`) et un scénario (`X`)."
   ]
  },
  {
   "cell_type": "markdown",
   "id": "d4f907f4",
   "metadata": {},
   "source": [
    "<span style=\"color:red\"> \n",
    "On observe un recul important de la proportion de la niche climatique de l’érable dans les provinces du Nouveau-Brunswick, de l'Ontario et de l'Île-du-Prince-Édouard. En 2071-2100, l'entièreté de ces trois provinces se trouverait dans de nouvelles conditions de croissance (selon le scénario A). La proportion de zones idéales ou favorables demeure plus stable dans le temps en considérant plutôt le scénario B.\n",
    "<br/>\n",
    "<br/>\n",
    "Au Québec, une plus grande portion de la province serait propice à la croissance de l’érable avec le temps, tant selon le scénario A que le scénario B. Il en va de même pour Terre-Neuve-et-Labrador, province qui est présentement exclue dans la niche climatique de l’érable.\n",
    "</span>"
   ]
  },
  {
   "cell_type": "code",
   "execution_count": null,
   "id": "cf19f8c7",
   "metadata": {
    "scrolled": false
   },
   "outputs": [],
   "source": [
    "df_pr = df.groupby(\n",
    "    \"province\"\n",
    ").sum()\n",
    "\n",
    "df_pr[\"sum_A_2011\"] = df_pr['core_2011-2040'] / (df_pr['rest_2011-2040'] + df_pr['core_or_marginal_2011-2040'])\n",
    "df_pr[\"sum_B_2011\"] = df_pr['core_or_marginal_2011-2040'] / (df_pr['rest_2011-2040'] + df_pr['core_or_marginal_2011-2040'])\n",
    "\n",
    "df_pr[\"sum_A_2041\"] = df_pr['core_2041-2070'] / (df_pr['rest_2041-2070'] + df_pr['core_or_marginal_2041-2070'])\n",
    "df_pr[\"sum_B_2041\"] = df_pr['core_or_marginal_2041-2070'] / (df_pr['rest_2041-2070'] + df_pr['core_or_marginal_2041-2070'])\n",
    "\n",
    "df_pr[\"sum_A_2071\"] = df_pr['core_2071-2100'] / (df_pr['rest_2071-2100'] + df_pr['core_or_marginal_2071-2100'])\n",
    "df_pr[\"sum_B_2071\"] = df_pr['core_or_marginal_2071-2100'] / (df_pr['rest_2071-2100'] + df_pr['core_or_marginal_2071-2100'])\n",
    "\n",
    "_show(\n",
    "    df_pr[[\n",
    "        \"sum_A_2011\", \n",
    "        \"sum_A_2041\", \n",
    "        \"sum_A_2071\", \n",
    "        \"sum_B_2011\", \n",
    "        \"sum_B_2041\", \n",
    "        \"sum_B_2071\", \n",
    "    ]]\n",
    ")"
   ]
  },
  {
   "cell_type": "markdown",
   "id": "7511aba8",
   "metadata": {},
   "source": [
    "<span style=\"color:red\"> \n",
    "Selon le scénario A, la proportion des aires avec des conditions actuellement idéales, et qui le demeureraient en 2041-2070, est de 92 % pour le Québec, contre seulement 61 % pour T.-N.-L., 52 % pour le N.-B., 50 % pour l'Ontario, 10 % pour l'Î.-P.-É. et 0 % pour la N.-É. En 2071-2100, cette proportion s'effriterait : il ne resterait que 13 % du territoire propice à Terre-Neuve-et-Labrador et à peine 3 % au Québec. Pour toutes les autres provinces, la proportion d'aires avec des conditions actuellement idéales, et qui le seraient toujours en 2071-2100, est nulle.\n",
    "</span>"
   ]
  },
  {
   "cell_type": "code",
   "execution_count": null,
   "id": "33850b9d",
   "metadata": {
    "scrolled": false
   },
   "outputs": [],
   "source": [
    "df_pr = df.groupby(\n",
    "    \"province\"\n",
    ").sum()\n",
    "\n",
    "\n",
    "df_pr[\"sum_A_2041\"] = df_pr['core_2011_and_2041'] / df_pr['core_2011-2040']\n",
    "df_pr[\"sum_B_2041\"] = df_pr['core_or_marginal_2011_and_2041'] / df_pr['core_or_marginal_2011-2040']\n",
    "\n",
    "df_pr[\"sum_A_2071\"] = df_pr['core_2011_and_2071'] / df_pr['core_2011-2040']\n",
    "df_pr[\"sum_B_2071\"] = df_pr['core_or_marginal_2011_and_2071'] / df_pr['core_or_marginal_2011-2040']\n",
    "\n",
    "_show(\n",
    "    df_pr[[\n",
    "        \"sum_A_2041\",\n",
    "        \"sum_A_2071\", \n",
    "        \"sum_B_2041\", \n",
    "        \"sum_B_2071\", \n",
    "    ]]\n",
    ")"
   ]
  },
  {
   "cell_type": "markdown",
   "id": "e5366eb8",
   "metadata": {},
   "source": [
    "## 4.2. Où se concentre la production de sirop d’érable au Canada. Et comment a-t-elle évolué au fil des années?"
   ]
  },
  {
   "cell_type": "markdown",
   "id": "9dc052e7",
   "metadata": {},
   "source": [
    "### 4.2.1. Où se concentre la production de sirop d’érable au Canada?\n",
    "\n",
    "#### Proportions par région agricole de recensement\n",
    "\n",
    "On affiche les données ordonnées en fonction du nombre d'entailles en 2021 (`2021_num_entailles`). On affiche également :\n",
    "- le nombre d'exploitations en 2021 (`2021_num_exploitations`)\n",
    "- le rang de la région agricole de recensement en fonction du nombre d'entailles (`rank_entailles`) et du nombre d'exploitations acéricoles (`rank_exploitations`)."
   ]
  },
  {
   "cell_type": "markdown",
   "id": "0f5c9ccf",
   "metadata": {},
   "source": [
    "<span style=\"color:red\"> \n",
    "Le Québec domine l'exploitation des érables au Canada : 32 % des entailles sont dans la région de Chaudière-Appalaches, 15% en Estrie et 15% au Bas-Saint-Laurent. On retrouve également une importante production au Nouveau-Brunswick, en Ontario et, dans une moindre mesure, en Nouvelle-Écosse.\n",
    "</span>"
   ]
  },
  {
   "cell_type": "code",
   "execution_count": null,
   "id": "54305bbb",
   "metadata": {
    "scrolled": false
   },
   "outputs": [],
   "source": [
    "num_entailles_2021 = df[\"2021_num_entailles\"].sum()\n",
    "num_entailles_2016 = df[\"2016_num_entailles\"].sum()\n",
    "num_entailles_2011 = df[\"2011_num_entailles\"].sum()\n",
    "\n",
    "num_exploitations_2021 = df[\"2021_num_exploitations\"].sum()\n",
    "num_exploitations_2016 = df[\"2016_num_exploitations\"].sum()\n",
    "num_exploitations_2011 = df[\"2011_num_exploitations\"].sum()\n",
    "\n",
    "df[\"2021_percent_entailles\"] = df[\"2021_num_entailles\"] / num_entailles_2021\n",
    "df[\"2021_percent_exploitations\"] = df[\"2021_num_exploitations\"] / num_exploitations_2021\n",
    "\n",
    "_show(\n",
    "    df.sort_values(\n",
    "        \"2021_num_entailles\", \n",
    "        ascending=False\n",
    "    ).reset_index()[[\n",
    "        \"area_name\", \n",
    "        \"province\", \n",
    "        \"2021_num_entailles\", \n",
    "        \"2021_percent_entailles\", \n",
    "        \"2021_num_exploitations\", \n",
    "        \"2021_percent_exploitations\", \n",
    "        \"rank_entailles\",\n",
    "        \"rank_exploitations\"\n",
    "    ]]\n",
    ")"
   ]
  },
  {
   "cell_type": "markdown",
   "id": "b8e2dfb3",
   "metadata": {},
   "source": [
    "#### Proportions d'entailles par province "
   ]
  },
  {
   "cell_type": "markdown",
   "id": "fda87d89",
   "metadata": {},
   "source": [
    "<span style=\"color:red\"> \n",
    "Au total, 90 % des entailles sont au Québec. Le Nouveau-Brunswick suit avec 6 % des entailles en 2021, puis l'Ontario avec 3 %.\n",
    "</span>"
   ]
  },
  {
   "cell_type": "code",
   "execution_count": null,
   "id": "374c0439",
   "metadata": {
    "scrolled": false
   },
   "outputs": [],
   "source": [
    "df_pr = df.groupby(\n",
    "    \"province\"\n",
    ").sum()\n",
    "\n",
    "df_pr[\"2021_percent_entailles\"] = df_pr[\"2021_num_entailles\"] / num_entailles_2021\n",
    "df_pr[\"2016_percent_entailles\"] = df_pr[\"2016_num_entailles\"] / num_entailles_2016\n",
    "df_pr[\"2011_percent_entailles\"] = df_pr[\"2011_num_entailles\"] / num_entailles_2011\n",
    "\n",
    "_show(\n",
    "    df_pr[[\n",
    "        \"2021_percent_entailles\",\n",
    "        \"2016_percent_entailles\",\n",
    "        \"2011_percent_entailles\"\n",
    "    ]]\n",
    ")"
   ]
  },
  {
   "cell_type": "markdown",
   "id": "4169dd1c",
   "metadata": {},
   "source": [
    "#### Proportions d'exploitations par province "
   ]
  },
  {
   "cell_type": "markdown",
   "id": "020a9afa",
   "metadata": {},
   "source": [
    "<span style=\"color:red\"> \n",
    "La proportion d'exploitations québécoises est plus faible que sa proportion d'entailles. Il y a donc un plus grand nombre moyen d'entailles par exploitation. Le Québec compte tout de même entre 68 et 75 % des exploitations du pays, suivis de l'Ontario avec entre 21 et 26 % des exploitations.\n",
    "</span>"
   ]
  },
  {
   "cell_type": "code",
   "execution_count": null,
   "id": "569c5c14",
   "metadata": {
    "scrolled": false
   },
   "outputs": [],
   "source": [
    "df_pr = df.groupby(\n",
    "    \"province\"\n",
    ").sum()\n",
    "\n",
    "df_pr[\"2021_percent_exploitations\"] = df_pr[\"2021_num_exploitations\"] / num_exploitations_2021\n",
    "df_pr[\"2016_percent_exploitations\"] = df_pr[\"2016_num_exploitations\"] / num_exploitations_2016\n",
    "df_pr[\"2011_percent_exploitations\"] = df_pr[\"2011_num_exploitations\"] / num_exploitations_2011\n",
    "\n",
    "_show(\n",
    "    df_pr[[\n",
    "        \"2021_percent_exploitations\", \n",
    "        \"2016_percent_exploitations\", \n",
    "        \"2011_percent_exploitations\", \n",
    "    ]]\n",
    ")"
   ]
  },
  {
   "cell_type": "markdown",
   "id": "0833bed5",
   "metadata": {},
   "source": [
    "### 4.2.2. Quelles régions ont connu la plus forte croissance au fil des ans?\n",
    "\n",
    "On calcule ici les différences de nombre d'entailles entre 2021 et 2011 (`diff_percent_entailles`). "
   ]
  },
  {
   "cell_type": "markdown",
   "id": "0e079428",
   "metadata": {},
   "source": [
    "<span style=\"color:red\"> \n",
    "Si le Manitoba a connu la plus forte hausse relative, le nombre absolu d'entailles demeure extrêmement bas. Le Nouveau-Brunswick, l'Ontario et la Nouvelle-Écosse ont connu des croissances plus marquées que les régions du Québec.\n",
    "</span>"
   ]
  },
  {
   "cell_type": "code",
   "execution_count": null,
   "id": "2ebedba4",
   "metadata": {
    "scrolled": false
   },
   "outputs": [],
   "source": [
    "df[\"diff_num_entailles\"] = (df[\"2021_num_entailles\"] - df[\"2011_num_entailles\"])\n",
    "df[\"diff_percent_entailles\"] = df[\"diff_num_entailles\"] / df[\"2021_num_entailles\"]\n",
    "\n",
    "_show(\n",
    "        df.sort_values(\n",
    "        \"diff_percent_entailles\", \n",
    "        ascending=False\n",
    "    ).reset_index()[[\n",
    "        \"area_name\", \n",
    "        \"province\", \n",
    "        \"diff_num_entailles\",\n",
    "        \"diff_percent_entailles\",\n",
    "        \"2021_num_entailles\", \n",
    "        \"2011_num_entailles\", \n",
    "        \"2021_num_exploitations\",\n",
    "        \"2011_num_exploitations\", \n",
    "        \"rank_entailles\",\n",
    "        \"rank_exploitations\"\n",
    "    ]]\n",
    ")"
   ]
  },
  {
   "cell_type": "markdown",
   "id": "57d45648",
   "metadata": {},
   "source": [
    "## 4.3. Croiser les données sur la répartition et l'abondance de l’érable du Canada, et les projections de niche climatique d’ici 2100, avec les données sur les entailles d’érable du recensement de l’agriculture 2021."
   ]
  },
  {
   "cell_type": "markdown",
   "id": "2a08450e",
   "metadata": {},
   "source": [
    "### 4.3.1. Quelle proportion (et quelles régions) des entailles actuelles se retrouverait dans de nouvelles conditions de croissance?\n",
    "\n",
    "\n",
    "\n",
    "#### Scénario A (2041-2070)\n",
    "\n",
    "Ici, on suppose que les entailles se retrouvent exclusivement dans des zones de croissance idéale. On affiche les régions agricoles de recensement qui ne se retrouveraient plus dans cette zone."
   ]
  },
  {
   "cell_type": "markdown",
   "id": "b2363aa0",
   "metadata": {},
   "source": [
    "<span style=\"color:red\"> \n",
    "Le climat des régions agricoles de recensement 2 et 3 de la Nouvelle-Écosse ne serait plus idéal au développement de l'érable dès 2041-2070. Ces régions comptent près de 400 000 entailles et 86 exploitations acéricoles en 2021.\n",
    "<br/>\n",
    "<br/>\n",
    "On dénombre également 16 exploitations avec moins de 3000 entailles dans les régions agricoles de recensement 2, 5 et 7 du Manitoba qui se retrouveraient à l’extérieur de la niche climatique de l’érable.\n",
    "</span>"
   ]
  },
  {
   "cell_type": "code",
   "execution_count": null,
   "id": "a8c70d94",
   "metadata": {
    "scrolled": false
   },
   "outputs": [],
   "source": [
    "# Scénario A (2041)\n",
    "df[\"2041_A_is_propice\"] = df[\"core_2011_and_2041\"] > 0\n",
    "is_not_propice_2041_A_df = df[df[\"2041_A_is_propice\"] == False].sort_values(\n",
    "    \"2021_num_entailles\", \n",
    "    ascending=False\n",
    ").reset_index()\n",
    "\n",
    "_show(\n",
    "    is_not_propice_2041_A_df[[\n",
    "        \"area_name\", \n",
    "        \"province\", \n",
    "        \"2021_num_entailles\", \n",
    "        \"2021_percent_entailles\", \n",
    "        \"2021_num_exploitations\", \n",
    "        \"2021_percent_exploitations\", \n",
    "        \"rank_entailles\",\n",
    "        \"rank_exploitations\"\n",
    "    ]]\n",
    ")"
   ]
  },
  {
   "cell_type": "markdown",
   "id": "0213fa56",
   "metadata": {},
   "source": [
    "#### Scénario A (2071-2100)\n",
    "\n",
    "On affiche les régions agricoles de recensement qui se retrouverait plus dans des conditions climatiques idéales."
   ]
  },
  {
   "cell_type": "markdown",
   "id": "664b1b0a",
   "metadata": {},
   "source": [
    "<span style=\"color:red\"> \n",
    "En 2071-2100, huit des dix régions comptant le plus grand nombre d'entailles en 2021 seraient exclues des conditions de croissance idéale pour l'érable. On note Chaudière-Appalaches, l'Estrie, le Bas-Saint-Laurent, le Centre-du-Québec et la Montérégie (Québec) ainsi que les régions agricoles de recensement 1 et 4 au Nouveau-Brunswick et la région de l'Ouest de l'Ontario.\n",
    "</span>"
   ]
  },
  {
   "cell_type": "code",
   "execution_count": null,
   "id": "a9f37663",
   "metadata": {
    "scrolled": false
   },
   "outputs": [],
   "source": [
    "# Scénario A (2071)\n",
    "df[\"2071_A_is_propice\"] = df[\"core_2011_and_2071\"] > 0\n",
    "is_not_propice_2071_A_df = df[df[\"2071_A_is_propice\"] == False].sort_values(\n",
    "    \"2021_num_entailles\", \n",
    "    ascending=False\n",
    ").reset_index()\n",
    "\n",
    "_show(\n",
    "    is_not_propice_2071_A_df[[\n",
    "        \"area_name\", \n",
    "        \"province\", \n",
    "        \"2021_num_entailles\", \n",
    "        \"2021_percent_entailles\", \n",
    "        \"2021_num_exploitations\", \n",
    "        \"2021_percent_exploitations\", \n",
    "        \"rank_entailles\",\n",
    "        \"rank_exploitations\"\n",
    "    ]]\n",
    ")"
   ]
  },
  {
   "cell_type": "markdown",
   "id": "a0370f59",
   "metadata": {},
   "source": [
    "#### Scénario B (2041-2070)\n",
    "\n",
    "On affiche les régions agricoles de recensement qui se retrouverait plus dans des conditions climatiques idéales ou tolérables."
   ]
  },
  {
   "cell_type": "markdown",
   "id": "8a18c4f5",
   "metadata": {},
   "source": [
    "<span style=\"color:red\"> \n",
    "Selon le scénario B, aucune région importante au développement des produits de l'érable ne se retrouverait totalement exclue de la niche climatique de l’érable en 2041-2070.\n",
    "</span>"
   ]
  },
  {
   "cell_type": "code",
   "execution_count": null,
   "id": "b8a563ab",
   "metadata": {
    "scrolled": false
   },
   "outputs": [],
   "source": [
    "# Scénario B (2041)\n",
    "df[\"2041_B_is_propice\"] = df[\"core_or_marginal_2011_and_2041\"] > 0\n",
    "is_not_propice_2041_B_df = df[df[\"2041_B_is_propice\"] == False].sort_values(\n",
    "    \"2021_num_entailles\", \n",
    "    ascending=False\n",
    ").reset_index()\n",
    "\n",
    "_show(\n",
    "    is_not_propice_2041_B_df[[\n",
    "        \"area_name\", \n",
    "        \"province\", \n",
    "        \"2021_num_entailles\", \n",
    "        \"2021_percent_entailles\", \n",
    "        \"2021_num_exploitations\", \n",
    "        \"2021_percent_exploitations\", \n",
    "        \"rank_entailles\",\n",
    "        \"rank_exploitations\"\n",
    "    ]]\n",
    ")"
   ]
  },
  {
   "cell_type": "markdown",
   "id": "d3f5503d",
   "metadata": {},
   "source": [
    "#### Scénario B (2071-2100)\n",
    "\n",
    "On affiche les régions agricoles de recensement qui ne se retrouvent plus dans la niche climatique."
   ]
  },
  {
   "cell_type": "markdown",
   "id": "7a8a51b9",
   "metadata": {},
   "source": [
    "<span style=\"color:red\"> \n",
    "Il en va de même en 2071-2100 : aucune région importante au développement des produits de l'érable ne se trouverait totalement exclue de la zone idéale ou tolérable.\n",
    "</span>"
   ]
  },
  {
   "cell_type": "code",
   "execution_count": null,
   "id": "a259b270",
   "metadata": {
    "scrolled": false
   },
   "outputs": [],
   "source": [
    "# Scénario B (2071)\n",
    "df[\"2071_B_is_propice\"] = df[\"core_or_marginal_2011_and_2071\"] > 0\n",
    "is_not_propice_2071_B_df = df[df[\"2071_B_is_propice\"] == False].sort_values(\n",
    "    \"2021_num_entailles\", \n",
    "    ascending=False\n",
    ").reset_index()\n",
    "\n",
    "_show(\n",
    "    is_not_propice_2071_B_df[[\n",
    "        \"area_name\", \n",
    "        \"province\", \n",
    "        \"2021_num_entailles\", \n",
    "        \"2021_percent_entailles\", \n",
    "        \"2021_num_exploitations\", \n",
    "        \"2021_percent_exploitations\", \n",
    "        \"rank_entailles\",\n",
    "        \"rank_exploitations\"\n",
    "    ]]\n",
    ")"
   ]
  },
  {
   "cell_type": "markdown",
   "id": "8b140cad",
   "metadata": {},
   "source": [
    "#### Proportions d'entailles et d'exploitations ne se retrouvant plus dans les zones propices selon les scénarios A et B et pour les deux périodes de projection."
   ]
  },
  {
   "cell_type": "markdown",
   "id": "83a9acc8",
   "metadata": {},
   "source": [
    "<span style=\"color:red\"> \n",
    "Au total, selon le scénario A, c'est 91,2 % des entailles et 90,4 % des exploitations acéricoles qui se retrouveraient à l'extérieur de la niche climatique idéale en 2071-2100.\n",
    "    \n",
    "Les proportions sont minimes pour le scénario A en 2041-2070, ainsi que pour le scénario B. \n",
    "</span>"
   ]
  },
  {
   "cell_type": "code",
   "execution_count": null,
   "id": "fb4c2598",
   "metadata": {
    "scrolled": false
   },
   "outputs": [],
   "source": [
    "ratio_entailles_A_2041 = is_not_propice_2041_A_df[\"2021_num_entailles\"].sum() / df[\"2021_num_entailles\"].sum()\n",
    "ratio_entailles_A_2071 = is_not_propice_2071_A_df[\"2021_num_entailles\"].sum() / df[\"2021_num_entailles\"].sum()\n",
    "\n",
    "ratio_entailles_B_2041 = is_not_propice_2041_B_df[\"2021_num_entailles\"].sum() / df[\"2021_num_entailles\"].sum()\n",
    "ratio_entailles_B_2071 = is_not_propice_2071_B_df[\"2021_num_entailles\"].sum() / df[\"2021_num_entailles\"].sum()\n",
    "\n",
    "ratio_exploitations_A_2041 = is_not_propice_2041_A_df[\"2021_num_exploitations\"].sum() / df[\"2021_num_exploitations\"].sum()\n",
    "ratio_exploitations_A_2071 = is_not_propice_2071_A_df[\"2021_num_exploitations\"].sum() / df[\"2021_num_exploitations\"].sum()\n",
    "\n",
    "ratio_exploitations_B_2041 = is_not_propice_2041_B_df[\"2021_num_exploitations\"].sum() / df[\"2021_num_exploitations\"].sum()\n",
    "ratio_exploitations_B_2071 = is_not_propice_2071_B_df[\"2021_num_exploitations\"].sum() / df[\"2021_num_exploitations\"].sum()\n",
    "\n",
    "\n",
    "print(f\"Scénario A (entailles) : {round(ratio_entailles_A_2041, 3)} (2041), {round(ratio_entailles_A_2071, 3)} (2071)\")\n",
    "print(f\"Scénario A (exploitations) : {round(ratio_exploitations_A_2041, 3)} (2041), {round(ratio_exploitations_A_2071, 3)} (2071)\")\n",
    "print(f\"Scénario B (entailles) : {round(ratio_entailles_B_2041, 3)} (2041), {round(ratio_entailles_B_2071, 3)} (2071)\")\n",
    "print(f\"Scénario B (exploitations) : {round(ratio_exploitations_B_2041, 3)} (2041), {round(ratio_exploitations_B_2071, 3)} (2071)\")"
   ]
  },
  {
   "cell_type": "markdown",
   "id": "edb3175a",
   "metadata": {},
   "source": [
    "### 4.3.2. À quel point les régions qui ont connu la plus forte croissance resteront-elles dans des zones propices au développement de l’érable ou se retrouveront-elles au contraire dans les zones où sa croissance pourrait être affectée?\n",
    "\n",
    "On affiche les données ordonnées selon la perte d'entailles entre 2021 et 2011 (`diff_num_entailles`). \n",
    "- On indique également si les régions se retrouvent dans la zone propice (`YYYY_X_is_propice`) selon l'année de début de la projection (`YYYY`) et le scénario (`X`). "
   ]
  },
  {
   "cell_type": "markdown",
   "id": "485a83df",
   "metadata": {},
   "source": [
    "<span style=\"color:red\"> \n",
    "Le climat des sept régions ayant connu la plus forte croissance du nombre d'entailles de 2011 à 2021 ne serait plus idéal au développement de l'érable en 2071-2100.\n",
    "</span>"
   ]
  },
  {
   "cell_type": "code",
   "execution_count": null,
   "id": "acdf29c0",
   "metadata": {
    "scrolled": false
   },
   "outputs": [],
   "source": [
    "_show(\n",
    "    df.sort_values(\"diff_percent_entailles\", ascending=False).reset_index()[[\n",
    "        \"area_name\",\n",
    "        \"province\",\n",
    "        \"diff_num_entailles\",\n",
    "        \"diff_percent_entailles\",\n",
    "        \"2021_percent_entailles\",\n",
    "        \"rank_entailles\",\n",
    "        \"2041_A_is_propice\",\n",
    "        \"2071_A_is_propice\",\n",
    "        \"2041_B_is_propice\",\n",
    "        \"2071_B_is_propice\"\n",
    "    ]]\n",
    ")"
   ]
  },
  {
   "cell_type": "markdown",
   "id": "0f5e8caa",
   "metadata": {},
   "source": [
    "# 4.4. Où enregistre-t-on les plus importants gains de territoire dans l'enveloppe climatique propice au développement de l'érable?\n",
    "\n",
    "On observe ici les régions pour lesquelles il existe un potentiel de migration de l'érable. On affiche `gain_X_YYYY` où `X` représente les conditions climatiques considérées (cores ou marginales) et `YYYY` représente l'année de projection."
   ]
  },
  {
   "cell_type": "markdown",
   "id": "e71c3c31",
   "metadata": {},
   "source": [
    "### Scénario A (2041-2070)\n",
    "\n",
    "<br/>\n",
    "<span style=\"color:red\"> \n",
    "On observe d'importants gains dans des régions nordiques, notamment le Saguenay--Lac-Saint-Jean--Côte-Nord et l'Abitibi-Témiscamingue--Nord-du-Québec, où plus de 14000 km carré du territoire n'avaient pas les conditions climatiques propices au développement de l'érable 2011-2040, mais les auront en 2041-2070, pour chacune des régions. \n",
    "</span>"
   ]
  },
  {
   "cell_type": "code",
   "execution_count": null,
   "id": "f509f48a",
   "metadata": {
    "scrolled": false
   },
   "outputs": [],
   "source": [
    "_show(\n",
    "    df.sort_values(\"gain_A_2011_vs_2041\", ascending=False).reset_index()[[\n",
    "        \"area_name\",\n",
    "        \"province\",\n",
    "        \"gain_A_2011_vs_2041\",\n",
    "        \"2021_percent_entailles\",\n",
    "        \"rank_entailles\",\n",
    "        \"total_area\",\n",
    "    ]]\n",
    ")"
   ]
  },
  {
   "cell_type": "markdown",
   "id": "8b336e50",
   "metadata": {},
   "source": [
    "### Scénario A (2071-2100)\n",
    "<br/>\n",
    "<span style=\"color:red\"> \n",
    "En 2071-2100, on observe d'encore plus importants gains dans ces mêmes régions nordiques. Plus de la moitié du territoire de l'Abitibi-Témiscamingue et du Nord du Québec développerait des conditions climatiques favorables. \n",
    "    \n",
    "On observe toutefois que la migration de la niche climatique favorable en 2041-2070 au Nord de l'Ontario n'est que de courte durée: lorsqu'on observe les projections de 2071-2100, la région n'enregistre que des gains négligeables (12 km carré). \n",
    "</span>"
   ]
  },
  {
   "cell_type": "code",
   "execution_count": null,
   "id": "a4a2c45c",
   "metadata": {
    "scrolled": false
   },
   "outputs": [],
   "source": [
    "_show(\n",
    "    df.sort_values(\"gain_A_2011_vs_2071\", ascending=False).reset_index()[[\n",
    "        \"area_name\",\n",
    "        \"province\",\n",
    "        \"gain_A_2011_vs_2071\",\n",
    "        \"2021_percent_entailles\",\n",
    "        \"rank_entailles\",\n",
    "        \"total_area\",\n",
    "    ]]\n",
    ")"
   ]
  },
  {
   "cell_type": "markdown",
   "id": "5295bba3",
   "metadata": {},
   "source": [
    "### Scénario B (2041-2070)"
   ]
  },
  {
   "cell_type": "markdown",
   "id": "461cb3ef",
   "metadata": {},
   "source": [
    "<span style=\"color:red\"> \n",
    "Selon le scénario B, l'Abitibi-Témiscamingue et le Nord du Québec enregistre les gains les plus importants, avec près de la moitié du territoire nouvellement dans la niche climatique tolérable. \n",
    "    \n",
    "On enregistre des gains plus modérés, mais dans un plus grand nombre de régions, dont les régions plus nordiques, mais également certaines régions plus au centre ou à l'Ouest du pays.\n",
    "</span>"
   ]
  },
  {
   "cell_type": "code",
   "execution_count": null,
   "id": "2cab37a4",
   "metadata": {
    "scrolled": false
   },
   "outputs": [],
   "source": [
    "_show(\n",
    "    df.sort_values(\"gain_B_2011_vs_2041\", ascending=False).reset_index()[[\n",
    "        \"area_name\",\n",
    "        \"province\",\n",
    "        \"gain_B_2011_vs_2041\",\n",
    "        \"2021_percent_entailles\",\n",
    "        \"rank_entailles\",\n",
    "        \"total_area\",\n",
    "    ]]\n",
    ")"
   ]
  },
  {
   "cell_type": "markdown",
   "id": "fcc1a56f",
   "metadata": {},
   "source": [
    "### Scénario B (2071-2100)\n",
    "<br/>\n",
    "<span style=\"color:red\"> \n",
    "Encore selon le scénario B, l'Abitibi-Témiscamingue--Nord-du-Québec conserve en bonne partie les nouvelles conditions climatiques favorables en 2071-2100.\n",
    "</span>"
   ]
  },
  {
   "cell_type": "code",
   "execution_count": null,
   "id": "446428da",
   "metadata": {
    "scrolled": false
   },
   "outputs": [],
   "source": [
    "_show(\n",
    "    df.sort_values(\"gain_B_2011_vs_2071\", ascending=False).reset_index()[[\n",
    "        \"area_name\",\n",
    "        \"province\",\n",
    "        \"gain_B_2011_vs_2071\",\n",
    "        \"2021_percent_entailles\",\n",
    "        \"rank_entailles\",\n",
    "        \"total_area\",\n",
    "    ]]\n",
    ")"
   ]
  },
  {
   "cell_type": "markdown",
   "id": "5afc7dc2",
   "metadata": {},
   "source": [
    "# 5. Autres questions"
   ]
  },
  {
   "cell_type": "markdown",
   "id": "85d7560f",
   "metadata": {},
   "source": [
    "## 5.1. Proportion des entailles / exploitations dans des zones qui ne sont pas propices?"
   ]
  },
  {
   "cell_type": "markdown",
   "id": "2b3dae70",
   "metadata": {},
   "source": [
    "On constate que moins de 1% des entailles totales se retrouvent à l'extérieur de la niche climatique core."
   ]
  },
  {
   "cell_type": "code",
   "execution_count": null,
   "id": "114efff4",
   "metadata": {
    "scrolled": false
   },
   "outputs": [],
   "source": [
    "df[\"2021_percent_exploitations\"] = df[\"2021_num_exploitations\"] / num_exploitations_2021\n",
    "\n",
    "_show(\n",
    "    df[\n",
    "        df[\"core_2011-2040\"] == 0\n",
    "    ].sort_values(\n",
    "        \"2021_percent_exploitations\", \n",
    "        ascending=False\n",
    "    ).reset_index()[[\n",
    "        \"2021_percent_exploitations\", \n",
    "        \"area_name\"\n",
    "    ]]\n",
    ")"
   ]
  },
  {
   "cell_type": "markdown",
   "id": "1532335a",
   "metadata": {},
   "source": [
    "On constate que moins de 1% des entailles totales se retrouvent à l'extérieur de la niche climatique marginale."
   ]
  },
  {
   "cell_type": "code",
   "execution_count": null,
   "id": "4b44627f",
   "metadata": {
    "scrolled": false
   },
   "outputs": [],
   "source": [
    "df[\"2021_percent_exploitations\"] = df[\"2021_num_exploitations\"] / num_exploitations_2021\n",
    "\n",
    "_show(\n",
    "    df[\n",
    "        df[\"core_or_marginal_2011-2040\"] == 0\n",
    "    ].sort_values(\n",
    "        \"2021_percent_exploitations\", \n",
    "        ascending=False\n",
    "    ).reset_index()[[\n",
    "        \"2021_percent_exploitations\", \n",
    "        \"area_name\"\n",
    "    ]]\n",
    ")"
   ]
  }
 ],
 "metadata": {
  "kernelspec": {
   "display_name": "Python 3 (ipykernel)",
   "language": "python",
   "name": "python3"
  },
  "language_info": {
   "codemirror_mode": {
    "name": "ipython",
    "version": 3
   },
   "file_extension": ".py",
   "mimetype": "text/x-python",
   "name": "python",
   "nbconvert_exporter": "python",
   "pygments_lexer": "ipython3",
   "version": "3.9.7"
  }
 },
 "nbformat": 4,
 "nbformat_minor": 5
}
