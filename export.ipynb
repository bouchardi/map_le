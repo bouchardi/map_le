{
 "cells": [
  {
   "cell_type": "code",
   "execution_count": null,
   "id": "1755032c",
   "metadata": {},
   "outputs": [],
   "source": [
    "from pathlib import Path\n",
    "import geopandas\n",
    "import pandas as pd"
   ]
  },
  {
   "cell_type": "code",
   "execution_count": null,
   "id": "95fe0ef4",
   "metadata": {},
   "outputs": [],
   "source": [
    "DATA_PATH = Path(\"data/\")\n",
    "CRS = \"EPSG:4326\"\n",
    "\n",
    "FILENAMES = {\n",
    "    \"RAR\": \"lcar000b21a_e.shp\", \n",
    "    \"CD\": \"ldr_000b21a_f.shp\"\n",
    "}"
   ]
  },
  {
   "cell_type": "code",
   "execution_count": null,
   "id": "ac17cd1b",
   "metadata": {},
   "outputs": [],
   "source": [
    "level = \"CD\""
   ]
  },
  {
   "cell_type": "code",
   "execution_count": null,
   "id": "3089c2ac",
   "metadata": {},
   "outputs": [],
   "source": [
    "df_farms = pd.read_csv(\n",
    "    DATA_PATH / \"fermes\" / f\"{level}_2021.csv\", delimiter=\";\"\n",
    ").drop(\n",
    "    [\n",
    "        \"UNITÉ DE MESURE\", \n",
    "        \"IDENTIFICATEUR D'UNITÉ DE MESURE\", \n",
    "        \"FACTEUR SCALAIRE\", \n",
    "        \"VECTEUR\", \n",
    "        \"COORDONNÉES\", \n",
    "        \"IDENTIFICATEUR SCALAIRE\", \n",
    "        \"STATUS\", \n",
    "        \"SYMBOLE\", \n",
    "        \"TERMINÉ\", \n",
    "        \"DÉCIMALES\"\n",
    "    ], \n",
    "    axis=1\n",
    ").reset_index()\n",
    "\n",
    "df_farms[\"GÉO\"] = df_farms.apply(\n",
    "    lambda row: row[\"GÉO\"].split(\" [\")[0], \n",
    "    axis=1\n",
    ")\n",
    "\n",
    "df_farms[\"DGUID\"] = df_farms.apply(\n",
    "    lambda row: row[\"DGUID\"][4:], \n",
    "    axis=1\n",
    ")\n",
    "\n",
    "\n",
    "df_farms = df_farms.replace(\n",
    "    \"Nombre d'exploitations déclarantes\", \n",
    "    \"num_exploitations\"\n",
    ").replace(\n",
    "    \"Nombre d'entailles\", \n",
    "    \"num_entailles\"\n",
    ").replace(\n",
    "    \"Nombre de fermes déclarantes\", \n",
    "    \"num_exploitations\"\n",
    ").pivot(\n",
    "    index=[\"GÉO\", \"DGUID\"], \n",
    "    columns=[\"Entailles d'érables\"], \n",
    "    values=\"VALEUR\"\n",
    ")\n",
    "\n",
    "df_farms.head()"
   ]
  },
  {
   "cell_type": "code",
   "execution_count": null,
   "id": "82f6f91e",
   "metadata": {},
   "outputs": [],
   "source": [
    "df_boundaries = geopandas.read_file(\n",
    "    DATA_PATH / \"boundaries\" / FILENAMES[level]\n",
    ").to_crs(\n",
    "    CRS\n",
    ").drop(\n",
    "    [\"DRIDU\", \"DRGENRE\", \"SUPTERRE\"], \n",
    "    axis=1\n",
    ").rename(\n",
    "    columns={\n",
    "        \"DRNOM\": \"area_name\", \n",
    "        \"IDUGD\": \"DGUID\", \n",
    "        \"PRIDU\": \"PRUID\"\n",
    "    }\n",
    ")\n",
    "\n",
    "df_boundaries[\"DGUID\"] = df_boundaries.apply(\n",
    "    lambda row: row[\"DGUID\"][4:], \n",
    "    axis=1\n",
    ")\n",
    "\n",
    "df_boundaries.head()"
   ]
  },
  {
   "cell_type": "code",
   "execution_count": null,
   "id": "f9b9a73a",
   "metadata": {},
   "outputs": [],
   "source": [
    "df = pd.merge(\n",
    "    df_boundaries, \n",
    "    df_farms, \n",
    "    on=\"DGUID\"\n",
    ")\n",
    "\n",
    "df.head()"
   ]
  },
  {
   "cell_type": "code",
   "execution_count": null,
   "id": "9caf58c3",
   "metadata": {},
   "outputs": [],
   "source": [
    "df.to_file(f'entailles_{level}.shp') "
   ]
  }
 ],
 "metadata": {
  "kernelspec": {
   "display_name": "Python 3 (ipykernel)",
   "language": "python",
   "name": "python3"
  },
  "language_info": {
   "codemirror_mode": {
    "name": "ipython",
    "version": 3
   },
   "file_extension": ".py",
   "mimetype": "text/x-python",
   "name": "python",
   "nbconvert_exporter": "python",
   "pygments_lexer": "ipython3",
   "version": "3.9.7"
  }
 },
 "nbformat": 4,
 "nbformat_minor": 5
}
