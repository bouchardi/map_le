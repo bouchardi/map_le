{
 "cells": [
  {
   "cell_type": "code",
   "execution_count": null,
   "id": "df4e0f7e",
   "metadata": {},
   "outputs": [],
   "source": [
    "import geopandas\n",
    "import rasterio\n",
    "from pathlib import Path\n",
    "import numpy as np\n",
    "import pandas as pd\n",
    "from rasterstats import zonal_stats\n",
    "import matplotlib.pyplot as plt\n",
    "from ipywidgets import interact\n",
    "\n",
    "from utils import read_raster, reproject_raster, compute_area\n",
    "\n",
    "%load_ext autoreload\n",
    "%autoreload 2"
   ]
  },
  {
   "cell_type": "code",
   "execution_count": null,
   "id": "90aef686",
   "metadata": {},
   "outputs": [],
   "source": [
    "DATA_PATH = Path(\"data/\")\n",
    "CRS = \"EPSG:4326\""
   ]
  },
  {
   "cell_type": "markdown",
   "id": "86fc27c8",
   "metadata": {},
   "source": [
    "### Farms and notches concentration"
   ]
  },
  {
   "cell_type": "code",
   "execution_count": null,
   "id": "1523a6eb",
   "metadata": {},
   "outputs": [],
   "source": [
    "df_farms = pd.concat(\n",
    "    [\n",
    "        pd.read_csv(DATA_PATH / \"fermes\" / \"3210036201_donneesselectionnees.csv\", delimiter=\";\"), \n",
    "        pd.read_csv(DATA_PATH / \"fermes\" / \"3210042301_donneesselectionnees.csv\", delimiter=\";\")\n",
    "    ]\n",
    ").drop(\n",
    "    [\n",
    "        \"UNITÉ DE MESURE\", \n",
    "        \"IDENTIFICATEUR D'UNITÉ DE MESURE\", \n",
    "        \"FACTEUR SCALAIRE\", \n",
    "        \"VECTEUR\", \n",
    "        \"COORDONNÉES\", \n",
    "        \"IDENTIFICATEUR SCALAIRE\", \n",
    "        \"STATUS\", \n",
    "        \"SYMBOLE\", \n",
    "        \"TERMINÉ\", \n",
    "        \"DÉCIMALES\"\n",
    "    ], \n",
    "    axis=1\n",
    ").pivot(\n",
    "    index=[\"GÉO\", \"DGUID\"], \n",
    "    columns=[\"PÉRIODE DE RÉFÉRENCE\", \"Entailles d'érables\"], \n",
    "    values=\"VALEUR\"\n",
    ")\n",
    "\n",
    "df_farms.head()\n",
    "\n",
    "# TODO: fix problem mismatch GEO 2011-2016 vs 2021"
   ]
  },
  {
   "cell_type": "markdown",
   "id": "37158bd2",
   "metadata": {},
   "source": [
    "### Déplacement des zones propices "
   ]
  },
  {
   "cell_type": "code",
   "execution_count": null,
   "id": "c33b84be",
   "metadata": {},
   "outputs": [],
   "source": [
    "df_favourable_areas_2011_2040 = geopandas.read_file(DATA_PATH / \"rasters\" / \"arcp8510000532011-2040.shp\")\n",
    "df_favourable_areas_2011_2040 = df_favourable_areas_2011_2040.rename(columns={\"DN\": \"climate_condition\"})\n",
    "\n",
    "df_favourable_areas_2011_2040.plot(\"climate_condition\")"
   ]
  },
  {
   "cell_type": "code",
   "execution_count": null,
   "id": "7c789810",
   "metadata": {},
   "outputs": [],
   "source": [
    "df_favourable_areas_2041_2070 = geopandas.read_file(DATA_PATH / \"rasters\" / \"arcp8510000532041-2070.shp\")\n",
    "df_favourable_areas_2041_2070 = df_favourable_areas_2041_2070.rename(columns={\"DN\": \"climate_condition\"})\n",
    "\n",
    "df_favourable_areas_2041_2070.plot(\"climate_condition\")"
   ]
  },
  {
   "cell_type": "code",
   "execution_count": null,
   "id": "84197725",
   "metadata": {},
   "outputs": [],
   "source": [
    "df_favourable_areas_2071_2100 = geopandas.read_file(DATA_PATH / \"rasters\" / \"arcp8510000532071-2100.shp\")\n",
    "df_favourable_areas_2071_2100 = df_favourable_areas_2071_2100.rename(columns={\"DN\": \"climate_condition\"})\n",
    "\n",
    "df_favourable_areas_2071_2100.plot(\"climate_condition\")"
   ]
  },
  {
   "cell_type": "code",
   "execution_count": null,
   "id": "e86185f7",
   "metadata": {},
   "outputs": [],
   "source": [
    "df_favourable_areas_2071_2100.head()"
   ]
  },
  {
   "cell_type": "code",
   "execution_count": null,
   "id": "e694141a",
   "metadata": {},
   "outputs": [],
   "source": [
    "assert df_favourable_areas_2011_2040.crs == df_favourable_areas_2041_2070.crs\n",
    "assert df_favourable_areas_2011_2040.crs == df_favourable_areas_2071_2100.crs \n",
    "assert df_favourable_areas_2011_2040.crs == CRS"
   ]
  },
  {
   "cell_type": "markdown",
   "id": "4b58f03d",
   "metadata": {},
   "source": [
    "### Boundary files"
   ]
  },
  {
   "cell_type": "code",
   "execution_count": null,
   "id": "37b5ae95",
   "metadata": {},
   "outputs": [],
   "source": [
    "boundaries = geopandas.read_file(\n",
    "    DATA_PATH / \"boundaries\" / \"lcar000b21a_e.shp\"\n",
    ").to_crs(\n",
    "    CRS\n",
    ").drop(\n",
    "    [\"CARUID\", \"CARENAME\", \"LANDAREA\"], \n",
    "    axis=1\n",
    ").rename(\n",
    "    columns={\"CARFNAME\": \"area_name\"}\n",
    ")\n",
    "\n",
    "boundaries[\"total_area\"] = compute_area(boundaries)\n",
    "\n",
    "boundaries.head()"
   ]
  },
  {
   "cell_type": "code",
   "execution_count": null,
   "id": "e7d01ac9",
   "metadata": {},
   "outputs": [],
   "source": [
    "boundaries.plot(\"total_area\")"
   ]
  },
  {
   "cell_type": "markdown",
   "id": "829fb8d5",
   "metadata": {},
   "source": [
    "### Load current biomass map"
   ]
  },
  {
   "cell_type": "code",
   "execution_count": null,
   "id": "7f0214a3",
   "metadata": {},
   "outputs": [],
   "source": [
    "in_path = DATA_PATH / \"cartography\" / \"ACESAC_volume_250m_final-100.tif\"\n",
    "out_path = DATA_PATH / \"cartography\" / \"ACESAC_volume_250m_final-100_reprojected.tif\"\n",
    "\n",
    "reproject_raster(in_path, out_path, new_crs=CRS)\n",
    "\n",
    "with rasterio.open(out_path) as src:\n",
    "    no_data_value = src.nodata\n",
    "    affine = src.transform\n",
    "    \n",
    "    biomass_raster = src.read(1)\n",
    "    \n",
    "plt.imshow(biomass_raster)\n",
    "plt.show()"
   ]
  },
  {
   "cell_type": "code",
   "execution_count": null,
   "id": "944bbe2c",
   "metadata": {},
   "outputs": [],
   "source": [
    "boundaries[\"stats\"] = zonal_stats(\n",
    "    vectors=boundaries['geometry'], \n",
    "    raster=biomass_raster, \n",
    "    affine=affine, \n",
    "    stats=\"sum\", \n",
    "    nodata=no_data_value\n",
    ")\n",
    "\n",
    "boundaries[\"total_biomass\"] = boundaries.apply(\n",
    "    lambda row: row[\"stats\"][\"sum\"], \n",
    "    axis=1\n",
    ")\n",
    "\n",
    "boundaries = boundaries.drop([\"stats\"], axis=1)\n",
    "\n",
    "boundaries.head()"
   ]
  },
  {
   "cell_type": "code",
   "execution_count": null,
   "id": "2d6813ec",
   "metadata": {},
   "outputs": [],
   "source": [
    "def _plot(pr_uid):\n",
    "    return boundaries[boundaries[\"PRUID\"] == pr_uid].explore(\"total_biomass\")\n",
    "    \n",
    "interact(\n",
    "    _plot,\n",
    "    pr_uid= boundaries[\"PRUID\"].unique()\n",
    ")"
   ]
  },
  {
   "cell_type": "markdown",
   "id": "e59fdf53",
   "metadata": {},
   "source": [
    "### Spatial join boundaries and areas 2011-2041"
   ]
  },
  {
   "cell_type": "code",
   "execution_count": null,
   "id": "93d8b16a",
   "metadata": {},
   "outputs": [],
   "source": [
    "df_intersection_2011_2040 = boundaries.head().overlay(\n",
    "    df_favourable_areas_2011_2040, \n",
    "    how=\"intersection\"\n",
    ").drop(\n",
    "    [\n",
    "        \"area_name\", \n",
    "        \"PRUID\", \n",
    "        \"total_area\",\n",
    "        \"total_biomass\"\n",
    "        \n",
    "    ], \n",
    "    axis=1\n",
    ")\n",
    "\n",
    "df_intersection_2011_2040[\"intersection_area\"] = compute_area(df_intersection_2011_2040)\n",
    "\n",
    "df_intersection_2011_2040 = df_intersection_2011_2040.groupby(\n",
    "    [\"DGUID\", \"climate_condition\"], \n",
    "    as_index = False\n",
    ").sum().pivot(\n",
    "    index=\"DGUID\", \n",
    "    columns=\"climate_condition\", \n",
    "    values=\"intersection_area\"\n",
    ").fillna(0)\n",
    "\n",
    "df_intersection_2011_2040.head()"
   ]
  },
  {
   "cell_type": "markdown",
   "id": "3f7a0677",
   "metadata": {},
   "source": [
    "#### Build a dataframe where each row represents an agriculture zone with the following columns\n",
    "1. Area name\n",
    "2. Pr code\n",
    "3. Geometry\n",
    "4. Total area\n",
    "5. Proportion in propice areas in 2011-2040\n",
    "6. Proportion in propice areas in 2041-2070\n",
    "7. Proportion in propice areas in 2071-2100\n",
    "8. Proportion of maple trees in the area in 2011. \n",
    "9. Biomasse d'érables en 2011. \n",
    "10. Nombre d'entailles en 2011.\n",
    "11. Nombre d'entailles en 2021.\n",
    "12. Nombre de fermes en 2011.\n",
    "13. Nombre de fermes en 2021.\n",
    "14. Diff entailles. \n",
    "15. Diff fermes. \n",
    "\n",
    "- Load data d'entailles et de fermes pour 2011 et 2021 ?\n",
    "- Merger tous les df\n",
    "\n",
    "\n",
    "\n"
   ]
  }
 ],
 "metadata": {
  "kernelspec": {
   "display_name": "Python 3 (ipykernel)",
   "language": "python",
   "name": "python3"
  },
  "language_info": {
   "codemirror_mode": {
    "name": "ipython",
    "version": 3
   },
   "file_extension": ".py",
   "mimetype": "text/x-python",
   "name": "python",
   "nbconvert_exporter": "python",
   "pygments_lexer": "ipython3",
   "version": "3.9.7"
  }
 },
 "nbformat": 4,
 "nbformat_minor": 5
}
