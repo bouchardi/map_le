{
 "cells": [
  {
   "cell_type": "markdown",
   "id": "3cc4b321",
   "metadata": {},
   "source": [
    "# La migration des érables à sucre au Canada\n",
    "\n",
    "Ce document est divisé en quatre sections: \\\n",
    "A. Lecture des données \\\n",
    "B. Création de la table de données de travail \\\n",
    "C. Visualisation interactive des données \\\n",
    "D. Réponses aux questions de recherche"
   ]
  },
  {
   "cell_type": "code",
   "execution_count": null,
   "id": "df4e0f7e",
   "metadata": {},
   "outputs": [],
   "source": [
    "import geopandas\n",
    "import rasterio\n",
    "from pathlib import Path\n",
    "import numpy as np\n",
    "import pandas as pd\n",
    "from rasterstats import zonal_stats\n",
    "import matplotlib.pyplot as plt\n",
    "from ipywidgets import interact\n",
    "import matplotlib as mpl\n",
    "\n",
    "from utils import read_raster, reproject_raster, compute_area, zonal_stats_for_value\n",
    "\n",
    "%load_ext autoreload\n",
    "%autoreload 2"
   ]
  },
  {
   "cell_type": "markdown",
   "id": "27c4f808",
   "metadata": {},
   "source": [
    "## Définition des variables "
   ]
  },
  {
   "cell_type": "code",
   "execution_count": null,
   "id": "90aef686",
   "metadata": {},
   "outputs": [],
   "source": [
    "DATA_PATH = Path(\"data/\")\n",
    "CRS = \"EPSG:4326\"\n",
    "TOP_N = 20"
   ]
  },
  {
   "cell_type": "markdown",
   "id": "45071a10",
   "metadata": {},
   "source": [
    "# A. Lecture des données "
   ]
  },
  {
   "cell_type": "markdown",
   "id": "86fc27c8",
   "metadata": {},
   "source": [
    "### Données d'exploitations acéricoles et d'entailles d'érables\n",
    "\n",
    "Les données d'exploitations et d'entailles proviennent de Statistique Canada. On a télécharché les données pour [2011, 2016](https://www150.statcan.gc.ca/t1/tbl1/fr/cv!recreate.action?pid=3210042301&selectedNodeIds=&checkedLevels=0D1,0D2,0D3,0D4,0D5,1D1&refPeriods=20110101,20160101&dimensionLayouts=layout3,layout3,layout2&vectorDisplay=false) et [2021](https://www150.statcan.gc.ca/t1/tbl1/fr/cv.action?pid=3210036201), par région agricole de recensement (RAR). "
   ]
  },
  {
   "cell_type": "code",
   "execution_count": null,
   "id": "1523a6eb",
   "metadata": {},
   "outputs": [],
   "source": [
    "df_farms = pd.concat(\n",
    "    [\n",
    "        pd.read_csv(DATA_PATH / \"fermes\" / \"3210036201_donneesselectionnees.csv\", delimiter=\";\"), \n",
    "        pd.read_csv(DATA_PATH / \"fermes\" / \"3210042301_donneesselectionnees.csv\", delimiter=\";\")\n",
    "    ]\n",
    ").drop(\n",
    "    [\n",
    "        \"UNITÉ DE MESURE\", \n",
    "        \"IDENTIFICATEUR D'UNITÉ DE MESURE\", \n",
    "        \"FACTEUR SCALAIRE\", \n",
    "        \"VECTEUR\", \n",
    "        \"COORDONNÉES\", \n",
    "        \"IDENTIFICATEUR SCALAIRE\", \n",
    "        \"STATUS\", \n",
    "        \"SYMBOLE\", \n",
    "        \"TERMINÉ\", \n",
    "        \"DÉCIMALES\"\n",
    "    ], \n",
    "    axis=1\n",
    ").reset_index()\n",
    "\n",
    "df_farms[\"GÉO\"] = df_farms.apply(\n",
    "    lambda row: row[\"GÉO\"].split(\" [\")[0], \n",
    "    axis=1\n",
    ")\n",
    "\n",
    "df_farms[\"DGUID\"] = df_farms.apply(\n",
    "    lambda row: row[\"DGUID\"][4:], \n",
    "    axis=1\n",
    ")\n",
    "\n",
    "\n",
    "df_farms = df_farms.replace(\n",
    "    \"Nombre d'exploitations déclarantes\", \n",
    "    \"num_exploitations\"\n",
    ").replace(\n",
    "    \"Nombre d'entailles\", \n",
    "    \"num_entailles\"\n",
    ").replace(\n",
    "    \"Nombre de fermes déclarantes\", \n",
    "    \"num_exploitations\"\n",
    ").pivot(\n",
    "    index=[\"GÉO\", \"DGUID\"], \n",
    "    columns=[\"PÉRIODE DE RÉFÉRENCE\", \"Entailles d'érables\"], \n",
    "    values=\"VALEUR\"\n",
    ")\n",
    "\n",
    "df_farms.columns = [f\"{x}_{y}\" for x, y in df_farms.columns.to_flat_index()]\n",
    "\n",
    "df_farms.head()"
   ]
  },
  {
   "cell_type": "markdown",
   "id": "4b58f03d",
   "metadata": {},
   "source": [
    "### Fichiers des limites géographiques\n",
    "\n",
    "On téléchargement également les fichiers des [limites géographiques des régions agricoles de recensement (RAR)](https://www12.statcan.gc.ca/census-recensement/2021/geo/sip-pis/boundary-limites/index2021-fra.cfm?year=21) à partir du site de Statistique Canada. "
   ]
  },
  {
   "cell_type": "code",
   "execution_count": null,
   "id": "37b5ae95",
   "metadata": {},
   "outputs": [],
   "source": [
    "df_boundaries = geopandas.read_file(\n",
    "    DATA_PATH / \"boundaries\" / \"lcar000b21a_e.shp\"\n",
    ").to_crs(\n",
    "    CRS\n",
    ").drop(\n",
    "    [\"CARUID\", \"CARENAME\", \"LANDAREA\"], \n",
    "    axis=1\n",
    ").rename(\n",
    "    columns={\"CARFNAME\": \"area_name\"}\n",
    ")\n",
    "\n",
    "df_boundaries[\"DGUID\"] = df_boundaries.apply(\n",
    "    lambda row: row[\"DGUID\"][4:], \n",
    "    axis=1\n",
    ")\n",
    "\n",
    "df_boundaries[\"total_area\"] = compute_area(df_boundaries)\n",
    "\n",
    "df_boundaries.head()"
   ]
  },
  {
   "cell_type": "markdown",
   "id": "e04445ca",
   "metadata": {},
   "source": [
    "On visualise les limites géographiques."
   ]
  },
  {
   "cell_type": "code",
   "execution_count": null,
   "id": "e7d01ac9",
   "metadata": {},
   "outputs": [],
   "source": [
    "df_boundaries.plot()"
   ]
  },
  {
   "cell_type": "markdown",
   "id": "829fb8d5",
   "metadata": {},
   "source": [
    "### Carte de la biomasse (2001)\n",
    "\n",
    "On télécharge ensuite les cartes de la biomasse aérienne de l'érable à sucre en tonnes/ha. Il s'agit d'un fichier de type raster avec une résolution de 250m. \n",
    "\n",
    "_Source: Beaudoin, A., Bernier, P. Y., Guindon, L., Villemaire, P., Guo, X. J., Stinson, G., . . . Hall, R. J. (2014). Mapping attributes of Canada’s forests at moderate resolution through kNN and MODIS imagery. Canadian journal of forest research, 44(5), 521-532. [doi:10.1139/cjfr-2013-0401](doi:10.1139/cjfr-2013-0401)_"
   ]
  },
  {
   "cell_type": "code",
   "execution_count": null,
   "id": "7f0214a3",
   "metadata": {},
   "outputs": [],
   "source": [
    "filename = DATA_PATH / \"cartography\" / \"ACESAC_volume_250m_final-100.tif\"    \n",
    "biomass_raster, affine, no_data_value = read_raster(filename, crs=CRS)\n",
    "    \n",
    "plt.imshow(biomass_raster)\n",
    "plt.show()"
   ]
  },
  {
   "cell_type": "markdown",
   "id": "cc6f435d",
   "metadata": {},
   "source": [
    "On calcule la biomasse totale (`total_biomass`) pour chacune des régions agricoles de recensement. "
   ]
  },
  {
   "cell_type": "code",
   "execution_count": null,
   "id": "944bbe2c",
   "metadata": {},
   "outputs": [],
   "source": [
    "df_boundaries[\"stats\"] = zonal_stats(\n",
    "    vectors=df_boundaries['geometry'], \n",
    "    raster=biomass_raster, \n",
    "    affine=affine, \n",
    "    stats=\"sum\", \n",
    "    nodata=no_data_value\n",
    ")\n",
    "\n",
    "df_boundaries[\"total_biomass\"] = df_boundaries.apply(\n",
    "    lambda row: row[\"stats\"][\"sum\"], \n",
    "    axis=1\n",
    ")\n",
    "\n",
    "df_boundaries = df_boundaries.drop([\"stats\"], axis=1)\n",
    "\n",
    "df_boundaries.head()"
   ]
  },
  {
   "cell_type": "markdown",
   "id": "37158bd2",
   "metadata": {},
   "source": [
    "### Projections de l'enveloppe climatique propice à l'érable à sucre \n",
    "\n",
    "On télécharge ensuite les fichiers de projections climatiques pour l'érable à sucre (selon le scénario SDM ANUCLIM et le RCP 8.5) pour les horizons 2011-2040, 2041-2070 et 2071 à 2100. \n",
    "\n",
    "On considère une enveloppe \"marginale\" et une enveloppe \"core\", selon les définitions suivantes:\n",
    "- \"marginale\": enveloppe climatique pour une période définie calibrée selon le min/max des conditions climatiques observées durant la période de référence.\n",
    "- \"core\": Enveloppe climatique selon le 5e à 95e centile des conditions climatiques observées durant la période de référence \n",
    "\n",
    "Source: https://protect-eu.mimecast.com/s/G3lTCVNkkFqzB6DHGqvem?domain=planthardiness.gc.ca ET McKENNEY, D. W., Pedlar, J. H., Rood, R. B., & Price, D. (2011). Revisiting projected shifts in the climate envelopes of North American trees using updated general circulation models. Global Change Biology, 17(8), 2720-2730.  "
   ]
  },
  {
   "cell_type": "markdown",
   "id": "1327bd8a",
   "metadata": {},
   "source": [
    "#### Projection 2011-2040"
   ]
  },
  {
   "cell_type": "code",
   "execution_count": null,
   "id": "c60b201c",
   "metadata": {},
   "outputs": [],
   "source": [
    "filename = DATA_PATH / \"rasters\" / \"arcp8510000532011-2040.asc\"\n",
    "\n",
    "raster_2011_2040, affine, no_data_value = read_raster(filename, crs=CRS)\n",
    "    \n",
    "cmap = mpl.colors.ListedColormap(['black', 'yellow', 'orange'])\n",
    "bounds = [no_data_value, 1, 3, 4]\n",
    "norm = mpl.colors.BoundaryNorm(bounds, cmap.N)\n",
    "\n",
    "plt.imshow(raster_2011_2040, cmap=cmap, norm=norm)\n",
    "plt.show()"
   ]
  },
  {
   "cell_type": "markdown",
   "id": "a41e5d7d",
   "metadata": {},
   "source": [
    "Pour chacune des régions agricoles de recensement, on calcule le nombre de pixel pour chacune des catégories (\"marginale\", \"core\" et \"autres\")."
   ]
  },
  {
   "cell_type": "code",
   "execution_count": null,
   "id": "2b46cbcb",
   "metadata": {},
   "outputs": [],
   "source": [
    "period = \"2011-2040\"\n",
    "\n",
    "for value, name in [\n",
    "    (1, \"marginal\"), \n",
    "    (3, \"core\"), \n",
    "    (no_data_value, \"rest\")\n",
    "]:\n",
    "    df_boundaries[f\"{name}_{period}\"] = zonal_stats_for_value(\n",
    "        raster=raster_2011_2040, \n",
    "        vectors=df_boundaries[\"geometry\"], \n",
    "        value=value, \n",
    "        stats=\"count\", \n",
    "        data_value=100, \n",
    "        no_data_value=no_data_value, \n",
    "        affine=affine\n",
    "    )"
   ]
  },
  {
   "cell_type": "markdown",
   "id": "f5ab9ea7",
   "metadata": {},
   "source": [
    "#### Projection 2041-2070"
   ]
  },
  {
   "cell_type": "code",
   "execution_count": null,
   "id": "da7e9a49",
   "metadata": {},
   "outputs": [],
   "source": [
    "filename = DATA_PATH / \"rasters\" / \"arcp8510000532041-2070.asc\"\n",
    "\n",
    "raster_2041_2070, affine, no_data_value = read_raster(filename, crs=CRS)\n",
    "    \n",
    "plt.imshow(raster_2041_2070, cmap=cmap, norm=norm)\n",
    "plt.show()"
   ]
  },
  {
   "cell_type": "markdown",
   "id": "c6bbbf74",
   "metadata": {},
   "source": [
    "Pour chacune des régions agricoles de recensement, on calcule le nombre de pixel pour chacune des catégories (\"marginale\", \"core\" et \"autres\")."
   ]
  },
  {
   "cell_type": "code",
   "execution_count": null,
   "id": "67ac4b5c",
   "metadata": {},
   "outputs": [],
   "source": [
    "period = \"2041-2070\"\n",
    "\n",
    "for value, name in [\n",
    "    (1, \"marginal\"), \n",
    "    (3, \"core\"), \n",
    "    (no_data_value, \"rest\")\n",
    "]:\n",
    "    df_boundaries[f\"{name}_{period}\"] = zonal_stats_for_value(\n",
    "        raster=raster_2041_2070, \n",
    "        vectors=df_boundaries[\"geometry\"], \n",
    "        value=value, \n",
    "        stats=\"count\", \n",
    "        data_value=100, \n",
    "        no_data_value=no_data_value, \n",
    "        affine=affine\n",
    "    )"
   ]
  },
  {
   "cell_type": "markdown",
   "id": "4d567399",
   "metadata": {},
   "source": [
    "#### Projection 2071-2100"
   ]
  },
  {
   "cell_type": "code",
   "execution_count": null,
   "id": "ae1faf33",
   "metadata": {},
   "outputs": [],
   "source": [
    "filename = DATA_PATH / \"rasters\" / \"arcp8510000532071-2100.asc\"\n",
    "raster_2071_2100, affine, no_data_value = read_raster(filename, crs=CRS)\n",
    "    \n",
    "plt.imshow(raster_2071_2100, cmap=cmap, norm=norm)\n",
    "plt.show()"
   ]
  },
  {
   "cell_type": "markdown",
   "id": "c7a3509e",
   "metadata": {},
   "source": [
    "Pour chacune des régions agricoles de recensement, on calcule le nombre de pixel pour chacune des catégories (\"marginale\", \"core\" et \"autres\")."
   ]
  },
  {
   "cell_type": "code",
   "execution_count": null,
   "id": "97fb3419",
   "metadata": {},
   "outputs": [],
   "source": [
    "period = \"2071-2100\"\n",
    "\n",
    "for value, name in [\n",
    "    (1, \"marginal\"), \n",
    "    (3, \"core\"), \n",
    "    (no_data_value, \"rest\")\n",
    "]:\n",
    "    df_boundaries[f\"{name}_{period}\"] = zonal_stats_for_value(\n",
    "        raster=raster_2071_2100, \n",
    "        vectors=df_boundaries[\"geometry\"], \n",
    "        value=value, \n",
    "        stats=\"count\", \n",
    "        data_value=100, \n",
    "        no_data_value=no_data_value, \n",
    "        affine=affine\n",
    "    )"
   ]
  },
  {
   "cell_type": "markdown",
   "id": "5119b159",
   "metadata": {},
   "source": [
    "# B. Création de la table de données de travail\n",
    "\n",
    "On joint les données téléchargées dans un dataframe comprenant toutes les informations requises pour répondre aux questions de recherche. On calcule quelques statistiques préalables et on nettoie la table de données finale."
   ]
  },
  {
   "cell_type": "code",
   "execution_count": null,
   "id": "10918505",
   "metadata": {},
   "outputs": [],
   "source": [
    "df = pd.merge(\n",
    "    df_boundaries, \n",
    "    df_farms, \n",
    "    on=\"DGUID\"\n",
    ")\n",
    "\n",
    "pr_df = pd.DataFrame({\n",
    "    \"PRUID\": [\"10\", \"11\", \"12\", \"13\", \"24\", \"35\", \"46\", \"47\", \"48\", \"59\", \"60\", \"61\", \"62\"], \n",
    "    \"province\": [\n",
    "        \"Terre-Neuve-et-Labrador\", \n",
    "        \"Île-du-Prince-Édouard\", \n",
    "        \"Nouvelle-Écosse\",\n",
    "        \"Nouveau-Brunswick\",\n",
    "        \"Québec\",\n",
    "        \"Ontario\",\n",
    "        \"Manitoba\",\n",
    "        \"Saskatchewan\",\n",
    "        \"Alberta\",\n",
    "        \"Colombie-Britannique\",\n",
    "        \"Yukon\",\n",
    "        \"Territoires du Nord-Ouest\",\n",
    "        \"Nunavut\"\n",
    "    ]\n",
    "}\n",
    ")\n",
    "\n",
    "df = df.merge(\n",
    "    pr_df, \n",
    "    on=\"PRUID\"\n",
    ").drop(\"PRUID\", axis=1)\n",
    "\n",
    "df[\"rank_biomass\"] = df[\"total_biomass\"].rank(method=\"min\", na_option=\"bottom\", ascending=False)\n",
    "df[\"rank_entailles\"] = df[\"2021_num_entailles\"].rank(method=\"min\", na_option=\"bottom\", ascending=False)\n",
    "df[\"rank_exploitations\"] = df[\"2021_num_exploitations\"].rank(method=\"min\", na_option=\"bottom\", ascending=False)\n",
    "\n",
    "df = df.rename({\n",
    "    \"all_2011-2040\": \"rest_2011-2040\", \n",
    "    \"all_2041-2070\": \"rest_2041-2070\", \n",
    "    \"all_2071-2100\": \"rest_2071-2100\", \n",
    "}, axis=1)\n",
    "\n",
    "df.head()"
   ]
  },
  {
   "cell_type": "markdown",
   "id": "237f7476",
   "metadata": {},
   "source": [
    "# C. Visualisation interactive des données \n",
    "\n",
    "On peut visualiser les différentes variables disponibles dans cette carte interactive. \n",
    "\n",
    "Attention! Comme il s'agit de données relativement lourdes, on enregistre un délai entre le changement de variable et le rafraichissement de la carte interactive. "
   ]
  },
  {
   "cell_type": "code",
   "execution_count": null,
   "id": "2d6813ec",
   "metadata": {
    "scrolled": false
   },
   "outputs": [],
   "source": [
    "def _plot(province, column_name):\n",
    "    return df[df[\"province\"] == province].explore(column_name)\n",
    "    \n",
    "interact(\n",
    "    _plot,\n",
    "    province= df[\"province\"].unique(),\n",
    "    column_name=df.columns.tolist()[3:-2]\n",
    ")"
   ]
  },
  {
   "cell_type": "markdown",
   "id": "f2bcbce6",
   "metadata": {},
   "source": [
    "# D. Réponses aux questions de recherche"
   ]
  },
  {
   "cell_type": "markdown",
   "id": "dfd76d6f",
   "metadata": {},
   "source": [
    "Pour répondre aux questions de recherche, on définie deux scénarios: \n",
    "- Scénario A: On ne considère que les zones vec les conditions climatiques cores.\n",
    "- Scénario B: On considère les zones avec les conditions climatiques cores et marginales.\n",
    "\n",
    "On doit également décliner la réponse par rapport aux projections de 2041-2070, puis aux projections de 2071-2100. \n",
    "\n",
    "On s'attend donc logiquement à ce que les différences les plus marquantes soient observées selon le scénario A, et les projections de 2071-2100. \n",
    "\n",
    "Les conclusions aux questions de recherche sont affichées <span style=\"color:red\"> en rouge </span>à la suite des questions. "
   ]
  },
  {
   "cell_type": "markdown",
   "id": "214922c4",
   "metadata": {},
   "source": [
    "## 1. Où se situent les zones propices au développement de l’érable à sucre au Canada et comment seront-elles affectées par le réchauffement climatique?"
   ]
  },
  {
   "cell_type": "markdown",
   "id": "420b00a0",
   "metadata": {},
   "source": [
    "### Y a-t-il des zones actuellement propices qui ne le seront plus du tout?"
   ]
  },
  {
   "cell_type": "markdown",
   "id": "0120cae9",
   "metadata": {},
   "source": [
    "On calcule la perte de zone propice pour les scénarios A et B, ainsi que pour les deux préiodes de projections. "
   ]
  },
  {
   "cell_type": "code",
   "execution_count": null,
   "id": "3bcc4524",
   "metadata": {},
   "outputs": [],
   "source": [
    "# Scénario A \n",
    "df[\"diff_A_2011_vs_2041\"] = df[\"core_2011-2040\"] - df[\"core_2041-2070\"]\n",
    "df[\"diff_A_2011_vs_2071\"] = df[\"core_2011-2040\"] - df[\"core_2071-2100\"]\n",
    "\n",
    "# Scénario B\n",
    "df[\"core_marginal_2011-2040\"] = df[\"core_2011-2040\"] + df[\"marginal_2011-2040\"]\n",
    "df[\"core_marginal_2041-2070\"] = df[\"core_2041-2070\"] + df[\"marginal_2041-2070\"]\n",
    "df[\"core_marginal_2071-2100\"] = df[\"core_2071-2100\"] + df[\"marginal_2071-2100\"]\n",
    "df[\"diff_B_2011_vs_2041\"] = df[\"core_marginal_2011-2040\"] - df[\"core_marginal_2041-2070\"]\n",
    "df[\"diff_B_2011_vs_2071\"] = df[\"core_marginal_2011-2040\"] - df[\"core_marginal_2071-2100\"]"
   ]
  },
  {
   "cell_type": "markdown",
   "id": "c6ea7fd8",
   "metadata": {},
   "source": [
    "#### Scénario A (2011-2040 vs 2041-2070)\n",
    "\n",
    "On affiche les données ordonnées en fonction de la perte de zones propices (`diff_A_2011_vs_2041`). `core_2011-2040` et `core_2041-2070` représentent le nombre absolu de pixel à l'intérieur des zones propices, et `rank_biomass` représente le rang de la région agricole de recensement en fonction de la biomasse totale d'érable à sucre. \n",
    "\n",
    "À noter qu'on considère la biomasse totale, indépendemment de l'aire totale d'une région de recensement. "
   ]
  },
  {
   "cell_type": "markdown",
   "id": "a0025d42",
   "metadata": {},
   "source": [
    "<span style=\"color:red\"> \n",
    "On constate que les régions du Nord, du Sud et de l'Est de l'Ontario sont les régions ou on enregistre les plus importantes pertes de territoires. Malgré tout, les projections de 2041-2070 indiquent qu'une grande partie de ces régions seront encore propices au développement de l'érable à sucre. Il en va de même pour la Région agricole de recensement 2 de Terre-Neuve-et-Labrador.\n",
    "    \n",
    "À l'inverse, les Région agricole de recensement 2 et 3 du Nouveau-Brunswick, ainsi que la Montérégie (Québec) enregistre également d'importantes pertes, et on constate que ces régions ne seront plus propices au développement de l'érable à sucre en 2041. \n",
    "    \n",
    "De même, ls Région agricole de recensement 3 de Nouvelle-Écosse ainsi que les Régions agricole de recensement 2 et 3 de l'Île-du-Prince-Édouard sont actuellement propices, mais ne sont plus du tout en 2041. \n",
    "</span>"
   ]
  },
  {
   "cell_type": "code",
   "execution_count": null,
   "id": "21448dd4",
   "metadata": {},
   "outputs": [],
   "source": [
    "df.sort_values(\n",
    "    \"diff_A_2011_vs_2041\", \n",
    "    ascending=False\n",
    ")[[\n",
    "    \"area_name\", \n",
    "    \"province\", \n",
    "    \"diff_A_2011_vs_2041\", \n",
    "    \"core_2011-2040\",\n",
    "    \"core_2041-2070\", \n",
    "    \"rank_biomass\"\n",
    "]].reset_index().head(n=TOP_N)"
   ]
  },
  {
   "cell_type": "markdown",
   "id": "28f75eeb",
   "metadata": {},
   "source": [
    "#### Scénario A (2011-2040 vs 2071-2100)\n",
    "\n",
    "On affiche les données ordonnées en fonction de la perte de zones propices (`diff_A_2011_vs_2071`). `core_2011-2040` et `core_2071-2100` représentent le nombre absolu de pixel à l'intérieur des zones propices, et `rank_biomass` représente le rang de la région agricole de recensement en fonction de la biomasse totale d'érable à sucre. "
   ]
  },
  {
   "cell_type": "markdown",
   "id": "e1f6636e",
   "metadata": {},
   "source": [
    "<span style=\"color:red\"> \n",
    "Les conclusions sont d'autant plus imposantes en 2071. Presque toutes les régions enregistrant une perte ne seront plus propices en 2071. On note quelques exceptions, notament la Mauricie (Québec) et de la Région agricole de recensement 2 de Terre-Neuve-et-Labrabor,  ou une très faible partie du territoire demeure propice au développement de l'érable à sucre. \n",
    "</span>"
   ]
  },
  {
   "cell_type": "code",
   "execution_count": null,
   "id": "448b2cdb",
   "metadata": {},
   "outputs": [],
   "source": [
    "df.sort_values(\n",
    "    \"diff_A_2011_vs_2071\", \n",
    "    ascending=False\n",
    ").reset_index()[[\n",
    "    \"area_name\",  \n",
    "    \"province\",\n",
    "    \"diff_A_2011_vs_2071\", \n",
    "    \"core_2011-2040\",\n",
    "    \"core_2071-2100\",\n",
    "    \"rank_biomass\"\n",
    "]].head(n=TOP_N)"
   ]
  },
  {
   "cell_type": "markdown",
   "id": "b168c584",
   "metadata": {},
   "source": [
    "#### Scénario B (2011-2040 vs 2041-2070)\n",
    "\n",
    "On affiche les données ordonnées en fonction de la perte de zones propices (`diff_B_2011_vs_2041`). `core_2011-2040` et `core_2041-2070` représentent le nombre absolu de pixel à l'intérieur des zones propices, et `rank_biomass` représente le rang de la région agricole de recensement en fonction de la biomasse totale d'érable à sucre. "
   ]
  },
  {
   "cell_type": "markdown",
   "id": "dd4f654d",
   "metadata": {},
   "source": [
    "<span style=\"color:red\"> \n",
    "Lorsqu'on considère les conditions climatiques cores et marginales, on enregistre très peu de recul en 2041, à l'exception de la Région agricole de recensement d'Alberta, qui conserve malgré tout une part importante de territoire propice au développement. L'érable à sucre n'est toutefois pas présent dans cette région. \n",
    "</span>"
   ]
  },
  {
   "cell_type": "code",
   "execution_count": null,
   "id": "6abe0278",
   "metadata": {},
   "outputs": [],
   "source": [
    "df.sort_values(\n",
    "    \"diff_B_2011_vs_2041\", \n",
    "    ascending=False\n",
    ").reset_index()[[\n",
    "    \"area_name\",  \n",
    "    \"province\",\n",
    "    \"diff_B_2011_vs_2041\", \n",
    "    \"core_marginal_2011-2040\", \n",
    "    \"core_marginal_2041-2070\",\n",
    "    \"rank_biomass\"\n",
    "]].head(n=TOP_N)"
   ]
  },
  {
   "cell_type": "markdown",
   "id": "9725d0ff",
   "metadata": {},
   "source": [
    "#### Scénario B (2011-2040 vs 2071-2100)\n",
    "\n",
    "On affiche les données ordonnées en fonction de la perte de zones propices (`diff_B_2011_vs_2071`). `core_2011-2040` et `core_2071-2100` représentent le nombre absolu de pixel à l'intérieur des zones propices, et `rank_biomass` représente le rang de la région agricole de recensement en fonction de la biomasse totale d'érable à sucre. \n"
   ]
  },
  {
   "cell_type": "markdown",
   "id": "58ca67d8",
   "metadata": {},
   "source": [
    "<span style=\"color:red\"> \n",
    "En 2071, on constate toutefois qu'une très faible portion de certaines régions seront propice au développement de l'érable à sucre. C'est le cas entre autres de la Montérégie (Québec), des Régions agricole de recensement 1 et 2\t(Manitoba) et Vancouver Island-Coast (Colombie-Britannique). \n",
    "    \n",
    "À noter que si ces régions sont considérés comme ayant des conditions climatiques propices, l'érable à sucre n'est présent qu'en Montérégie. \n",
    "</span>"
   ]
  },
  {
   "cell_type": "code",
   "execution_count": null,
   "id": "b3a2d3d0",
   "metadata": {},
   "outputs": [],
   "source": [
    "df.sort_values(\n",
    "    \"diff_B_2011_vs_2071\", \n",
    "    ascending=False\n",
    ").reset_index()[[\n",
    "    \"area_name\",  \n",
    "    \"province\",\n",
    "    \"diff_B_2011_vs_2071\", \n",
    "    \"core_marginal_2011-2040\", \n",
    "    \"core_marginal_2071-2100\",\n",
    "    \"rank_biomass\"\n",
    "]].head(n=TOP_N)"
   ]
  },
  {
   "cell_type": "markdown",
   "id": "057b44d6",
   "metadata": {},
   "source": [
    "### Quelle proportion du Canada et des provinces est actuellement propice au développement de l’érable à sucre? Qu'elle deviendra cette proportion avec le réchauffement climatique?\n",
    "\n",
    "#### Canada \n",
    "\n",
    "On calcule la proportion du Canada qui est propice au développement de l'érable à sucre en 2011, 2041 et 2071, selon les scénarios A et B. "
   ]
  },
  {
   "cell_type": "markdown",
   "id": "9077e519",
   "metadata": {},
   "source": [
    "<span style=\"color:red\"> \n",
    "On constate que la proportion du territoire canadien propice au développement de l'érable à sucre s'accroit avec le temps, qu'on se fit au scénario A ou B. En effet, l'enveloppe climatique ne rétrécit pas, mais elle se déplace vers le Nord. \n",
    "</span>"
   ]
  },
  {
   "cell_type": "code",
   "execution_count": null,
   "id": "20f1374b",
   "metadata": {},
   "outputs": [],
   "source": [
    "sum_A_2011 = df['core_2011-2040'].sum() / (df['rest_2011-2040'].sum() + df['core_marginal_2011-2040'].sum())\n",
    "sum_B_2011 = df['core_marginal_2011-2040'].sum() / (df['rest_2011-2040'].sum() + df['core_marginal_2011-2040'].sum())\n",
    "\n",
    "sum_A_2041 = df['core_2041-2070'].sum() / (df['rest_2041-2070'].sum() + df['core_marginal_2041-2070'].sum())\n",
    "sum_B_2041 = df['core_marginal_2041-2070'].sum() / (df['rest_2041-2070'].sum() + df['core_marginal_2041-2070'].sum())\n",
    "\n",
    "sum_A_2071 = df['core_2071-2100'].sum() / (df['rest_2071-2100'].sum() + df['core_marginal_2071-2100'].sum())\n",
    "sum_B_2071 = df['core_marginal_2071-2100'].sum() / (df['rest_2071-2100'].sum() + df['core_marginal_2071-2100'].sum())\n",
    "\n",
    "print(f\"Scénario A: {round(sum_A_2011, 3)} (2011), {round(sum_A_2041, 3)} (2041), {round(sum_A_2071, 3)} (2071)\")\n",
    "print(f\"Scénario B: {round(sum_B_2011, 3)} (2011), {round(sum_B_2041, 3)} (2041), {round(sum_B_2071, 3)} (2071)\")"
   ]
  },
  {
   "cell_type": "markdown",
   "id": "03276969",
   "metadata": {},
   "source": [
    "#### Provinces\n",
    "\n",
    "On calcule ensuite ces mêmes proportions à l'échelle des provinces. `sum_X_YYYY` représente la proportion pour l'année de départ d'une projection donnée (`YYYY`) et un scénario (`X`)."
   ]
  },
  {
   "cell_type": "markdown",
   "id": "d4f907f4",
   "metadata": {},
   "source": [
    "<span style=\"color:red\"> \n",
    "On observe un recul important de la proportion des zones propices dans les provinces du Nouveau-Brunswick, de l'Ontario et de l'Île-du-Prince-Édouard. En 2071, l'entièreté de ces trois provinces ne sera pas propice au développement de l'érable à sucre (selon le scénario A). La proportion de zones propices demeure plus stable dans le temps considérant le scénario B. \n",
    "\n",
    "Au Québec, une plus grande portion de la province serait propice au développement de l'arbre à sucre avec le temps, tant selon le scénario A que le scénario B. Il en va de même pour Terre-Neure-et-Labrador, province qui n'est présentement pas très propice au développement de l'érable à sucre. \n",
    "</span>"
   ]
  },
  {
   "cell_type": "code",
   "execution_count": null,
   "id": "cf19f8c7",
   "metadata": {},
   "outputs": [],
   "source": [
    "df_pr = df.groupby(\n",
    "    \"province\"\n",
    ").sum()\n",
    "\n",
    "df_pr[\"sum_A_2011\"] = df_pr['core_2011-2040'] / (df_pr['rest_2011-2040'] + df_pr['core_marginal_2011-2040'])\n",
    "df_pr[\"sum_B_2011\"] = df_pr['core_marginal_2011-2040'] / (df_pr['rest_2011-2040'] + df_pr['core_marginal_2011-2040'])\n",
    "\n",
    "df_pr[\"sum_A_2041\"] = df_pr['core_2041-2070'] / (df_pr['rest_2041-2070'] + df_pr['core_marginal_2041-2070'])\n",
    "df_pr[\"sum_B_2041\"] = df_pr['core_marginal_2041-2070'] / (df_pr['rest_2041-2070'] + df_pr['core_marginal_2041-2070'])\n",
    "\n",
    "df_pr[\"sum_A_2071\"] = df_pr['core_2071-2100'] / (df_pr['rest_2071-2100'] + df_pr['core_marginal_2071-2100'])\n",
    "df_pr[\"sum_B_2071\"] = df_pr['core_marginal_2071-2100'] / (df_pr['rest_2071-2100'] + df_pr['core_marginal_2071-2100'])\n",
    "\n",
    "df_pr[[\n",
    "    \"sum_A_2011\", \n",
    "    \"sum_A_2041\", \n",
    "    \"sum_A_2071\", \n",
    "    \"sum_B_2011\", \n",
    "    \"sum_B_2041\", \n",
    "    \"sum_B_2071\", \n",
    "]]"
   ]
  },
  {
   "cell_type": "markdown",
   "id": "e5366eb8",
   "metadata": {},
   "source": [
    "## 2. Où se concentre la production de sirop d’érable au Canada. Et comment a-t-elle évolué au fil des années?"
   ]
  },
  {
   "cell_type": "markdown",
   "id": "9dc052e7",
   "metadata": {},
   "source": [
    "### Où se concentre la production de sirop d’érable au Canada?\n",
    "\n",
    "On affiche les données ordonnées en fonction du nombre d'entailles en 2021 (`2021_num_entailles`). On affiche également le nombre d'exploitations en 2021 (`2021_num_exploitations`), et le rang de la région agricole de recensement en fonction de la biomasse totale\t(`rank_biomass`), du nombre d'entailles (`rank_entailles`) et du nombre d'exploitations acéricoles (`rank_exploitations`)."
   ]
  },
  {
   "cell_type": "markdown",
   "id": "0f5c9ccf",
   "metadata": {},
   "source": [
    "<span style=\"color:red\"> \n",
    "Le Québec domine l'exploitation des érables à sucre. On retrouve également une importante production au Nouveau-Brunswick, en Ontario et, dans une moindre mesure, en Nouvelle-Écosse. \n",
    "</span>"
   ]
  },
  {
   "cell_type": "code",
   "execution_count": null,
   "id": "54305bbb",
   "metadata": {},
   "outputs": [],
   "source": [
    "df.sort_values(\n",
    "    \"2021_num_entailles\", \n",
    "    ascending=False\n",
    ").reset_index()[[\n",
    "    \"area_name\", \n",
    "    \"province\", \n",
    "    \"2021_num_entailles\", \n",
    "    \"2021_num_exploitations\", \n",
    "    \"rank_biomass\", \n",
    "    \"rank_entailles\",\n",
    "    \"rank_exploitations\"\n",
    "]].head(n=TOP_N)"
   ]
  },
  {
   "cell_type": "markdown",
   "id": "0833bed5",
   "metadata": {},
   "source": [
    "### Quelles régions ont connu la plus forte croissance au fil des ans?\n",
    "\n",
    "On calcule ici les différences de nombre d'entailles et entre 2021 et 2011 (`diff_num_entailles`). "
   ]
  },
  {
   "cell_type": "markdown",
   "id": "0e079428",
   "metadata": {},
   "source": [
    "<span style=\"color:red\"> \n",
    "Si le Manitoba a connu la plus forte hausse relative, le nombre absolu d'entailles demeure extrêmement bas. Le Nouveau-Brunswick, l'Ontario et la Nouvelle-Écosse ont connu des croissances plus marquées que les régions du Québec. \n",
    "</span>"
   ]
  },
  {
   "cell_type": "code",
   "execution_count": null,
   "id": "2ebedba4",
   "metadata": {},
   "outputs": [],
   "source": [
    "df[\"diff_num_entailles\"] = (df[\"2021_num_entailles\"] - df[\"2011_num_entailles\"]) / df[\"2021_num_entailles\"]\n",
    "\n",
    "df.sort_values(\n",
    "    \"diff_num_entailles\", \n",
    "    ascending=False\n",
    ").reset_index()[[\n",
    "    \"area_name\", \n",
    "    \"province\", \n",
    "    \"diff_num_entailles\",\n",
    "    \"2021_num_entailles\", \n",
    "    \"2011_num_entailles\", \n",
    "    \"2021_num_exploitations\",\n",
    "    \"2011_num_exploitations\", \n",
    "    \"rank_biomass\",\n",
    "    \"rank_entailles\",\n",
    "    \"rank_exploitations\"\n",
    "]].head(n=TOP_N)"
   ]
  },
  {
   "cell_type": "markdown",
   "id": "57d45648",
   "metadata": {},
   "source": [
    "## 3. Croiser les données sur la répartition et l'abondance de l’érable à sucre du Canada, et les projections de niche climatique d’ici 2100, avec les données sur les entailles d’étables du recensement de l’agriculture 2021. "
   ]
  },
  {
   "cell_type": "markdown",
   "id": "2a08450e",
   "metadata": {},
   "source": [
    "### Quelle proportion (et quelles régions) des entailles actuelles se retrouveront dans des zones qui ne sont plus propices à la croissance de l’érable à sucre?\n",
    "\n",
    "\n",
    "#### Scénario A (2041-2070)\n",
    "\n",
    "On affiche les régions agricoles de recensement qui ne se retrouvent plus dans la zone propice. "
   ]
  },
  {
   "cell_type": "markdown",
   "id": "b2363aa0",
   "metadata": {},
   "source": [
    "<span style=\"color:red\"> \n",
    "Le climat des régions agricoles de recensement 2 et 3 de la Nouvelle-Écosse ne sera plus propice au développement de l'érable à sucre dès 2041. Cette région compte près de 400000 entailles et 86 exploitations acéricoles en 2021. \n",
    "    \n",
    "On dénombre également 16 exploitations avec moisn de 3000 entailles dans les régions agricoles de recensement 2, 5 et 7 qui ne se trouveront plus dans un climat propice. \n",
    "</span>"
   ]
  },
  {
   "cell_type": "code",
   "execution_count": null,
   "id": "a8c70d94",
   "metadata": {},
   "outputs": [],
   "source": [
    "# Scénario A (2041)\n",
    "df[\"2041_A_is_propice\"] = df[\"core_2041-2070\"] > 0\n",
    "is_not_propice_2041_A_df = df[df[\"2041_A_is_propice\"] == False].sort_values(\n",
    "    \"2021_num_entailles\", \n",
    "    ascending=False\n",
    ").reset_index()\n",
    "\n",
    "is_not_propice_2041_A_df[[\n",
    "    \"area_name\", \n",
    "    \"province\", \n",
    "    \"2021_num_entailles\", \n",
    "    \"2021_num_exploitations\", \n",
    "    \"rank_entailles\",\n",
    "    \"rank_exploitations\"\n",
    "]]"
   ]
  },
  {
   "cell_type": "markdown",
   "id": "0213fa56",
   "metadata": {},
   "source": [
    "#### Scénario A (2071-2100)\n",
    "\n",
    "On affiche les régions agricoles de recensement qui ne se retrouvent plus dans la zone propice."
   ]
  },
  {
   "cell_type": "markdown",
   "id": "664b1b0a",
   "metadata": {},
   "source": [
    "<span style=\"color:red\"> \n",
    "À partir de 2071, huit des dix régions produisant le plus grand nombre d'entailles en 2021 ne seront plus du tout propice au développement de l'érable à sucre. On note Chaudière-Appalaches, l'Estrie, le Bas-Saint-Laurent le Centre-du-Québec et la Montérégie (Québec) ainsi que les Régions agricoles de recensement 1 et 4 au Nouveau-Brunswick et laRégion de l'Ouest de l'Ontario. \n",
    "</span>"
   ]
  },
  {
   "cell_type": "code",
   "execution_count": null,
   "id": "a9f37663",
   "metadata": {},
   "outputs": [],
   "source": [
    "# Scénario A (2071)\n",
    "df[\"2071_A_is_propice\"] = df[\"core_2071-2100\"] > 0\n",
    "is_not_propice_2071_A_df = df[df[\"2071_A_is_propice\"] == False].sort_values(\n",
    "    \"2021_num_entailles\", \n",
    "    ascending=False\n",
    ").reset_index()\n",
    "\n",
    "is_not_propice_2071_A_df[[\n",
    "    \"area_name\", \n",
    "    \"province\", \n",
    "    \"2021_num_entailles\", \n",
    "    \"2021_num_exploitations\", \n",
    "    \"rank_entailles\",\n",
    "    \"rank_exploitations\"\n",
    "]]"
   ]
  },
  {
   "cell_type": "markdown",
   "id": "a0370f59",
   "metadata": {},
   "source": [
    "#### Scénario B (2041-2070)\n",
    "\n",
    "On affiche les régions agricoles de recensement qui ne se retrouvent plus dans la zone propice. "
   ]
  },
  {
   "cell_type": "markdown",
   "id": "8a18c4f5",
   "metadata": {},
   "source": [
    "<span style=\"color:red\"> \n",
    "Selon le scénario B, aucune région importante au développement des produits de l'érable se trouvera totalement exclue de la zone propice en 2041. \n",
    "</span>"
   ]
  },
  {
   "cell_type": "code",
   "execution_count": null,
   "id": "b8a563ab",
   "metadata": {},
   "outputs": [],
   "source": [
    "# Scénario B (2041)\n",
    "df[\"2041_B_is_propice\"] = df[\"core_marginal_2041-2070\"] > 0\n",
    "is_not_propice_2041_B_df = df[df[\"2041_B_is_propice\"] == False].sort_values(\n",
    "    \"2021_num_entailles\", \n",
    "    ascending=False\n",
    ").reset_index()\n",
    "\n",
    "is_not_propice_2041_B_df[[\n",
    "    \"area_name\", \n",
    "    \"province\", \n",
    "    \"2021_num_entailles\", \n",
    "    \"2021_num_exploitations\", \n",
    "    \"rank_entailles\",\n",
    "    \"rank_exploitations\"\n",
    "]]"
   ]
  },
  {
   "cell_type": "markdown",
   "id": "d3f5503d",
   "metadata": {},
   "source": [
    "#### Scénario B (2071-2100)\n",
    "\n",
    "On affiche les régions agricoles de recensement qui ne se retrouvent plus dans la zone propice. "
   ]
  },
  {
   "cell_type": "markdown",
   "id": "7a8a51b9",
   "metadata": {},
   "source": [
    "<span style=\"color:red\"> \n",
    "Il en va de même en 2071 également. \n",
    "</span>"
   ]
  },
  {
   "cell_type": "code",
   "execution_count": null,
   "id": "a259b270",
   "metadata": {},
   "outputs": [],
   "source": [
    "# Scénario B (2071)\n",
    "df[\"2071_B_is_propice\"] = df[\"core_marginal_2071-2100\"] > 0\n",
    "is_not_propice_2071_B_df = df[df[\"2071_B_is_propice\"] == False].sort_values(\n",
    "    \"2021_num_entailles\", \n",
    "    ascending=False\n",
    ").reset_index()\n",
    "\n",
    "is_not_propice_2071_B_df[[\n",
    "    \"area_name\", \n",
    "    \"province\", \n",
    "    \"2021_num_entailles\", \n",
    "    \"2021_num_exploitations\", \n",
    "    \"rank_entailles\",\n",
    "    \"rank_exploitations\"\n",
    "]]"
   ]
  },
  {
   "cell_type": "markdown",
   "id": "8b140cad",
   "metadata": {},
   "source": [
    "#### Proportions d'entailles et d'exploitations ne se retrouvant plus dans les zones propices selon les scénarios A et B et pour les deux périodes de projection. "
   ]
  },
  {
   "cell_type": "markdown",
   "id": "83a9acc8",
   "metadata": {},
   "source": [
    "<span style=\"color:red\"> \n",
    "Au total, selon le scénario A, c'est 90.9% des entailles et 89.4% des exploitations qui se retrouveront exclues des zones propices en 2071. \n",
    "    \n",
    "Les proportions sont minimes pour le scénario A en 2041, ainsi que pour le scénario B. \n",
    "</span>"
   ]
  },
  {
   "cell_type": "code",
   "execution_count": null,
   "id": "fb4c2598",
   "metadata": {},
   "outputs": [],
   "source": [
    "ratio_entailles_A_2041 = is_not_propice_2041_A_df[\"2021_num_entailles\"].sum() / df[\"2021_num_entailles\"].sum()\n",
    "ratio_entailles_A_2071 = is_not_propice_2071_A_df[\"2021_num_entailles\"].sum() / df[\"2021_num_entailles\"].sum()\n",
    "\n",
    "ratio_entailles_B_2041 = is_not_propice_2041_B_df[\"2021_num_entailles\"].sum() / df[\"2021_num_entailles\"].sum()\n",
    "ratio_entailles_B_2071 = is_not_propice_2071_B_df[\"2021_num_entailles\"].sum() / df[\"2021_num_entailles\"].sum()\n",
    "\n",
    "ratio_exploitations_A_2041 = is_not_propice_2041_A_df[\"2021_num_exploitations\"].sum() / df[\"2021_num_exploitations\"].sum()\n",
    "ratio_exploitations_A_2071 = is_not_propice_2071_A_df[\"2021_num_exploitations\"].sum() / df[\"2021_num_exploitations\"].sum()\n",
    "\n",
    "ratio_exploitations_B_2041 = is_not_propice_2041_B_df[\"2021_num_exploitations\"].sum() / df[\"2021_num_exploitations\"].sum()\n",
    "ratio_exploitations_B_2071 = is_not_propice_2071_B_df[\"2021_num_exploitations\"].sum() / df[\"2021_num_exploitations\"].sum()\n",
    "\n",
    "\n",
    "print(f\"Scénario A (entailles): {round(ratio_entailles_A_2041, 3)} (2041), {round(ratio_entailles_A_2071, 3)} (2011)\")\n",
    "print(f\"Scénario A (exploitations): {round(ratio_exploitations_A_2041, 3)} (2041), {round(ratio_exploitations_A_2071, 3)} (2011)\")\n",
    "print(f\"Scénario B (entailles): {round(ratio_entailles_B_2041, 3)} (2041), {round(ratio_entailles_B_2071, 3)} (2071)\")\n",
    "print(f\"Scénario B (exploitations): {round(ratio_exploitations_B_2041, 3)} (2041), {round(ratio_exploitations_B_2071, 3)} (2011)\")"
   ]
  },
  {
   "cell_type": "markdown",
   "id": "edb3175a",
   "metadata": {},
   "source": [
    "### À quel point les régions qui ont connu la plus forte croissance resteront-elles dans des zones propices au développement de l’érable ou se retrouveront-elles au contraire dans les zones où sa croissance pourrait être affectée/menacée?\n",
    "\n",
    "On affiche les données ordonnées selon la perte d'entailles entre 2021 et 2011 (`diff_num_entailles`). On indique également si les régions se retrouvent dans la zone propice (`YYYY_X_is_propice`) selon l'année de début de la projection (`YYYY`) et le scénario (`X`). "
   ]
  },
  {
   "cell_type": "markdown",
   "id": "485a83df",
   "metadata": {},
   "source": [
    "<span style=\"color:red\"> \n",
    "Le climat des sept régions ayant connus la plus forte croissance du nombre d'entailles de 2011 à 2021 ne sera plus propice au développement de l'érable à sucre en 2071. \n",
    "</span>"
   ]
  },
  {
   "cell_type": "code",
   "execution_count": null,
   "id": "acdf29c0",
   "metadata": {},
   "outputs": [],
   "source": [
    "df.sort_values(\"diff_num_entailles\", ascending=False).reset_index()[[\n",
    "    \"area_name\",\n",
    "    \"province\",\n",
    "    \"diff_num_entailles\",\n",
    "    \"2041_A_is_propice\",\n",
    "    \"2071_A_is_propice\",\n",
    "    \"2041_B_is_propice\",\n",
    "    \"2071_B_is_propice\"\n",
    "]].head(n=TOP_N)"
   ]
  },
  {
   "cell_type": "code",
   "execution_count": null,
   "id": "fd19bde7",
   "metadata": {},
   "outputs": [],
   "source": [
    "# TODO\n",
    "# Proportion de la biomasse actuelle dans des zones qui ne sont pas propices?\n",
    "# Proportion des entailles / exploitations dans des zones qui ne sont pas propices?\n",
    "# Convertir num pixels en km carré.\n",
    "# % Entailles par provinces. "
   ]
  }
 ],
 "metadata": {
  "kernelspec": {
   "display_name": "Python 3 (ipykernel)",
   "language": "python",
   "name": "python3"
  },
  "language_info": {
   "codemirror_mode": {
    "name": "ipython",
    "version": 3
   },
   "file_extension": ".py",
   "mimetype": "text/x-python",
   "name": "python",
   "nbconvert_exporter": "python",
   "pygments_lexer": "ipython3",
   "version": "3.9.7"
  }
 },
 "nbformat": 4,
 "nbformat_minor": 5
}
