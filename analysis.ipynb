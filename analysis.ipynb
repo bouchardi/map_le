{
 "cells": [
  {
   "cell_type": "code",
   "execution_count": null,
   "id": "df4e0f7e",
   "metadata": {},
   "outputs": [],
   "source": [
    "import geopandas\n",
    "import rasterio\n",
    "from pathlib import Path\n",
    "import numpy as np\n",
    "import pandas as pd\n",
    "from rasterstats import zonal_stats\n",
    "import matplotlib.pyplot as plt\n",
    "from ipywidgets import interact\n",
    "\n",
    "from utils import read_raster, reproject_raster, compute_area, zonal_stats_for_value\n",
    "\n",
    "%load_ext autoreload\n",
    "%autoreload 2"
   ]
  },
  {
   "cell_type": "code",
   "execution_count": null,
   "id": "90aef686",
   "metadata": {},
   "outputs": [],
   "source": [
    "DATA_PATH = Path(\"data/\")\n",
    "CRS = \"EPSG:4326\""
   ]
  },
  {
   "cell_type": "markdown",
   "id": "86fc27c8",
   "metadata": {},
   "source": [
    "### Concentration des fermes et des entailles"
   ]
  },
  {
   "cell_type": "code",
   "execution_count": null,
   "id": "1523a6eb",
   "metadata": {},
   "outputs": [],
   "source": [
    "df_farms = pd.concat(\n",
    "    [\n",
    "        pd.read_csv(DATA_PATH / \"fermes\" / \"3210036201_donneesselectionnees.csv\", delimiter=\";\"), \n",
    "        pd.read_csv(DATA_PATH / \"fermes\" / \"3210042301_donneesselectionnees.csv\", delimiter=\";\")\n",
    "    ]\n",
    ").drop(\n",
    "    [\n",
    "        \"UNITÉ DE MESURE\", \n",
    "        \"IDENTIFICATEUR D'UNITÉ DE MESURE\", \n",
    "        \"FACTEUR SCALAIRE\", \n",
    "        \"VECTEUR\", \n",
    "        \"COORDONNÉES\", \n",
    "        \"IDENTIFICATEUR SCALAIRE\", \n",
    "        \"STATUS\", \n",
    "        \"SYMBOLE\", \n",
    "        \"TERMINÉ\", \n",
    "        \"DÉCIMALES\"\n",
    "    ], \n",
    "    axis=1\n",
    ").reset_index()\n",
    "\n",
    "df_farms[\"GÉO\"] = df_farms.apply(\n",
    "    lambda row: row[\"GÉO\"].split(\" [\")[0], \n",
    "    axis=1\n",
    ")\n",
    "\n",
    "df_farms[\"DGUID\"] = df_farms.apply(\n",
    "    lambda row: row[\"DGUID\"][4:], \n",
    "    axis=1\n",
    ")\n",
    "\n",
    "\n",
    "df_farms = df_farms.replace(\n",
    "    \"Nombre d'exploitations déclarantes\", \n",
    "    \"num_exploitations\"\n",
    ").replace(\n",
    "    \"Nombre d'entailles\", \n",
    "    \"num_entailles\"\n",
    ").replace(\n",
    "    \"Nombre de fermes déclarantes\", \n",
    "    \"num_exploitations\"\n",
    ").pivot(\n",
    "    index=[\"GÉO\", \"DGUID\"], \n",
    "    columns=[\"PÉRIODE DE RÉFÉRENCE\", \"Entailles d'érables\"], \n",
    "    values=\"VALEUR\"\n",
    ")\n",
    "\n",
    "df_farms.columns = [f\"{x}_{y}\" for x, y in df_farms.columns.to_flat_index()]\n",
    "\n",
    "df_farms.head()"
   ]
  },
  {
   "cell_type": "markdown",
   "id": "4b58f03d",
   "metadata": {},
   "source": [
    "### Fichiers des limites géographiques"
   ]
  },
  {
   "cell_type": "code",
   "execution_count": null,
   "id": "37b5ae95",
   "metadata": {},
   "outputs": [],
   "source": [
    "df_boundaries = geopandas.read_file(\n",
    "    DATA_PATH / \"boundaries\" / \"lcar000b21a_e.shp\"\n",
    ").to_crs(\n",
    "    CRS\n",
    ").drop(\n",
    "    [\"CARUID\", \"CARENAME\", \"LANDAREA\"], \n",
    "    axis=1\n",
    ").rename(\n",
    "    columns={\"CARFNAME\": \"area_name\"}\n",
    ")\n",
    "\n",
    "df_boundaries[\"DGUID\"] = df_boundaries.apply(\n",
    "    lambda row: row[\"DGUID\"][4:], \n",
    "    axis=1\n",
    ")\n",
    "\n",
    "df_boundaries[\"total_area\"] = compute_area(df_boundaries)\n",
    "\n",
    "df_boundaries.head()"
   ]
  },
  {
   "cell_type": "code",
   "execution_count": null,
   "id": "e7d01ac9",
   "metadata": {},
   "outputs": [],
   "source": [
    "df_boundaries.plot(\"total_area\")"
   ]
  },
  {
   "cell_type": "markdown",
   "id": "829fb8d5",
   "metadata": {},
   "source": [
    "### Carte de la biomasse courante"
   ]
  },
  {
   "cell_type": "code",
   "execution_count": null,
   "id": "7f0214a3",
   "metadata": {},
   "outputs": [],
   "source": [
    "filename = DATA_PATH / \"cartography\" / \"ACESAC_volume_250m_final-100.tif\"    \n",
    "biomass_raster, affine, no_data_value = read_raster(filename, crs=CRS)\n",
    "    \n",
    "plt.imshow(biomass_raster)\n",
    "plt.show()"
   ]
  },
  {
   "cell_type": "code",
   "execution_count": null,
   "id": "944bbe2c",
   "metadata": {},
   "outputs": [],
   "source": [
    "df_boundaries[\"stats\"] = zonal_stats(\n",
    "    vectors=df_boundaries['geometry'], \n",
    "    raster=biomass_raster, \n",
    "    affine=affine, \n",
    "    stats=\"sum\", \n",
    "    nodata=no_data_value\n",
    ")\n",
    "\n",
    "df_boundaries[\"total_biomass\"] = df_boundaries.apply(\n",
    "    lambda row: row[\"stats\"][\"sum\"], \n",
    "    axis=1\n",
    ")\n",
    "\n",
    "df_boundaries = df_boundaries.drop([\"stats\"], axis=1)\n",
    "\n",
    "df_boundaries.head()"
   ]
  },
  {
   "cell_type": "markdown",
   "id": "37158bd2",
   "metadata": {},
   "source": [
    "### Déplacement des zones propices "
   ]
  },
  {
   "cell_type": "code",
   "execution_count": null,
   "id": "c60b201c",
   "metadata": {},
   "outputs": [],
   "source": [
    "filename = DATA_PATH / \"rasters\" / \"arcp8510000532011-2040.asc\"\n",
    "\n",
    "raster_2011_2040, affine, no_data_value = read_raster(filename, crs=CRS)\n",
    "    \n",
    "cmap = mpl.colors.ListedColormap(['black', 'yellow', 'orange'])\n",
    "bounds = [no_data_value, 1, 3, 4]\n",
    "norm = mpl.colors.BoundaryNorm(bounds, cmap.N)\n",
    "\n",
    "plt.imshow(raster_2011_2040, cmap=cmap, norm=norm)\n",
    "plt.show()"
   ]
  },
  {
   "cell_type": "code",
   "execution_count": null,
   "id": "2b46cbcb",
   "metadata": {},
   "outputs": [],
   "source": [
    "period = \"2011-2040\"\n",
    "\n",
    "for value, name in [\n",
    "    (1, \"marginal\"), \n",
    "    (3, \"core\"), \n",
    "    (no_data_value, \"rest\")\n",
    "]:\n",
    "    df_boundaries[f\"{name}_{period}\"] = zonal_stats_for_value(\n",
    "        raster=raster_2011_2040, \n",
    "        vectors=df_boundaries[\"geometry\"], \n",
    "        value=value, \n",
    "        stats=\"count\", \n",
    "        data_value=100, \n",
    "        no_data_value=no_data_value, \n",
    "        affine=affine\n",
    "    )"
   ]
  },
  {
   "cell_type": "code",
   "execution_count": null,
   "id": "da7e9a49",
   "metadata": {},
   "outputs": [],
   "source": [
    "filename = DATA_PATH / \"rasters\" / \"arcp8510000532041-2070.asc\"\n",
    "\n",
    "raster_2041_2070, affine, no_data_value = read_raster(filename, crs=CRS)\n",
    "    \n",
    "plt.imshow(raster_2041_2070, cmap=cmap, norm=norm)\n",
    "plt.show()"
   ]
  },
  {
   "cell_type": "code",
   "execution_count": null,
   "id": "67ac4b5c",
   "metadata": {},
   "outputs": [],
   "source": [
    "period = \"2041-2070\"\n",
    "\n",
    "for value, name in [\n",
    "    (1, \"marginal\"), \n",
    "    (3, \"core\"), \n",
    "    (no_data_value, \"rest\")\n",
    "]:\n",
    "    df_boundaries[f\"{name}_{period}\"] = zonal_stats_for_value(\n",
    "        raster=raster_2041_2070, \n",
    "        vectors=df_boundaries[\"geometry\"], \n",
    "        value=value, \n",
    "        stats=\"count\", \n",
    "        data_value=100, \n",
    "        no_data_value=no_data_value, \n",
    "        affine=affine\n",
    "    )"
   ]
  },
  {
   "cell_type": "code",
   "execution_count": null,
   "id": "ae1faf33",
   "metadata": {},
   "outputs": [],
   "source": [
    "filename = DATA_PATH / \"rasters\" / \"arcp8510000532071-2100.asc\"\n",
    "raster_2071_2100, affine, no_data_value = read_raster(filename, crs=CRS)\n",
    "    \n",
    "plt.imshow(raster_2071_2100, cmap=cmap, norm=norm)\n",
    "plt.show()"
   ]
  },
  {
   "cell_type": "code",
   "execution_count": null,
   "id": "97fb3419",
   "metadata": {},
   "outputs": [],
   "source": [
    "period = \"2071-2100\"\n",
    "\n",
    "for value, name in [\n",
    "    (1, \"marginal\"), \n",
    "    (3, \"core\"), \n",
    "    (no_data_value, \"rest\")\n",
    "]:\n",
    "    df_boundaries[f\"{name}_{period}\"] = zonal_stats_for_value(\n",
    "        raster=raster_2071_2100, \n",
    "        vectors=df_boundaries[\"geometry\"], \n",
    "        value=value, \n",
    "        stats=\"count\", \n",
    "        data_value=100, \n",
    "        no_data_value=no_data_value, \n",
    "        affine=affine\n",
    "    )"
   ]
  },
  {
   "cell_type": "markdown",
   "id": "5119b159",
   "metadata": {},
   "source": [
    "### On combine les deux dataframes en un seul "
   ]
  },
  {
   "cell_type": "code",
   "execution_count": null,
   "id": "10918505",
   "metadata": {},
   "outputs": [],
   "source": [
    "df = pd.merge(\n",
    "    df_boundaries, \n",
    "    df_farms, \n",
    "    on=\"DGUID\"\n",
    ")\n",
    "\n",
    "pr_df = pd.DataFrame({\n",
    "    \"PRUID\": [\"10\", \"11\", \"12\", \"13\", \"24\", \"35\", \"46\", \"47\", \"48\", \"59\", \"60\", \"61\", \"62\"], \n",
    "    \"province\": [\n",
    "        \"Terre-Neuve-et-Labrador\", \n",
    "        \"Île-du-Prince-Édouard\", \n",
    "        \"Nouvelle-Écosse\",\n",
    "        \"Nouveau-Brunswick\",\n",
    "        \"Québec\",\n",
    "        \"Ontario\",\n",
    "        \"Manitoba\",\n",
    "        \"Saskatchewan\",\n",
    "        \"Alberta\",\n",
    "        \"Colombie-Britannique\",\n",
    "        \"Yukon\",\n",
    "        \"Territoires du Nord-Ouest\",\n",
    "        \"Nunavut\"\n",
    "    ]\n",
    "}\n",
    ")\n",
    "\n",
    "df = df.merge(\n",
    "    pr_df, \n",
    "    on=\"PRUID\"\n",
    ").drop(\"PRUID\", axis=1)\n",
    "\n",
    "df[\"rank_biomass\"] = df[\"total_biomass\"].rank(method=\"min\", na_option=\"bottom\", ascending=False)\n",
    "df[\"rank_entailles\"] = df[\"2021_num_entailles\"].rank(method=\"min\", na_option=\"bottom\", ascending=False)\n",
    "df[\"rank_exploitations\"] = df[\"2021_num_exploitations\"].rank(method=\"min\", na_option=\"bottom\", ascending=False)\n",
    "\n",
    "df = df.rename({\n",
    "    \"all_2011-2040\": \"rest_2011-2040\", \n",
    "    \"all_2041-2070\": \"rest_2041-2070\", \n",
    "    \"all_2071-2100\": \"rest_2071-2100\", \n",
    "}, axis=1)\n",
    "\n",
    "df.head()"
   ]
  },
  {
   "cell_type": "code",
   "execution_count": null,
   "id": "2d6813ec",
   "metadata": {
    "scrolled": true
   },
   "outputs": [],
   "source": [
    "def _plot(province, column_name):\n",
    "    return df[df[\"province\"] == province].explore(column_name)\n",
    "    \n",
    "interact(\n",
    "    _plot,\n",
    "    province= df[\"province\"].unique(),\n",
    "    column_name=df.columns.tolist()[3:-2]\n",
    ")"
   ]
  },
  {
   "cell_type": "markdown",
   "id": "f2bcbce6",
   "metadata": {},
   "source": [
    "## Réponse aux questions de recherche"
   ]
  },
  {
   "cell_type": "markdown",
   "id": "214922c4",
   "metadata": {},
   "source": [
    "### 1. Où se situent les zones propices au développement de l’érable à sucre au Canada et comment seront-elles affectées par le réchauffement climatique?"
   ]
  },
  {
   "cell_type": "markdown",
   "id": "420b00a0",
   "metadata": {},
   "source": [
    "#### Y a-t-il des zones actuellement propices qui ne le seront plus du tout?"
   ]
  },
  {
   "cell_type": "code",
   "execution_count": null,
   "id": "3bcc4524",
   "metadata": {},
   "outputs": [],
   "source": [
    "# On définie deux scénarios: \n",
    "# - Scénario A: On ne considère que les zonesa vec les conditions climatiques cores\n",
    "# - Scénario B: On considère les zones avec les conditions climatiques cores et marginales \n",
    "\n",
    "# Zones actuellement propices\n",
    "# Scénario A - core_2011-2040\n",
    "# Scénario B - core_2011-2040 + marginal_2011-2040\n",
    "\n",
    "# Scénario A \n",
    "df[\"diff_A_2011_vs_2041\"] = df[\"core_2011-2040\"] - df[\"core_2041-2070\"]\n",
    "df[\"diff_A_2011_vs_2071\"] = df[\"core_2011-2040\"] - df[\"core_2071-2100\"]\n",
    "\n",
    "# Scénario B\n",
    "df[\"core_marginal_2011-2040\"] = df[\"core_2011-2040\"] + df[\"marginal_2011-2040\"]\n",
    "df[\"core_marginal_2041-2070\"] = df[\"core_2041-2070\"] + df[\"marginal_2041-2070\"]\n",
    "df[\"core_marginal_2071-2100\"] = df[\"core_2071-2100\"] + df[\"marginal_2071-2100\"]\n",
    "df[\"diff_B_2011_vs_2041\"] = df[\"core_marginal_2011-2040\"] - df[\"core_marginal_2041-2070\"]\n",
    "df[\"diff_B_2011_vs_2071\"] = df[\"core_marginal_2011-2040\"] - df[\"core_marginal_2071-2100\"]\n",
    "\n",
    "top_n = 20"
   ]
  },
  {
   "cell_type": "code",
   "execution_count": null,
   "id": "21448dd4",
   "metadata": {},
   "outputs": [],
   "source": [
    "df.sort_values(\n",
    "    \"diff_A_2011_vs_2041\", \n",
    "    ascending=False\n",
    ")[[\n",
    "    \"area_name\", \n",
    "    \"province\", \n",
    "    \"diff_A_2011_vs_2041\", \n",
    "    \"core_2011-2040\",\n",
    "    \"core_2041-2070\", \n",
    "    \"rank_biomass\"\n",
    "]].reset_index().head(n=top_n)"
   ]
  },
  {
   "cell_type": "code",
   "execution_count": null,
   "id": "448b2cdb",
   "metadata": {},
   "outputs": [],
   "source": [
    "df.sort_values(\n",
    "    \"diff_A_2011_vs_2071\", \n",
    "    ascending=False\n",
    ").reset_index()[[\n",
    "    \"area_name\",  \n",
    "    \"province\",\n",
    "    \"diff_A_2011_vs_2071\", \n",
    "    \"core_2011-2040\",\n",
    "    \"core_2071-2100\",\n",
    "    \"rank_biomass\"\n",
    "]].head(n=top_n)"
   ]
  },
  {
   "cell_type": "code",
   "execution_count": null,
   "id": "6abe0278",
   "metadata": {},
   "outputs": [],
   "source": [
    "df.sort_values(\n",
    "    \"diff_B_2011_vs_2041\", \n",
    "    ascending=False\n",
    ").reset_index()[[\n",
    "    \"area_name\",  \n",
    "    \"province\",\n",
    "    \"diff_B_2011_vs_2041\", \n",
    "    \"core_marginal_2011-2040\", \n",
    "    \"core_marginal_2041-2070\",\n",
    "    \"rank_biomass\"\n",
    "]].head(n=top_n)"
   ]
  },
  {
   "cell_type": "code",
   "execution_count": null,
   "id": "b3a2d3d0",
   "metadata": {},
   "outputs": [],
   "source": [
    "df.sort_values(\n",
    "    \"diff_B_2011_vs_2071\", \n",
    "    ascending=False\n",
    ").reset_index()[[\n",
    "    \"area_name\",  \n",
    "    \"province\",\n",
    "    \"diff_B_2011_vs_2071\", \n",
    "    \"core_marginal_2011-2040\", \n",
    "    \"core_marginal_2071-2100\",\n",
    "    \"rank_biomass\"\n",
    "]].head(n=top_n)"
   ]
  },
  {
   "cell_type": "markdown",
   "id": "057b44d6",
   "metadata": {},
   "source": [
    "#### Quelle proportion du Canada et des provinces est actuellement propice au développement de l’érable à sucre?\n",
    "#### Qu'elle deviendra cette proportion avec le réchauffement climatique?"
   ]
  },
  {
   "cell_type": "code",
   "execution_count": null,
   "id": "20f1374b",
   "metadata": {},
   "outputs": [],
   "source": [
    "sum_A_2011 = df['core_2011-2040'].sum() / (df['rest_2011-2040'].sum() + df['core_marginal_2011-2040'].sum())\n",
    "sum_B_2011 = df['core_marginal_2011-2040'].sum() / (df['rest_2011-2040'].sum() + df['core_marginal_2011-2040'].sum())\n",
    "\n",
    "sum_A_2041 = df['core_2041-2070'].sum() / (df['rest_2041-2070'].sum() + df['core_marginal_2041-2070'].sum())\n",
    "sum_B_2041 = df['core_marginal_2041-2070'].sum() / (df['rest_2041-2070'].sum() + df['core_marginal_2041-2070'].sum())\n",
    "\n",
    "sum_A_2071 = df['core_2071-2100'].sum() / (df['rest_2071-2100'].sum() + df['core_marginal_2071-2100'].sum())\n",
    "sum_B_2071 = df['core_marginal_2071-2100'].sum() / (df['rest_2071-2100'].sum() + df['core_marginal_2071-2100'].sum())\n",
    "\n",
    "print(f\"Scénario A: {round(sum_A, 3)} (2011), {round(sum_A_2041, 3)} (2041), {round(sum_A_2071, 3)} (2071)\")\n",
    "print(f\"Scénario B: {round(sum_B, 3)} (2011), {round(sum_B_2041, 3)} (2041), {round(sum_B_2071, 3)} (2071)\")"
   ]
  },
  {
   "cell_type": "code",
   "execution_count": null,
   "id": "cf19f8c7",
   "metadata": {},
   "outputs": [],
   "source": [
    "df_pr = df.groupby(\n",
    "    \"province\"\n",
    ").sum()\n",
    "\n",
    "df_pr[\"sum_A_2011\"] = df_pr['core_2011-2040'] / (df_pr['rest_2011-2040'] + df_pr['core_marginal_2011-2040'])\n",
    "df_pr[\"sum_B_2011\"] = df_pr['core_marginal_2011-2040'] / (df_pr['rest_2011-2040'] + df_pr['core_marginal_2011-2040'])\n",
    "\n",
    "df_pr[\"sum_A_2041\"] = df_pr['core_2041-2070'] / (df_pr['rest_2041-2070'] + df_pr['core_marginal_2041-2070'])\n",
    "df_pr[\"sum_B_2041\"] = df_pr['core_marginal_2041-2070'] / (df_pr['rest_2041-2070'] + df_pr['core_marginal_2041-2070'])\n",
    "\n",
    "df_pr[\"sum_A_2071\"] = df_pr['core_2071-2100'] / (df_pr['rest_2071-2100'] + df_pr['core_marginal_2071-2100'])\n",
    "df_pr[\"sum_B_2071\"] = df_pr['core_marginal_2071-2100'] / (df_pr['rest_2071-2100'] + df_pr['core_marginal_2071-2100'])\n",
    "\n",
    "df_pr[[\n",
    "    \"sum_A_2011\", \n",
    "    \"sum_A_2041\", \n",
    "    \"sum_A_2071\", \n",
    "    \"sum_B_2011\", \n",
    "    \"sum_B_2041\", \n",
    "    \"sum_B_2071\", \n",
    "]]"
   ]
  },
  {
   "cell_type": "markdown",
   "id": "e5366eb8",
   "metadata": {},
   "source": [
    "### 2. Où se concentre la production de sirop d’érable au Canada. Et comment a-t-elle évolué au fil des années?"
   ]
  },
  {
   "cell_type": "markdown",
   "id": "9dc052e7",
   "metadata": {},
   "source": [
    "#### Où se concentre la production de sirop d’érable au Canada?"
   ]
  },
  {
   "cell_type": "code",
   "execution_count": null,
   "id": "54305bbb",
   "metadata": {},
   "outputs": [],
   "source": [
    "df.sort_values(\n",
    "    \"2021_num_entailles\", \n",
    "    ascending=False\n",
    ").reset_index()[[\n",
    "    \"area_name\", \n",
    "    \"province\", \n",
    "    \"2021_num_entailles\", \n",
    "    \"2021_num_exploitations\", \n",
    "    \"rank_biomass\", \n",
    "    \"rank_entailles\",\n",
    "    \"rank_exploitations\"\n",
    "]].head(n=top_n)"
   ]
  },
  {
   "cell_type": "markdown",
   "id": "0833bed5",
   "metadata": {},
   "source": [
    "##### Quelles régions ont connu la plus forte croissance au fil des ans?"
   ]
  },
  {
   "cell_type": "code",
   "execution_count": null,
   "id": "2ebedba4",
   "metadata": {},
   "outputs": [],
   "source": [
    "df[\"diff_num_entailles\"] = (df[\"2021_num_entailles\"] - df[\"2011_num_entailles\"]) / df[\"2021_num_entailles\"]\n",
    "\n",
    "df.sort_values(\n",
    "    \"diff_num_entailles\", \n",
    "    ascending=False\n",
    ").reset_index()[[\n",
    "    \"area_name\", \n",
    "    \"province\", \n",
    "    \"diff_num_entailles\",\n",
    "    \"2021_num_entailles\", \n",
    "    \"2011_num_entailles\", \n",
    "    \"2021_num_exploitations\",\n",
    "    \"2011_num_exploitations\", \n",
    "    \"rank_biomass\",\n",
    "    \"rank_entailles\",\n",
    "    \"rank_exploitations\"\n",
    "]].head(n=top_n)"
   ]
  },
  {
   "cell_type": "markdown",
   "id": "57d45648",
   "metadata": {},
   "source": [
    "### 3. Croiser les données sur la répartition et l'abondance de l’érable à sucre du Canada, et les projections de niche climatique d’ici 2100, avec les données sur les entailles d’étables du recensement de l’agriculture 2021. "
   ]
  },
  {
   "cell_type": "markdown",
   "id": "2a08450e",
   "metadata": {},
   "source": [
    "#### Quelle proportion (et quelles régions) des entailles actuelles se retrouveront dans des zones qui ne sont plus propices à la croissance de l’érable à sucre?"
   ]
  },
  {
   "cell_type": "code",
   "execution_count": null,
   "id": "a8c70d94",
   "metadata": {},
   "outputs": [],
   "source": [
    "# Scénario A (2041)\n",
    "df[\"2041_A_is_propice\"] = df[\"core_2041-2070\"] > 0\n",
    "is_not_propice_2041_A_df = df[df[\"2041_A_is_propice\"] == False].sort_values(\n",
    "    \"2021_num_entailles\", \n",
    "    ascending=False\n",
    ").reset_index()\n",
    "\n",
    "is_not_propice_2041_A_df[[\n",
    "    \"area_name\", \n",
    "    \"province\", \n",
    "    \"2021_num_entailles\", \n",
    "    \"2021_num_exploitations\", \n",
    "    \"rank_entailles\",\n",
    "    \"rank_exploitations\"\n",
    "]]"
   ]
  },
  {
   "cell_type": "code",
   "execution_count": null,
   "id": "a9f37663",
   "metadata": {},
   "outputs": [],
   "source": [
    "# Scénario A (2071)\n",
    "df[\"2071_A_is_propice\"] = df[\"core_2071-2100\"] > 0\n",
    "is_not_propice_2071_A_df = df[df[\"2071_A_is_propice\"] == False].sort_values(\n",
    "    \"2021_num_entailles\", \n",
    "    ascending=False\n",
    ").reset_index()\n",
    "\n",
    "is_not_propice_2071_A_df[[\n",
    "    \"area_name\", \n",
    "    \"province\", \n",
    "    \"2021_num_entailles\", \n",
    "    \"2021_num_exploitations\", \n",
    "    \"rank_entailles\",\n",
    "    \"rank_exploitations\"\n",
    "]]"
   ]
  },
  {
   "cell_type": "code",
   "execution_count": null,
   "id": "b8a563ab",
   "metadata": {},
   "outputs": [],
   "source": [
    "# Scénario B (2041)\n",
    "df[\"2041_B_is_propice\"] = df[\"core_marginal_2041-2070\"] > 0\n",
    "is_not_propice_2041_B_df = df[df[\"2041_B_is_propice\"] == False].sort_values(\n",
    "    \"2021_num_entailles\", \n",
    "    ascending=False\n",
    ").reset_index()\n",
    "\n",
    "is_not_propice_2041_B_df[[\n",
    "    \"area_name\", \n",
    "    \"province\", \n",
    "    \"2021_num_entailles\", \n",
    "    \"2021_num_exploitations\", \n",
    "    \"rank_entailles\",\n",
    "    \"rank_exploitations\"\n",
    "]]"
   ]
  },
  {
   "cell_type": "code",
   "execution_count": null,
   "id": "a259b270",
   "metadata": {},
   "outputs": [],
   "source": [
    "# Scénario B (2071)\n",
    "df[\"2071_B_is_propice\"] = df[\"core_marginal_2071-2100\"] > 0\n",
    "is_not_propice_2071_B_df = df[df[\"2071_B_is_propice\"] == False].sort_values(\n",
    "    \"2021_num_entailles\", \n",
    "    ascending=False\n",
    ").reset_index()\n",
    "\n",
    "is_not_propice_2071_B_df[[\n",
    "    \"area_name\", \n",
    "    \"province\", \n",
    "    \"2021_num_entailles\", \n",
    "    \"2021_num_exploitations\", \n",
    "    \"rank_entailles\",\n",
    "    \"rank_exploitations\"\n",
    "]]"
   ]
  },
  {
   "cell_type": "code",
   "execution_count": null,
   "id": "fb4c2598",
   "metadata": {},
   "outputs": [],
   "source": [
    "ratio_entailles_A_2041 = is_not_propice_2041_A_df[\"2021_num_entailles\"].sum() / df[\"2021_num_entailles\"].sum()\n",
    "ratio_entailles_A_2071 = is_not_propice_2071_A_df[\"2021_num_entailles\"].sum() / df[\"2021_num_entailles\"].sum()\n",
    "\n",
    "ratio_entailles_B_2041 = is_not_propice_2041_B_df[\"2021_num_entailles\"].sum() / df[\"2021_num_entailles\"].sum()\n",
    "ratio_entailles_B_2071 = is_not_propice_2071_B_df[\"2021_num_entailles\"].sum() / df[\"2021_num_entailles\"].sum()\n",
    "\n",
    "ratio_exploitations_A_2041 = is_not_propice_2041_A_df[\"2021_num_exploitations\"].sum() / df[\"2021_num_exploitations\"].sum()\n",
    "ratio_exploitations_A_2071 = is_not_propice_2071_A_df[\"2021_num_exploitations\"].sum() / df[\"2021_num_exploitations\"].sum()\n",
    "\n",
    "ratio_exploitations_B_2041 = is_not_propice_2041_B_df[\"2021_num_exploitations\"].sum() / df[\"2021_num_exploitations\"].sum()\n",
    "ratio_exploitations_B_2071 = is_not_propice_2071_B_df[\"2021_num_exploitations\"].sum() / df[\"2021_num_exploitations\"].sum()\n",
    "\n",
    "\n",
    "print(f\"Scénario A (entailles): {round(ratio_entailles_A_2041, 3)} (2041), {round(ratio_entailles_A_2071, 3)} (2011)\")\n",
    "print(f\"Scénario A (exploitations): {round(ratio_exploitations_A_2041, 3)} (2041), {round(ratio_exploitations_A_2071, 3)} (2011)\")\n",
    "print(f\"Scénario B (entailles): {round(ratio_entailles_B_2041, 3)} (2041), {round(ratio_entailles_B_2071, 3)} (2071)\")\n",
    "print(f\"Scénario B (exploitations): {round(ratio_exploitations_B_2041, 3)} (2041), {round(ratio_exploitations_B_2071, 3)} (2011)\")"
   ]
  },
  {
   "cell_type": "markdown",
   "id": "edb3175a",
   "metadata": {},
   "source": [
    "#### À quel point les régions qui ont connu la plus forte croissance resteront-elles dans des zones propices au développement de l’érable ou se retrouveront-elles au contraire dans les zones où sa croissance pourrait être affectée/menacée?"
   ]
  },
  {
   "cell_type": "code",
   "execution_count": null,
   "id": "acdf29c0",
   "metadata": {},
   "outputs": [],
   "source": [
    "df.sort_values(\"diff_num_entailles\", ascending=False).reset_index()[[\n",
    "    \"area_name\",\n",
    "    \"province\",\n",
    "    \"diff_num_entailles\",\n",
    "    \"2041_A_is_propice\",\n",
    "    \"2041_B_is_propice\",\n",
    "    \"2071_A_is_propice\",\n",
    "    \"2071_B_is_propice\"\n",
    "]].head(n=top_n)"
   ]
  },
  {
   "cell_type": "code",
   "execution_count": null,
   "id": "fd19bde7",
   "metadata": {},
   "outputs": [],
   "source": [
    "# TODO\n",
    "# Proportion de la biomasse actuelle dans des zones qui ne sont pas propices?\n",
    "# Proportion des entailles / exploitations dans des zones qui ne sont pas propices?"
   ]
  }
 ],
 "metadata": {
  "kernelspec": {
   "display_name": "Python 3 (ipykernel)",
   "language": "python",
   "name": "python3"
  },
  "language_info": {
   "codemirror_mode": {
    "name": "ipython",
    "version": 3
   },
   "file_extension": ".py",
   "mimetype": "text/x-python",
   "name": "python",
   "nbconvert_exporter": "python",
   "pygments_lexer": "ipython3",
   "version": "3.9.7"
  }
 },
 "nbformat": 4,
 "nbformat_minor": 5
}
