{
 "cells": [
  {
   "cell_type": "code",
   "execution_count": null,
   "id": "df4e0f7e",
   "metadata": {},
   "outputs": [],
   "source": [
    "import geopandas\n",
    "import rasterio\n",
    "from pathlib import Path\n",
    "import numpy as np\n",
    "import matplotlib.pyplot as plt\n",
    "\n",
    "from utils import read_raster\n",
    "\n",
    "%load_ext autoreload\n",
    "%autoreload 2"
   ]
  },
  {
   "cell_type": "code",
   "execution_count": null,
   "id": "90aef686",
   "metadata": {},
   "outputs": [],
   "source": [
    "DATA_PATH = Path(\"data/\")\n",
    "CRS = \"EPSG:4326\""
   ]
  },
  {
   "cell_type": "markdown",
   "id": "37158bd2",
   "metadata": {},
   "source": [
    "### Déplacement des zones propices "
   ]
  },
  {
   "cell_type": "code",
   "execution_count": null,
   "id": "c33b84be",
   "metadata": {},
   "outputs": [],
   "source": [
    "areas_2011_2040 = geopandas.read_file(DATA_PATH / \"rasters\" / \"arcp8510000532011-2040.shp\")\n",
    "areas_2011_2040.plot()"
   ]
  },
  {
   "cell_type": "code",
   "execution_count": null,
   "id": "7c789810",
   "metadata": {},
   "outputs": [],
   "source": [
    "areas_2041_2070 = geopandas.read_file(DATA_PATH / \"rasters\" / \"arcp8510000532041-2070.shp\")\n",
    "areas_2041_2070.plot()"
   ]
  },
  {
   "cell_type": "code",
   "execution_count": null,
   "id": "84197725",
   "metadata": {},
   "outputs": [],
   "source": [
    "areas_2071_2100 = geopandas.read_file(DATA_PATH / \"rasters\" / \"arcp8510000532071-2100.shp\")\n",
    "areas_2071_2100.plot()"
   ]
  },
  {
   "cell_type": "code",
   "execution_count": null,
   "id": "e694141a",
   "metadata": {},
   "outputs": [],
   "source": [
    "assert areas_2011_2040.crs == areas_2041_2070.crs\n",
    "assert areas_2011_2040.crs == areas_2071_2100.crs \n",
    "\n",
    "print(crs)"
   ]
  },
  {
   "cell_type": "markdown",
   "id": "4b58f03d",
   "metadata": {},
   "source": [
    "### Boundary files"
   ]
  },
  {
   "cell_type": "code",
   "execution_count": null,
   "id": "37b5ae95",
   "metadata": {},
   "outputs": [],
   "source": [
    "boundaries = geopandas.read_file(DATA_PATH / \"boundaries\" / \"lcar000b21a_e.shp\")\n",
    "boundaries = boundaries.to_crs(CRS)\n",
    "boundaries.plot()"
   ]
  },
  {
   "cell_type": "code",
   "execution_count": null,
   "id": "2c87159d",
   "metadata": {},
   "outputs": [],
   "source": [
    "def _get_area(df):\n",
    "    # Reproject in a cartesian system to compute area (squared km)\n",
    "    area = df.geometry.to_crs('EPSG:3857').geometry.area / 10 ** 6\n",
    "    \n",
    "    return area\n",
    "\n",
    "boundaries[\"total_area\"] = _get_area(boundaries)"
   ]
  },
  {
   "cell_type": "code",
   "execution_count": null,
   "id": "61891e03",
   "metadata": {},
   "outputs": [],
   "source": [
    "boundaries.head().explore()"
   ]
  },
  {
   "cell_type": "markdown",
   "id": "e59fdf53",
   "metadata": {},
   "source": [
    "### Spatial join boundaries and areas 2011-2041"
   ]
  },
  {
   "cell_type": "code",
   "execution_count": null,
   "id": "93d8b16a",
   "metadata": {},
   "outputs": [],
   "source": [
    "intersection = boundaries.head().overlay(areas_2011_2040, how=\"intersection\")"
   ]
  },
  {
   "cell_type": "code",
   "execution_count": null,
   "id": "839d0df0",
   "metadata": {},
   "outputs": [],
   "source": [
    "intersection.plot(column=\"DN\")"
   ]
  },
  {
   "cell_type": "code",
   "execution_count": null,
   "id": "ccc4f5ac",
   "metadata": {},
   "outputs": [],
   "source": [
    "intersection.head()"
   ]
  },
  {
   "cell_type": "markdown",
   "id": "8f2d2f0d",
   "metadata": {},
   "source": [
    "### Calculate areas (squared km) of migration zones"
   ]
  },
  {
   "cell_type": "code",
   "execution_count": null,
   "id": "ce3dbcd8",
   "metadata": {},
   "outputs": [],
   "source": [
    "intersection[\"intersection_area\"] = _get_area(intersection)\n",
    "intersection.head()"
   ]
  },
  {
   "cell_type": "code",
   "execution_count": null,
   "id": "e787d921",
   "metadata": {},
   "outputs": [],
   "source": [
    "intersection[\"proportion\"] = intersection[\"intersection_area\"] / intersection[\"total_area\"]\n",
    "intersection.head()"
   ]
  },
  {
   "cell_type": "code",
   "execution_count": null,
   "id": "8c94c69f",
   "metadata": {},
   "outputs": [],
   "source": [
    "intersection.explore()"
   ]
  },
  {
   "cell_type": "markdown",
   "id": "829fb8d5",
   "metadata": {},
   "source": [
    "### Load current proportion maps"
   ]
  },
  {
   "cell_type": "code",
   "execution_count": null,
   "id": "7f0214a3",
   "metadata": {},
   "outputs": [],
   "source": [
    "with rasterio.open(DATA_PATH / \"cartography\" / \"ACESAC_prop_250m_final.tif\") as src:\n",
    "    affine = src.transform\n",
    "    current_prop = src.read(1)\n",
    "    \n",
    "#     no_data_val = src.nodatavals[0]\n",
    "#     current_prop[current_prop == no_data_val] = np.nan"
   ]
  },
  {
   "cell_type": "code",
   "execution_count": null,
   "id": "e90dda8d",
   "metadata": {},
   "outputs": [],
   "source": [
    "plt.imshow(current_prop, cmap='pink')\n",
    "plt.show()"
   ]
  },
  {
   "cell_type": "code",
   "execution_count": null,
   "id": "1508e07a",
   "metadata": {},
   "outputs": [],
   "source": [
    "affine"
   ]
  },
  {
   "cell_type": "code",
   "execution_count": null,
   "id": "944bbe2c",
   "metadata": {},
   "outputs": [],
   "source": [
    "from rasterstats import zonal_stats\n",
    "import pandas as pd\n",
    "\n",
    "gdf = boundaries.head()\n",
    "# gdf['mean'] = pd.DataFrame(\n",
    "zonal_stats(\n",
    "    vectors=gdf['geometry'], \n",
    "    raster=current_prop, \n",
    "    affine=affine, \n",
    "    stats='mean'\n",
    ")\n",
    "# )['mean']"
   ]
  },
  {
   "cell_type": "code",
   "execution_count": null,
   "id": "d8590a68",
   "metadata": {},
   "outputs": [],
   "source": [
    "gdf"
   ]
  }
 ],
 "metadata": {
  "kernelspec": {
   "display_name": "Python 3 (ipykernel)",
   "language": "python",
   "name": "python3"
  },
  "language_info": {
   "codemirror_mode": {
    "name": "ipython",
    "version": 3
   },
   "file_extension": ".py",
   "mimetype": "text/x-python",
   "name": "python",
   "nbconvert_exporter": "python",
   "pygments_lexer": "ipython3",
   "version": "3.8.10"
  }
 },
 "nbformat": 4,
 "nbformat_minor": 5
}
