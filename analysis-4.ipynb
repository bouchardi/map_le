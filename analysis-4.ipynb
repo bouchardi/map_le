{
 "cells": [
  {
   "cell_type": "markdown",
   "id": "3cc4b321",
   "metadata": {},
   "source": [
    "# La migration des érables à sucre au Canada\n",
    "\n",
    "Ce document est divisé en quatre sections: \n",
    "1. Lecture des données \n",
    "2. Création de la table de données de travail \n",
    "3. Visualisation interactive des données \n",
    "4. Réponses aux questions de recherche"
   ]
  },
  {
   "cell_type": "code",
   "execution_count": null,
   "id": "df4e0f7e",
   "metadata": {},
   "outputs": [],
   "source": [
    "import warnings\n",
    "import geopandas\n",
    "import rasterio\n",
    "from pathlib import Path\n",
    "import numpy as np\n",
    "import pandas as pd\n",
    "from rasterstats import zonal_stats\n",
    "import matplotlib.pyplot as plt\n",
    "from ipywidgets import interact\n",
    "import matplotlib as mpl\n",
    "from rasterio.plot import show\n",
    "import plotly.io as pio\n",
    "from rasterio.mask import mask\n",
    "from shapely.geometry import Polygon\n",
    "\n",
    "from utils import read_raster, reproject_raster, compute_area, zonal_stats_for_value, register_rasters, zonal_stats_intersection, zonal_stats_intersection_gain\n",
    "\n",
    "pio.renderers.default = \"notebook+pdf\"\n",
    "plt.rcParams['figure.figsize'] = [25, 15]\n",
    "pd.set_option('display.max_columns', None, 'display.max_rows', None)\n",
    "\n",
    "warnings.filterwarnings('ignore')\n",
    "\n",
    "%load_ext autoreload\n",
    "%autoreload 2"
   ]
  },
  {
   "cell_type": "markdown",
   "id": "27c4f808",
   "metadata": {},
   "source": [
    "## Définition des variables "
   ]
  },
  {
   "cell_type": "code",
   "execution_count": null,
   "id": "90aef686",
   "metadata": {},
   "outputs": [],
   "source": [
    "DATA_PATH = Path(\"data/\")\n",
    "CRS = \"EPSG:4326\""
   ]
  },
  {
   "cell_type": "markdown",
   "id": "45071a10",
   "metadata": {},
   "source": [
    "# 1. Lecture des données "
   ]
  },
  {
   "cell_type": "markdown",
   "id": "86fc27c8",
   "metadata": {},
   "source": [
    "### 1.1. Données d'exploitations acéricoles et d'entailles d'érables\n",
    "\n",
    "Les données d'exploitations et d'entailles proviennent de Statistique Canada. On télécharge les données pour [2011, 2016](https://www150.statcan.gc.ca/t1/tbl1/fr/cv!recreate.action?pid=3210042301&selectedNodeIds=&checkedLevels=0D1,0D2,0D3,0D4,0D5,1D1&refPeriods=20110101,20160101&dimensionLayouts=layout3,layout3,layout2&vectorDisplay=false) et [2021](https://www150.statcan.gc.ca/t1/tbl1/fr/cv.action?pid=3210036201), par région agricole de recensement (RAR). "
   ]
  },
  {
   "cell_type": "code",
   "execution_count": null,
   "id": "1523a6eb",
   "metadata": {},
   "outputs": [],
   "source": [
    "level = \"RAR\"\n",
    "\n",
    "df_farms = pd.concat(\n",
    "    [\n",
    "        pd.read_csv(DATA_PATH / \"fermes\" / f\"{level}_2021.csv\", delimiter=\";\"), \n",
    "        pd.read_csv(DATA_PATH / \"fermes\" / f\"{level}_2011_2016.csv\", delimiter=\";\"), \n",
    "    ]\n",
    ").drop(\n",
    "    [\n",
    "        \"UNITÉ DE MESURE\", \n",
    "        \"IDENTIFICATEUR D'UNITÉ DE MESURE\", \n",
    "        \"FACTEUR SCALAIRE\", \n",
    "        \"VECTEUR\", \n",
    "        \"COORDONNÉES\", \n",
    "        \"IDENTIFICATEUR SCALAIRE\", \n",
    "        \"STATUS\", \n",
    "        \"SYMBOLE\", \n",
    "        \"TERMINÉ\", \n",
    "        \"DÉCIMALES\"\n",
    "    ], \n",
    "    axis=1\n",
    ").reset_index()\n",
    "\n",
    "df_farms[\"GÉO\"] = df_farms.apply(\n",
    "    lambda row: row[\"GÉO\"].split(\" [\")[0], \n",
    "    axis=1\n",
    ")\n",
    "\n",
    "df_farms[\"DGUID\"] = df_farms.apply(\n",
    "    lambda row: row[\"DGUID\"][4:], \n",
    "    axis=1\n",
    ")\n",
    "\n",
    "\n",
    "df_farms = df_farms.replace(\n",
    "    \"Nombre d'exploitations déclarantes\", \n",
    "    \"num_exploitations\"\n",
    ").replace(\n",
    "    \"Nombre d'entailles\", \n",
    "    \"num_entailles\"\n",
    ").replace(\n",
    "    \"Nombre de fermes déclarantes\", \n",
    "    \"num_exploitations\"\n",
    ").pivot(\n",
    "    index=[\"GÉO\", \"DGUID\"], \n",
    "    columns=[\"PÉRIODE DE RÉFÉRENCE\", \"Entailles d'érables\"], \n",
    "    values=\"VALEUR\"\n",
    ")\n",
    "\n",
    "df_farms.columns = [f\"{x}_{y}\" for x, y in df_farms.columns.to_flat_index()]\n",
    "\n",
    "df_farms"
   ]
  },
  {
   "cell_type": "markdown",
   "id": "9116cdae",
   "metadata": {},
   "source": [
    "On télécharge également les données par Division de Recensement (CD) ou Région Agricole de Recensement (RAR), selon la province. À noter que ces données ne sont utilisées que pour la visualisation des régions, et non pour l'analyse."
   ]
  },
  {
   "cell_type": "code",
   "execution_count": null,
   "id": "319565e9",
   "metadata": {},
   "outputs": [],
   "source": [
    "def read_farms_df(level, provinces):\n",
    "    farms = pd.read_csv(\n",
    "        DATA_PATH / \"fermes\" / f\"{level}_2021.csv\", delimiter=\";\"\n",
    "    ).drop(\n",
    "        [\n",
    "            \"UNITÉ DE MESURE\", \n",
    "            \"IDENTIFICATEUR D'UNITÉ DE MESURE\", \n",
    "            \"FACTEUR SCALAIRE\", \n",
    "            \"VECTEUR\", \n",
    "            \"COORDONNÉES\", \n",
    "            \"IDENTIFICATEUR SCALAIRE\", \n",
    "            \"STATUS\", \n",
    "            \"SYMBOLE\", \n",
    "            \"TERMINÉ\", \n",
    "            \"DÉCIMALES\"\n",
    "        ], \n",
    "        axis=1\n",
    "    ).reset_index()\n",
    "\n",
    "    farms[\"GÉO\"] = farms.apply(\n",
    "        lambda row: row[\"GÉO\"].split(\" [\")[0], \n",
    "        axis=1\n",
    "    )\n",
    "\n",
    "    farms[\"DGUID\"] = farms.apply(\n",
    "        lambda row: row[\"DGUID\"][4:], \n",
    "        axis=1\n",
    "    )\n",
    "\n",
    "    farms[\"Province\"] = farms.apply(\n",
    "        lambda row: row[\"GÉO\"].split(\", \")[-1], \n",
    "        axis=1\n",
    "    )\n",
    "\n",
    "    farms = farms[farms[\"Province\"].isin(provinces)]\n",
    "\n",
    "    farms = farms.replace(\n",
    "        \"Nombre d'exploitations déclarantes\", \n",
    "        \"num_exploitations\"\n",
    "    ).replace(\n",
    "        \"Nombre d'entailles\", \n",
    "        \"num_entailles\"\n",
    "    ).replace(\n",
    "        \"Nombre de fermes déclarantes\", \n",
    "        \"num_exploitations\"\n",
    "    ).pivot(\n",
    "        index=[\"GÉO\", \"DGUID\"], \n",
    "        columns=[\"PÉRIODE DE RÉFÉRENCE\", \"Entailles d'érables\"], \n",
    "        values=\"VALEUR\"\n",
    "    )\n",
    "\n",
    "    farms.columns = [f\"{x}_{y}\" for x, y in farms.columns.to_flat_index()]\n",
    "    farms[\"level\"] = level\n",
    "    \n",
    "    return farms\n",
    "\n",
    "\n",
    "df_farms_RAR = read_farms_df(\n",
    "    \"RAR\", \n",
    "    provinces=[\n",
    "        \"Québec\", \n",
    "        \"Terre-Neuve-et-Labrador\", \n",
    "        \"Manitoba\", \n",
    "        \"Saskatchewan\",  \n",
    "        \"Alberta\",    \n",
    "        \"Colombie-Britannique\",\n",
    "])\n",
    "df_farms_CD = read_farms_df(\n",
    "    \"CD\", \n",
    "    provinces=[\n",
    "        \"Ontario\", \n",
    "        \"Nouveau-Brunswick\",\n",
    "        \"Nouvelle-Écosse\", \n",
    "        \"Île-du-Prince-Édouard\", \n",
    "])\n",
    "\n",
    "df_farms_CD"
   ]
  },
  {
   "cell_type": "markdown",
   "id": "4b58f03d",
   "metadata": {},
   "source": [
    "### 1.2. Fichiers des limites géographiques\n",
    "\n",
    "On téléchargement également les fichiers des [limites géographiques des régions agricoles de recensement (RAR)](https://www12.statcan.gc.ca/census-recensement/2021/geo/sip-pis/boundary-limites/index2021-fra.cfm?year=21) à partir du site de Statistique Canada. "
   ]
  },
  {
   "cell_type": "code",
   "execution_count": null,
   "id": "37b5ae95",
   "metadata": {},
   "outputs": [],
   "source": [
    "df_boundaries = geopandas.read_file(\n",
    "    DATA_PATH / \"boundaries\" / \"lcar000b21a_e.shp\"\n",
    ").to_crs(\n",
    "    CRS\n",
    ").drop(\n",
    "    [\"CARUID\", \"CARENAME\", \"LANDAREA\"], \n",
    "    axis=1\n",
    ").rename(\n",
    "    columns={\"CARFNAME\": \"area_name\"}\n",
    ")\n",
    "\n",
    "df_boundaries[\"DGUID\"] = df_boundaries.apply(\n",
    "    lambda row: row[\"DGUID\"][4:], \n",
    "    axis=1\n",
    ")\n",
    "\n",
    "df_boundaries[\"total_area\"] = compute_area(df_boundaries)\n",
    "\n",
    "df_boundaries"
   ]
  },
  {
   "cell_type": "markdown",
   "id": "e04445ca",
   "metadata": {},
   "source": [
    "On visualise les limites géographiques des Régions Agricoles de Recensement."
   ]
  },
  {
   "cell_type": "code",
   "execution_count": null,
   "id": "e7d01ac9",
   "metadata": {},
   "outputs": [],
   "source": [
    "df_boundaries.plot()"
   ]
  },
  {
   "cell_type": "markdown",
   "id": "6a8b10d5",
   "metadata": {},
   "source": [
    "On télécharge également les [limites géographiques des Divisions de Recensement (CD)](https://www12.statcan.gc.ca/census-recensement/2021/geo/sip-pis/boundary-limites/index2021-fra.cfm?year=21) à partir du site de Statistique Canada. Ces données ne seront utilisées que pour la visualisation et non l'analyse. "
   ]
  },
  {
   "cell_type": "code",
   "execution_count": null,
   "id": "6ed11a76",
   "metadata": {},
   "outputs": [],
   "source": [
    "df_boundaries_CD = geopandas.read_file(\n",
    "    DATA_PATH / \"boundaries\" / \"ldr_000b21a_f.shp\"\n",
    ").to_crs(\n",
    "    CRS\n",
    ").drop(\n",
    "    [\"DRIDU\", \"DRGENRE\", \"SUPTERRE\"], \n",
    "    axis=1\n",
    ").rename(\n",
    "    columns={\n",
    "        \"DRNOM\": \"area_name\", \n",
    "        \"IDUGD\": \"DGUID\", \n",
    "        \"PRIDU\": \"PRUID\"\n",
    "    }\n",
    ")\n",
    "\n",
    "df_boundaries_CD[\"DGUID\"] = df_boundaries_CD.apply(\n",
    "    lambda row: row[\"DGUID\"][4:], \n",
    "    axis=1\n",
    ")\n",
    "\n",
    "df_boundaries_CD.head()"
   ]
  },
  {
   "cell_type": "markdown",
   "id": "e4375af9",
   "metadata": {},
   "source": [
    "On visualise les limites géographiques des Divisions de Recensement."
   ]
  },
  {
   "cell_type": "code",
   "execution_count": null,
   "id": "f6d2a7bc",
   "metadata": {},
   "outputs": [],
   "source": [
    "df_boundaries.plot()"
   ]
  },
  {
   "cell_type": "markdown",
   "id": "37158bd2",
   "metadata": {},
   "source": [
    "### 1.3. Projections de l'enveloppe climatique propice à l'érable à sucre \n",
    "\n",
    "On télécharge ensuite les fichiers de projections climatiques pour l'érable à sucre (selon le scénario SDM ANUCLIM et le RCP 4.5) pour les horizons 2011-2040, 2041-2070 et 2071 à 2100. \n",
    "\n",
    "On considère une enveloppe \"marginale\" et une enveloppe \"core\", selon les définitions suivantes:\n",
    "- \"marginale\": enveloppe climatique pour une période définie calibrée selon le min/max des conditions climatiques observées durant la période de référence.\n",
    "- \"core\": Enveloppe climatique selon le 5e à 95e centile des conditions climatiques observées durant la période de référence \n",
    "\n",
    "_Source: https://protect-eu.mimecast.com/s/G3lTCVNkkFqzB6DHGqvem?domain=planthardiness.gc.ca ET McKENNEY, D. W., Pedlar, J. H., Rood, R. B., & Price, D. (2011). Revisiting projected shifts in the climate envelopes of North American trees using updated general circulation models. Global Change Biology, 17(8), 2720-2730._"
   ]
  },
  {
   "cell_type": "markdown",
   "id": "1327bd8a",
   "metadata": {},
   "source": [
    "#### Projection 2011-2040"
   ]
  },
  {
   "cell_type": "code",
   "execution_count": null,
   "id": "c60b201c",
   "metadata": {},
   "outputs": [],
   "source": [
    "filename = DATA_PATH / \"rasters\" / \"arcp4510000502011-2040.asc\"\n",
    "\n",
    "raster_2011_2040 = read_raster(filename, crs=CRS)\n",
    "    \n",
    "cmap = mpl.colors.ListedColormap(['black', 'yellow', 'orange'])\n",
    "bounds = [raster_2011_2040.nodata, 1, 3, 4]\n",
    "norm = mpl.colors.BoundaryNorm(bounds, cmap.N)\n",
    "\n",
    "raster_2011_2040_data = raster_2011_2040.read(1)\n",
    "plt.imshow(raster_2011_2040_data, cmap=cmap, norm=norm, alpha=0.5)\n",
    "plt.show()"
   ]
  },
  {
   "cell_type": "markdown",
   "id": "a41e5d7d",
   "metadata": {},
   "source": [
    "Pour chacune des régions agricoles de recensement, on calcule le nombre de pixels pour chacune des catégories (\"marginale\", \"core\" et \"autres\")."
   ]
  },
  {
   "cell_type": "code",
   "execution_count": null,
   "id": "2b46cbcb",
   "metadata": {},
   "outputs": [],
   "source": [
    "period = \"2011-2040\"\n",
    "\n",
    "for value, name in [\n",
    "    (1, \"marginal\"), \n",
    "    (3, \"core\"), \n",
    "    (raster_2011_2040.nodata, \"rest\")\n",
    "]:\n",
    "    df_boundaries[f\"{name}_{period}\"] = zonal_stats_for_value(\n",
    "        raster=raster_2011_2040, \n",
    "        vectors=df_boundaries[\"geometry\"], \n",
    "        value=value, \n",
    "        data_value=100, \n",
    "        stats=\"count\", \n",
    "        resolution=2.5\n",
    "    )"
   ]
  },
  {
   "cell_type": "markdown",
   "id": "f5ab9ea7",
   "metadata": {},
   "source": [
    "#### Projection 2041-2070"
   ]
  },
  {
   "cell_type": "code",
   "execution_count": null,
   "id": "da7e9a49",
   "metadata": {},
   "outputs": [],
   "source": [
    "filename = DATA_PATH / \"rasters\" / \"arcp4510000502041-2070.asc\"\n",
    "\n",
    "raster_2041_2070 = read_raster(filename, crs=CRS)\n",
    "\n",
    "raster_2041_2070_data = raster_2041_2070.read(1)\n",
    "plt.imshow(raster_2041_2070_data, cmap=cmap, norm=norm, alpha=0.5)\n",
    "plt.show()"
   ]
  },
  {
   "cell_type": "markdown",
   "id": "c6bbbf74",
   "metadata": {},
   "source": [
    "Pour chacune des régions agricoles de recensement, on calcule le nombre de pixels pour chacune des catégories (\"marginale\", \"core\" et \"autres\")."
   ]
  },
  {
   "cell_type": "code",
   "execution_count": null,
   "id": "67ac4b5c",
   "metadata": {},
   "outputs": [],
   "source": [
    "period = \"2041-2070\"\n",
    "\n",
    "for value, name in [\n",
    "    (1, \"marginal\"), \n",
    "    (3, \"core\"), \n",
    "    (raster_2041_2070.nodata, \"rest\")\n",
    "]:\n",
    "    df_boundaries[f\"{name}_{period}\"] = zonal_stats_for_value(\n",
    "        raster=raster_2041_2070, \n",
    "        vectors=df_boundaries[\"geometry\"], \n",
    "        value=value, \n",
    "        data_value=100, \n",
    "        stats=\"count\", \n",
    "        resolution=2.5\n",
    "    )"
   ]
  },
  {
   "cell_type": "markdown",
   "id": "4d567399",
   "metadata": {},
   "source": [
    "#### Projection 2071-2100"
   ]
  },
  {
   "cell_type": "code",
   "execution_count": null,
   "id": "ae1faf33",
   "metadata": {},
   "outputs": [],
   "source": [
    "filename = DATA_PATH / \"rasters\" / \"arcp4510000502071-2100.asc\"\n",
    "raster_2071_2100 = read_raster(filename, crs=CRS)\n",
    "\n",
    "raster_2071_2100_data = raster_2071_2100.read(1)\n",
    "plt.imshow(raster_2071_2100_data, cmap=cmap, norm=norm, alpha=0.5)\n",
    "plt.show()"
   ]
  },
  {
   "cell_type": "markdown",
   "id": "c7a3509e",
   "metadata": {},
   "source": [
    "Pour chacune des régions agricoles de recensement, on calcule le nombre de pixels pour chacune des catégories (\"marginale\", \"core\" et \"autres\")."
   ]
  },
  {
   "cell_type": "code",
   "execution_count": null,
   "id": "97fb3419",
   "metadata": {},
   "outputs": [],
   "source": [
    "period = \"2071-2100\"\n",
    "\n",
    "for value, name in [\n",
    "    (1, \"marginal\"), \n",
    "    (3, \"core\"), \n",
    "    (raster_2071_2100.nodata, \"rest\")\n",
    "]:\n",
    "    df_boundaries[f\"{name}_{period}\"] = zonal_stats_for_value(\n",
    "        raster=raster_2071_2100, \n",
    "        vectors=df_boundaries[\"geometry\"], \n",
    "        value=value, \n",
    "        data_value=100, \n",
    "        stats=\"count\", \n",
    "        resolution=2.5\n",
    "    )"
   ]
  },
  {
   "cell_type": "markdown",
   "id": "d7918d11",
   "metadata": {},
   "source": [
    "### 1.4. Intersection des projections\n",
    "\n",
    "Pour chacune des régions, on observe la proportion qui demeure intacte d'une période à une autre."
   ]
  },
  {
   "cell_type": "code",
   "execution_count": null,
   "id": "d9e4e60c",
   "metadata": {},
   "outputs": [],
   "source": [
    "rasters, transform = register_rasters(\n",
    "    raster_2011_2040, \n",
    "    raster_2041_2070, \n",
    "    raster_2071_2100\n",
    ")\n",
    "\n",
    "registered_raster_2011_2040, registered_raster_2041_2070, registered_raster_2071_2100 = rasters"
   ]
  },
  {
   "cell_type": "code",
   "execution_count": null,
   "id": "23c0bcdc",
   "metadata": {},
   "outputs": [],
   "source": [
    "stats, marginal_2011_and_2041_raster = zonal_stats_intersection(\n",
    "    df_boundaries['geometry'], \n",
    "    registered_raster_2011_2040, \n",
    "    registered_raster_2041_2070, \n",
    "    affine=transform, \n",
    "    data_values=[1, 3], \n",
    "    nodata_value=-999, \n",
    "    resolution=2.5\n",
    ")\n",
    "df_boundaries[f\"marginal_2011_and_2041\"] = stats\n",
    "\n",
    "stats, core_2011_and_2041_raster = zonal_stats_intersection(\n",
    "    df_boundaries['geometry'], \n",
    "    registered_raster_2011_2040, \n",
    "    registered_raster_2041_2070, \n",
    "    affine=transform, \n",
    "    data_values=[3], \n",
    "    nodata_value=-999, \n",
    "    resolution=2.5\n",
    ")\n",
    "df_boundaries[f\"core_2011_and_2041\"] = stats\n",
    "    \n",
    "stats, marginal_2011_and_2071_raster = zonal_stats_intersection(\n",
    "    df_boundaries['geometry'], \n",
    "    registered_raster_2011_2040, \n",
    "    registered_raster_2071_2100, \n",
    "    affine=transform, \n",
    "    data_values=[1, 3], \n",
    "    nodata_value=-999, \n",
    "    resolution=2.5\n",
    ")\n",
    "df_boundaries[f\"marginal_2011_and_2071\"] = stats\n",
    "\n",
    "stats, core_2011_and_2071_raster = zonal_stats_intersection(\n",
    "    df_boundaries['geometry'], \n",
    "    registered_raster_2011_2040, \n",
    "    registered_raster_2071_2100, \n",
    "    affine=transform, \n",
    "    data_values=[3], \n",
    "    nodata_value=-999, \n",
    "    resolution=2.5\n",
    ")\n",
    "df_boundaries[f\"core_2011_and_2071\"] = stats"
   ]
  },
  {
   "cell_type": "code",
   "execution_count": null,
   "id": "409e1c5f",
   "metadata": {},
   "outputs": [],
   "source": [
    "stats, marginal_2011_and_2041_raster = zonal_stats_intersection_gain(\n",
    "    df_boundaries['geometry'], \n",
    "    registered_raster_2011_2040, \n",
    "    registered_raster_2041_2070, \n",
    "    affine=transform, \n",
    "    data_values=[1, 3], \n",
    "    nodata_value=-999, \n",
    "    resolution=2.5\n",
    ")\n",
    "df_boundaries[f\"gain_marginal_2041\"] = stats\n",
    "\n",
    "stats, core_2011_and_2041_raster = zonal_stats_intersection_gain(\n",
    "    df_boundaries['geometry'], \n",
    "    registered_raster_2011_2040, \n",
    "    registered_raster_2041_2070, \n",
    "    affine=transform, \n",
    "    data_values=[3], \n",
    "    nodata_value=-999, \n",
    "    resolution=2.5\n",
    ")\n",
    "df_boundaries[f\"gain_core_2041\"] = stats\n",
    "    \n",
    "stats, marginal_2011_and_2071_raster = zonal_stats_intersection_gain(\n",
    "    df_boundaries['geometry'], \n",
    "    registered_raster_2011_2040, \n",
    "    registered_raster_2071_2100, \n",
    "    affine=transform, \n",
    "    data_values=[1, 3], \n",
    "    nodata_value=-999, \n",
    "    resolution=2.5\n",
    ")\n",
    "df_boundaries[f\"gain_marginal_2071\"] = stats\n",
    "\n",
    "stats, core_2011_and_2071_raster = zonal_stats_intersection_gain(\n",
    "    df_boundaries['geometry'], \n",
    "    registered_raster_2011_2040, \n",
    "    registered_raster_2071_2100, \n",
    "    affine=transform, \n",
    "    data_values=[3], \n",
    "    nodata_value=-999, \n",
    "    resolution=2.5\n",
    ")\n",
    "df_boundaries[f\"gain_core_2071\"] = stats"
   ]
  },
  {
   "cell_type": "markdown",
   "id": "5119b159",
   "metadata": {},
   "source": [
    "# 2. Création de la table de données de travail\n",
    "\n",
    "On joint les données téléchargées dans un dataframe comprenant toutes les informations requises pour répondre aux questions de recherche. On calcule quelques statistiques préalables et on nettoie la table de données finale."
   ]
  },
  {
   "cell_type": "code",
   "execution_count": null,
   "id": "10918505",
   "metadata": {},
   "outputs": [],
   "source": [
    "df = pd.merge(\n",
    "    df_boundaries, \n",
    "    df_farms, \n",
    "    on=\"DGUID\"\n",
    ")\n",
    "\n",
    "pr_df = pd.DataFrame({\n",
    "    \"PRUID\": [\"10\", \"11\", \"12\", \"13\", \"24\", \"35\", \"46\", \"47\", \"48\", \"59\", \"60\", \"61\", \"62\"], \n",
    "    \"province\": [\n",
    "        \"Terre-Neuve-et-Labrador\", \n",
    "        \"Île-du-Prince-Édouard\", \n",
    "        \"Nouvelle-Écosse\",\n",
    "        \"Nouveau-Brunswick\",\n",
    "        \"Québec\",\n",
    "        \"Ontario\",\n",
    "        \"Manitoba\",\n",
    "        \"Saskatchewan\",\n",
    "        \"Alberta\",\n",
    "        \"Colombie-Britannique\",\n",
    "        \"Yukon\",\n",
    "        \"Territoires du Nord-Ouest\",\n",
    "        \"Nunavut\"\n",
    "    ]\n",
    "}\n",
    ")\n",
    "\n",
    "df = df.merge(\n",
    "    pr_df, \n",
    "    on=\"PRUID\"\n",
    ").drop(\"PRUID\", axis=1)\n",
    "\n",
    "df[\"rank_entailles\"] = df[\"2021_num_entailles\"].rank(method=\"min\", na_option=\"bottom\", ascending=False)\n",
    "df[\"rank_exploitations\"] = df[\"2021_num_exploitations\"].rank(method=\"min\", na_option=\"bottom\", ascending=False)\n",
    "\n",
    "df = df.rename({\n",
    "    \"all_2011-2040\": \"rest_2011-2040\", \n",
    "    \"all_2041-2070\": \"rest_2041-2070\", \n",
    "    \"all_2071-2100\": \"rest_2071-2100\", \n",
    "}, axis=1)\n",
    "\n",
    "df"
   ]
  },
  {
   "cell_type": "markdown",
   "id": "260a63bf",
   "metadata": {},
   "source": [
    "On crée également une table de données avec différents niveaux de délimitation des régions (CD ou RAR) selon la province. Ces données ne seront utilisées que pour la visualisation."
   ]
  },
  {
   "cell_type": "code",
   "execution_count": null,
   "id": "e847c3b3",
   "metadata": {},
   "outputs": [],
   "source": [
    "df_CD_and_RAR = geopandas.GeoDataFrame(\n",
    "    pd.concat([\n",
    "        pd.merge(\n",
    "            df_farms_CD,\n",
    "            df_boundaries_CD,  \n",
    "            on=\"DGUID\", \n",
    "            how=\"left\"\n",
    "        ),  \n",
    "        pd.merge(\n",
    "            df_farms_RAR,\n",
    "            df_boundaries,  \n",
    "            on=\"DGUID\", \n",
    "            how=\"left\"\n",
    "        )\n",
    "    ])\n",
    ")\n",
    "\n",
    "df_CD_and_RAR"
   ]
  },
  {
   "cell_type": "markdown",
   "id": "237f7476",
   "metadata": {},
   "source": [
    "# 3. Visualisation des données \n",
    "\n",
    "## 3.1. Projection des niches climatiques\n",
    "\n",
    "On visualise la distribution des entailles en 2021 par rapport à la carte des niches climatiques.\n",
    "\n",
    "\n",
    "La niche climatique marginale est en jaune et la niche climatique core, en orange. Les cercles bleus pointent vers le centroïde de chacune des régions agricoles de recensement et la taille du cercle est proportionnelle au nombre d'entailles en 2021.\n",
    "\n",
    "\n",
    "### 3.1.1. Projection 2011-2040"
   ]
  },
  {
   "cell_type": "code",
   "execution_count": null,
   "id": "36a601e0",
   "metadata": {},
   "outputs": [],
   "source": [
    "def _plot(df, raster, markersize_factor=50000, extent=None):\n",
    "    fig, ax = plt.subplots()\n",
    "\n",
    "    ax = show(\n",
    "        raster, \n",
    "        extent=[\n",
    "            raster.bounds[0], \n",
    "            raster.bounds[2], \n",
    "            raster.bounds[1], \n",
    "            raster.bounds[3]\n",
    "        ], \n",
    "        alpha=0.5,\n",
    "        cmap=cmap, \n",
    "        norm=norm,\n",
    "        with_bounds=True, \n",
    "        ax=ax\n",
    "    )\n",
    "\n",
    "    df.boundary.plot(ax=ax, lw=0.15, color=\"black\")\n",
    "    df.centroid.plot(\n",
    "        markersize=df['2021_num_entailles'] / markersize_factor, \n",
    "        alpha=0.5,\n",
    "        color=\"DarkTurquoise\", \n",
    "        ax=ax\n",
    "    )\n",
    "    \n",
    "_plot(df_CD_and_RAR, raster_2011_2040)"
   ]
  },
  {
   "cell_type": "markdown",
   "id": "f405e7d2",
   "metadata": {},
   "source": [
    "### 3.1.2. Projection 2041-2070"
   ]
  },
  {
   "cell_type": "code",
   "execution_count": null,
   "id": "a0df4f5e",
   "metadata": {},
   "outputs": [],
   "source": [
    "_plot(df_CD_and_RAR, raster_2041_2070)"
   ]
  },
  {
   "cell_type": "markdown",
   "id": "a5409cf2",
   "metadata": {},
   "source": [
    "### 3.1.3. Projection 2071-2100"
   ]
  },
  {
   "cell_type": "code",
   "execution_count": null,
   "id": "8129f8a0",
   "metadata": {},
   "outputs": [],
   "source": [
    "_plot(df_CD_and_RAR, raster_2071_2100)"
   ]
  },
  {
   "cell_type": "markdown",
   "id": "785a49b6",
   "metadata": {},
   "source": [
    "On zoom ici sur l'Est du pays, où se concentre la production acéricole.\n",
    "\n",
    "### 3.1.4. Projection 2011-2040"
   ]
  },
  {
   "cell_type": "code",
   "execution_count": null,
   "id": "dd8c2199",
   "metadata": {},
   "outputs": [],
   "source": [
    "def _plot_zoom(df, raster, markersize_factor=5000):\n",
    "    xmin = -90\n",
    "    xmax = -40\n",
    "    ymin = 42\n",
    "    ymax = 55\n",
    "    \n",
    "    crop_df = df.cx[xmin: xmax, ymin: ymax]\n",
    "    \n",
    "    xmin = min(crop_df.bounds[\"minx\"])\n",
    "    ymin = min(crop_df.bounds[\"miny\"])\n",
    "    xmax = max(crop_df.bounds[\"maxx\"])\n",
    "    ymax = max(crop_df.bounds[\"maxy\"])\n",
    "    \n",
    "    fig, ax = plt.subplots()\n",
    "    \n",
    "    out_image, out_transform = mask(\n",
    "        raster, \n",
    "        [Polygon(((xmin, ymin), (xmax, ymin) ,(xmax, ymax), (xmin, ymax),  (xmin, ymin)))], \n",
    "        crop=True\n",
    "    )\n",
    "\n",
    "    ax = show(\n",
    "        out_image, \n",
    "        transform=out_transform, \n",
    "        alpha=0.5,\n",
    "        cmap=cmap, \n",
    "        norm=norm,\n",
    "        with_bounds=True, \n",
    "        ax=ax\n",
    "    )\n",
    "\n",
    "    crop_df.boundary.plot(ax=ax, lw=0.75, color=\"black\")\n",
    "    \n",
    "    centroids = crop_df.centroid\n",
    "    centroids.plot(\n",
    "        markersize=crop_df['2021_num_entailles'] / markersize_factor, \n",
    "        alpha=0.35,\n",
    "        color=\"DarkTurquoise\", \n",
    "        ax=ax, \n",
    "    )\n",
    "    centroids.plot(\n",
    "        markersize=3,\n",
    "        alpha=1,\n",
    "        color=\"DarkSlateGrey\", \n",
    "        ax=ax, \n",
    "    )\n",
    "\n",
    "    ax.set_axis_off()\n",
    "    \n",
    "_plot_zoom(df_CD_and_RAR, raster_2011_2040)"
   ]
  },
  {
   "cell_type": "markdown",
   "id": "51b5a33b",
   "metadata": {},
   "source": [
    "### 3.1.5. Projection 2041-2070"
   ]
  },
  {
   "cell_type": "code",
   "execution_count": null,
   "id": "f4fb65af",
   "metadata": {},
   "outputs": [],
   "source": [
    "_plot_zoom(df_CD_and_RAR, raster_2041_2070)"
   ]
  },
  {
   "cell_type": "markdown",
   "id": "f7f338c5",
   "metadata": {},
   "source": [
    "### 3.1.6. Projection 2071-2100"
   ]
  },
  {
   "cell_type": "code",
   "execution_count": null,
   "id": "4c5d545d",
   "metadata": {},
   "outputs": [],
   "source": [
    "_plot_zoom(df_CD_and_RAR, raster_2071_2100)"
   ]
  },
  {
   "cell_type": "markdown",
   "id": "6094fc74",
   "metadata": {},
   "source": [
    "## 3.2. Déplacement des niches climatiques\n",
    "\n",
    "On visualise maintenant les régions qui gagnent ou perdent les conditions favorables au développement de l'érable à sucre. \n",
    "\n",
    "### 3.2.1. Pertes de conditions favorables \n",
    "\n",
    "On observe en rouge les régions qui faisaient partie de la niche climatique dans la période de projection initiale (2011-2040), mais qui n'en font plus partie dans la période de projection finale.\n",
    "\n",
    "#### Conditions cores seulement : 2011-2040 à 2041-2070"
   ]
  },
  {
   "cell_type": "code",
   "execution_count": null,
   "id": "19de15a5",
   "metadata": {},
   "outputs": [],
   "source": [
    "def _plot_lost_terrain(df, raster1, raster2, extent, data_value, color, nodata_value=-999, markersize_factor=50000):\n",
    "    new_raster = np.ones(raster1.shape) * nodata_value\n",
    "    new_raster[np.where((raster1 >= data_value) & (raster2 < data_value))] = 1\n",
    "    \n",
    "    fig, ax = plt.subplots()\n",
    "\n",
    "    cmap = mpl.colors.ListedColormap(['black', color])\n",
    "    bounds = [nodata_value, 1, 3]\n",
    "    norm = mpl.colors.BoundaryNorm(bounds, cmap.N)\n",
    "\n",
    "    \n",
    "    ax = show(\n",
    "        new_raster,\n",
    "        extent=extent,\n",
    "        alpha=0.5,\n",
    "        cmap=cmap, \n",
    "        norm=norm,\n",
    "        with_bounds=True, \n",
    "        ax=ax\n",
    "    )\n",
    "\n",
    "    df.boundary.plot(ax=ax, lw=0.15, color=\"black\")\n",
    "    df.centroid.plot(\n",
    "        markersize=df['2021_num_entailles'] / markersize_factor, \n",
    "        alpha=0.5,\n",
    "        color=\"DarkTurquoise\", \n",
    "        ax=ax\n",
    "    )\n",
    "\n",
    "_plot_lost_terrain(\n",
    "    df_CD_and_RAR, \n",
    "    registered_raster_2011_2040, \n",
    "    registered_raster_2041_2070, \n",
    "    extent=[\n",
    "        raster_2011_2040.bounds[0], \n",
    "        raster_2011_2040.bounds[2], \n",
    "        raster_2011_2040.bounds[1], \n",
    "        raster_2011_2040.bounds[3]\n",
    "    ], \n",
    "    data_value=3, \n",
    "    nodata_value=-999,\n",
    "    color=\"red\"\n",
    ")"
   ]
  },
  {
   "cell_type": "markdown",
   "id": "78484b7e",
   "metadata": {},
   "source": [
    "#### Conditions cores seulement : 2011-2040 à 2071-2100"
   ]
  },
  {
   "cell_type": "code",
   "execution_count": null,
   "id": "5dfa05a1",
   "metadata": {},
   "outputs": [],
   "source": [
    "_plot_lost_terrain(\n",
    "    df_CD_and_RAR, \n",
    "    registered_raster_2011_2040, \n",
    "    registered_raster_2071_2100, \n",
    "    extent=[\n",
    "        raster_2011_2040.bounds[0], \n",
    "        raster_2011_2040.bounds[2], \n",
    "        raster_2011_2040.bounds[1], \n",
    "        raster_2011_2040.bounds[3]\n",
    "    ], \n",
    "    data_value=3, \n",
    "    color=\"red\"\n",
    ")"
   ]
  },
  {
   "cell_type": "markdown",
   "id": "2c696d2a",
   "metadata": {},
   "source": [
    "#### Conditions cores et marginales : 2011-2040 vs 2041-2070"
   ]
  },
  {
   "cell_type": "code",
   "execution_count": null,
   "id": "682bd73e",
   "metadata": {},
   "outputs": [],
   "source": [
    "_plot_lost_terrain(\n",
    "    df_CD_and_RAR, \n",
    "    registered_raster_2011_2040, \n",
    "    registered_raster_2041_2070, \n",
    "    extent=[\n",
    "        raster_2011_2040.bounds[0], \n",
    "        raster_2011_2040.bounds[2], \n",
    "        raster_2011_2040.bounds[1], \n",
    "        raster_2011_2040.bounds[3]\n",
    "    ], \n",
    "    data_value=1, \n",
    "    color=\"red\"\n",
    ")"
   ]
  },
  {
   "cell_type": "markdown",
   "id": "51b2e67e",
   "metadata": {},
   "source": [
    "#### Conditions cores et marginales : 2011-2040 vs 2071-2100"
   ]
  },
  {
   "cell_type": "code",
   "execution_count": null,
   "id": "3a9685d5",
   "metadata": {},
   "outputs": [],
   "source": [
    "_plot_lost_terrain(\n",
    "    df_CD_and_RAR, \n",
    "    registered_raster_2011_2040, \n",
    "    registered_raster_2071_2100, \n",
    "    extent=[\n",
    "        raster_2011_2040.bounds[0], \n",
    "        raster_2011_2040.bounds[2], \n",
    "        raster_2011_2040.bounds[1], \n",
    "        raster_2011_2040.bounds[3]\n",
    "    ], \n",
    "    data_value=1, \n",
    "    color=\"red\"\n",
    ")"
   ]
  },
  {
   "cell_type": "markdown",
   "id": "ec24ca9f",
   "metadata": {},
   "source": [
    "### 3.2.2. Gains de conditions favorables \n",
    "\n",
    "On observe en vert les régions qui ne faisaient partie de la niche climatique dans la période de projection initiale (2011-2040), mais qui en font partie dans la période de projection finale.\n",
    "\n",
    "#### Conditions cores seulement : 2011-2040 à 2041-2070"
   ]
  },
  {
   "cell_type": "code",
   "execution_count": null,
   "id": "f537f038",
   "metadata": {},
   "outputs": [],
   "source": [
    "_plot_lost_terrain(\n",
    "    df_CD_and_RAR, \n",
    "    registered_raster_2041_2070, \n",
    "    registered_raster_2011_2040, \n",
    "    extent=[\n",
    "        raster_2011_2040.bounds[0], \n",
    "        raster_2011_2040.bounds[2], \n",
    "        raster_2011_2040.bounds[1], \n",
    "        raster_2011_2040.bounds[3]\n",
    "    ], \n",
    "    data_value=3, \n",
    "    color=\"green\"\n",
    ")"
   ]
  },
  {
   "cell_type": "markdown",
   "id": "808e1122",
   "metadata": {},
   "source": [
    "#### Conditions cores seulement : 2011-2040 à 2071-2100"
   ]
  },
  {
   "cell_type": "code",
   "execution_count": null,
   "id": "8f78e474",
   "metadata": {},
   "outputs": [],
   "source": [
    "_plot_lost_terrain(\n",
    "    df_CD_and_RAR, \n",
    "    registered_raster_2071_2100, \n",
    "    registered_raster_2011_2040, \n",
    "    extent=[\n",
    "        raster_2011_2040.bounds[0], \n",
    "        raster_2011_2040.bounds[2], \n",
    "        raster_2011_2040.bounds[1], \n",
    "        raster_2011_2040.bounds[3]\n",
    "    ], \n",
    "    data_value=3, \n",
    "    color=\"green\"\n",
    ")"
   ]
  },
  {
   "cell_type": "markdown",
   "id": "aa594abc",
   "metadata": {},
   "source": [
    "#### Conditions cores et marginales : 2011-2040 à 2041-2070"
   ]
  },
  {
   "cell_type": "code",
   "execution_count": null,
   "id": "10a5325d",
   "metadata": {},
   "outputs": [],
   "source": [
    "_plot_lost_terrain(\n",
    "    df_CD_and_RAR, \n",
    "    registered_raster_2041_2070, \n",
    "    registered_raster_2011_2040, \n",
    "    extent=[\n",
    "        raster_2011_2040.bounds[0], \n",
    "        raster_2011_2040.bounds[2], \n",
    "        raster_2011_2040.bounds[1], \n",
    "        raster_2011_2040.bounds[3]\n",
    "    ], \n",
    "    data_value=1, \n",
    "    color=\"green\"\n",
    ")"
   ]
  },
  {
   "cell_type": "markdown",
   "id": "87a4c5b4",
   "metadata": {},
   "source": [
    "#### Conditions cores et marginales : 2011-2040 à 2071-2100"
   ]
  },
  {
   "cell_type": "code",
   "execution_count": null,
   "id": "e85e8638",
   "metadata": {},
   "outputs": [],
   "source": [
    "_plot_lost_terrain(\n",
    "    df_CD_and_RAR, \n",
    "    registered_raster_2071_2100, \n",
    "    registered_raster_2011_2040, \n",
    "    extent=[\n",
    "        raster_2011_2040.bounds[0], \n",
    "        raster_2011_2040.bounds[2], \n",
    "        raster_2011_2040.bounds[1], \n",
    "        raster_2011_2040.bounds[3]\n",
    "    ], \n",
    "    data_value=1, \n",
    "    color=\"green\"\n",
    ")"
   ]
  },
  {
   "cell_type": "markdown",
   "id": "f2bcbce6",
   "metadata": {},
   "source": [
    "# 4. Réponses aux questions de recherche"
   ]
  },
  {
   "cell_type": "markdown",
   "id": "dfd76d6f",
   "metadata": {},
   "source": [
    "Pour répondre aux questions de recherche, on définit deux scénarios :\n",
    "- Scénario A : on ne considère que les zones avec les conditions climatiques cores.\n",
    "- Scénario B : on considère les zones avec les conditions climatiques cores et marginales.\n",
    "\n",
    "On décline également la réponse par rapport aux projections de 2041-2070, puis aux projections de 2071-2100.\n",
    "\n",
    "On s'attend à ce que les différences les plus marquées soient observées selon le scénario A, avec les projections de 2071-2100, et les différences les moins marquées avec le scénario B et les projections de 2041-2070.\n",
    "\n",
    "Les conclusions aux questions de recherche sont affichées <span style=\"color:red\"> en rouge </span>."
   ]
  },
  {
   "cell_type": "markdown",
   "id": "214922c4",
   "metadata": {},
   "source": [
    "## 4.1. Où se situent les zones propices au développement de l’érable à sucre au Canada et comment seront-elles affectées par le réchauffement climatique?"
   ]
  },
  {
   "cell_type": "markdown",
   "id": "420b00a0",
   "metadata": {},
   "source": [
    "### 4.1.1. Y a-t-il des zones actuellement propices qui ne le seront plus du tout?"
   ]
  },
  {
   "cell_type": "code",
   "execution_count": null,
   "id": "3bcc4524",
   "metadata": {},
   "outputs": [],
   "source": [
    "# Scénario A \n",
    "df[\"diff_A_2011_vs_2041\"] = df[\"core_2011-2040\"] - df[\"core_2011_and_2041\"]\n",
    "df[\"diff_A_2011_vs_2071\"] = df[\"core_2011-2040\"] - df[\"core_2011_and_2071\"]\n",
    "\n",
    "# Scénario B\n",
    "df[\"core_marginal_2011-2040\"] = df[\"core_2011-2040\"] + df[\"marginal_2011-2040\"]\n",
    "df[\"core_marginal_2041-2070\"] = df[\"core_2041-2070\"] + df[\"marginal_2041-2070\"]\n",
    "df[\"core_marginal_2071-2100\"] = df[\"core_2071-2100\"] + df[\"marginal_2071-2100\"]\n",
    "df[\"diff_B_2011_vs_2041\"] = df[\"core_marginal_2011-2040\"] - df[\"marginal_2011_and_2041\"]\n",
    "df[\"diff_B_2011_vs_2071\"] = df[\"core_marginal_2011-2040\"] - df[\"marginal_2011_and_2071\"]"
   ]
  },
  {
   "cell_type": "markdown",
   "id": "c6ea7fd8",
   "metadata": {},
   "source": [
    "#### Scénario A (2011-2040 vs 2041-2070)\n",
    "\n",
    "On affiche les données ordonnées en fonction des pertes de zones idéales (`diff_A_2011_vs_2041`). \n",
    "- `core_2011-2040` et `core_2041-2070` représentent l'aire totale (en kilomètres carrés) des zones idéales pour les périodes de projection.\n",
    "- `core_2011_and_2041` représente l'aire totale idéale en 2011 et qui le serait toujours en 2041. "
   ]
  },
  {
   "cell_type": "markdown",
   "id": "a0025d42",
   "metadata": {},
   "source": [
    "<span style=\"color:red\"> \n",
    "C'est en Colombie-Britannique qu'on enregistrerait les pertes les plus importantes selon le scénario A, malgré qu'elles seraient somme toute relativement faibles.\n",
    "</span>"
   ]
  },
  {
   "cell_type": "code",
   "execution_count": null,
   "id": "21448dd4",
   "metadata": {},
   "outputs": [],
   "source": [
    "df.sort_values(\n",
    "    \"diff_A_2011_vs_2041\", \n",
    "    ascending=False\n",
    ")[[\n",
    "    \"area_name\", \n",
    "    \"province\", \n",
    "    \"diff_A_2011_vs_2041\", \n",
    "    \"core_2011-2040\",\n",
    "    \"core_2041-2070\",\n",
    "    \"core_2011_and_2041\"\n",
    "]].reset_index()"
   ]
  },
  {
   "cell_type": "markdown",
   "id": "6594c1f1",
   "metadata": {},
   "source": [
    "<span style=\"color:red\"> \n",
    "Deux régions de la Colombie-Britannique étaient en partie propices en 2011-2040, mais ne le seraient plus du tout en 2041-2070.\n",
    "</span>"
   ]
  },
  {
   "cell_type": "code",
   "execution_count": null,
   "id": "84846885",
   "metadata": {},
   "outputs": [],
   "source": [
    "df[\n",
    "    (df[\"core_2011-2040\"] > 0) & \n",
    "    (df[\"core_2041-2070\"] == 0) & \n",
    "    (df[\"core_2011_and_2041\"] == 0)\n",
    "].sort_values(\"core_2011-2040\")[[\n",
    "    \"area_name\", \n",
    "    \"province\",\n",
    "    \"core_2011-2040\", \n",
    "    \"core_2041-2070\",\n",
    "    \"core_2011_and_2041\"\n",
    "]]"
   ]
  },
  {
   "cell_type": "markdown",
   "id": "28f75eeb",
   "metadata": {},
   "source": [
    "#### Scénario A (2011-2040 vs 2071-2100)\n",
    "\n",
    "On affiche les données ordonnées en fonction des pertes de zones idéales (`diff_A_2011_vs_2071`). \n",
    "- `core_2011-2040` et `core_2041-2100` représentent l'aire totale (en kilomètres carrés) des zones idéales pour les périodes de projection.\n",
    "- `core_2011_and_2071` représente l'aire totale idéale en 2011 et qui le serait toujours en 2071."
   ]
  },
  {
   "cell_type": "markdown",
   "id": "e1f6636e",
   "metadata": {},
   "source": [
    "<span style=\"color:red\"> \n",
    "En 2071-2100, le Nord de l'Ontario est la région qui enregistrerait les pertes les plus importantes avec une différence de 2950 km carrés. Il s'agit toutefois d'une aire peu importante par rapport à la superficie totale de la région.\n",
    "</span>"
   ]
  },
  {
   "cell_type": "code",
   "execution_count": null,
   "id": "448b2cdb",
   "metadata": {},
   "outputs": [],
   "source": [
    "df.sort_values(\n",
    "    \"diff_A_2011_vs_2071\", \n",
    "    ascending=False\n",
    ").reset_index()[[\n",
    "    \"area_name\",  \n",
    "    \"province\",\n",
    "    \"diff_A_2011_vs_2071\", \n",
    "    \"core_2011-2040\",\n",
    "    \"core_2071-2100\",\n",
    "    \"core_2011_and_2071\",\n",
    "]]"
   ]
  },
  {
   "cell_type": "markdown",
   "id": "168be988",
   "metadata": {},
   "source": [
    "<span style=\"color:red\"> \n",
    "Seule la région de la North Coast en Colombie-Britannique se trouvait en partie dans des conditions idéales de croissance en 2011-2040 et en sortirait complètement en 2071-2100.\n",
    "</span>"
   ]
  },
  {
   "cell_type": "code",
   "execution_count": null,
   "id": "76cfcbd2",
   "metadata": {},
   "outputs": [],
   "source": [
    "df[\n",
    "    (df[\"core_2011-2040\"] > 0) & \n",
    "    (df[\"core_2071-2100\"] == 0) & \n",
    "    (df[\"core_2011_and_2071\"] == 0)\n",
    "].sort_values(\"core_2011-2040\", ascending=False)[[\n",
    "    \"area_name\", \n",
    "    \"province\",\n",
    "    \"core_2011-2040\", \n",
    "    \"core_2071-2100\", \n",
    "    \"core_2011_and_2071\"\n",
    "]]"
   ]
  },
  {
   "cell_type": "markdown",
   "id": "b168c584",
   "metadata": {},
   "source": [
    "#### Scénario B (2011-2040 vs 2041-2070)\n",
    "\n",
    "On affiche les données ordonnées en fonction des pertes de zones idéales et tolérables (`diff_B_2011_vs_2041`). \n",
    "- `core_marginal_2011-2040` et `core_marginal_2041-2070` représentent l'aire totale (en kilomètre carrés) des zones idéales et tolérables pour les périodes de projection.\n",
    "- `core_marginal_2011_and_2041` représente l'aire totale aux conditions idéales et tolérables en 2011-2040 et qui le serait toujours en 2041-2070."
   ]
  },
  {
   "cell_type": "markdown",
   "id": "dd4f654d",
   "metadata": {},
   "source": [
    "<span style=\"color:red\"> \n",
    "Selon le scénario B, les pertes seraient plus importantes. Les régions du Nord-Est du Canada semblent les plus fortement affectées. Malgré tout, une bonne partie de ces régions demeureraient dans un climat idéal ou tolérable au développement de l'érable en 2041-2070.\n",
    "</span>"
   ]
  },
  {
   "cell_type": "code",
   "execution_count": null,
   "id": "6abe0278",
   "metadata": {},
   "outputs": [],
   "source": [
    "df.sort_values(\n",
    "    \"diff_B_2011_vs_2041\", \n",
    "    ascending=False\n",
    ").reset_index()[[\n",
    "    \"area_name\",  \n",
    "    \"province\",\n",
    "    \"diff_B_2011_vs_2041\", \n",
    "    \"core_marginal_2011-2040\", \n",
    "    \"core_marginal_2041-2070\",\n",
    "    \"marginal_2011_and_2041\"\n",
    "]]"
   ]
  },
  {
   "cell_type": "markdown",
   "id": "9c6038a9",
   "metadata": {},
   "source": [
    "<span style=\"color:red\"> \n",
    "Aucune région qui était en partie propice ne le serait plus du tout en 2041.\n",
    "</span>"
   ]
  },
  {
   "cell_type": "code",
   "execution_count": null,
   "id": "f1dfb4c4",
   "metadata": {},
   "outputs": [],
   "source": [
    "df[\n",
    "    (df[\"core_marginal_2011-2040\"] > 0) & \n",
    "    (df[\"core_marginal_2041-2070\"] == 0) & \n",
    "    (df[\"marginal_2011_and_2041\"] == 0)\n",
    "].sort_values(\"core_2011-2040\", ascending=False)[[\n",
    "    \"area_name\", \n",
    "    \"province\",\n",
    "    \"core_marginal_2011-2040\", \n",
    "    \"core_marginal_2041-2070\", \n",
    "    \"marginal_2011_and_2041\"\n",
    "]]"
   ]
  },
  {
   "cell_type": "markdown",
   "id": "9725d0ff",
   "metadata": {},
   "source": [
    "#### Scénario B (2011-2040 vs 2071-2100)\n",
    "\n",
    "\n",
    "On affiche les données ordonnées en fonction des pertes de zones idéales et tolérables (`diff_B_2011_vs_2071`). \n",
    "- `core_marginal_2011-2040` et `core_marginal_2071-2100` représentent l'aire totale (en kilomètre carrés) des zones idéales ou tolérables pour les périodes de projection.\n",
    "- `marginal_2011_and_2071` représente l'aire totale aux conditions idéales et tolérables en 2011 et qui le serait toujours en 2071. "
   ]
  },
  {
   "cell_type": "markdown",
   "id": "58ca67d8",
   "metadata": {},
   "source": [
    "<span style=\"color:red\"> \n",
    "Les tendances s'intensifieraient en 2071-2100 dans le Nord-Est du Canada.\n",
    "</span>"
   ]
  },
  {
   "cell_type": "code",
   "execution_count": null,
   "id": "b3a2d3d0",
   "metadata": {},
   "outputs": [],
   "source": [
    "df.sort_values(\n",
    "    \"diff_B_2011_vs_2071\", \n",
    "    ascending=False\n",
    ").reset_index()[[\n",
    "    \"area_name\",  \n",
    "    \"province\",\n",
    "    \"diff_B_2011_vs_2071\", \n",
    "    \"core_marginal_2011-2040\", \n",
    "    \"core_marginal_2071-2100\",\n",
    "    \"marginal_2011_and_2071\",\n",
    "]]"
   ]
  },
  {
   "cell_type": "markdown",
   "id": "23217ec2",
   "metadata": {},
   "source": [
    "<span style=\"color:red\"> \n",
    "Toutefois, aucune région étant en partie propice au développement de l'érable ne le serait plus du tout en 2071-2100.\n",
    "</span>"
   ]
  },
  {
   "cell_type": "code",
   "execution_count": null,
   "id": "2e845068",
   "metadata": {},
   "outputs": [],
   "source": [
    "df[\n",
    "    (df[\"core_marginal_2011-2040\"] > 0) & \n",
    "    (df[\"core_marginal_2071-2100\"] == 0) & \n",
    "    (df[\"marginal_2011_and_2071\"] == 0)\n",
    "].sort_values(\"core_2011-2040\", ascending=False)[[\n",
    "    \"area_name\", \n",
    "    \"province\",\n",
    "    \"core_marginal_2011-2040\", \n",
    "    \"core_marginal_2071-2100\", \n",
    "    \"marginal_2011_and_2071\"\n",
    "]]"
   ]
  },
  {
   "cell_type": "markdown",
   "id": "057b44d6",
   "metadata": {},
   "source": [
    "### 4.1.2. Quelle proportion du Canada et des provinces est actuellement favorable au développement de l’érable à sucre? Qu'elle deviendra cette proportion avec le réchauffement climatique?\n",
    "\n",
    "#### Canada \n",
    "\n",
    "On calcule la proportion du Canada qui se trouve dans la niche climatique de l'érable en 2011-2040, 2041-2070 et 2071-2100, selon les scénarios A et B. "
   ]
  },
  {
   "cell_type": "markdown",
   "id": "9077e519",
   "metadata": {},
   "source": [
    "<span style=\"color:red\"> \n",
    "On constate que la proportion du territoire canadien propice au développement de l'érable à sucre pourrait s'accroître avec le temps, qu'on se fit au scénario A ou B. En effet, l'enveloppe climatique ne rétrécirait pas, mais elle se déplacerait plutôt vers le Nord.\n",
    "</span>"
   ]
  },
  {
   "cell_type": "code",
   "execution_count": null,
   "id": "20f1374b",
   "metadata": {},
   "outputs": [],
   "source": [
    "sum_A_2011 = df['core_2011-2040'].sum() / (df['rest_2011-2040'].sum() + df['core_marginal_2011-2040'].sum())\n",
    "sum_B_2011 = df['core_marginal_2011-2040'].sum() / (df['rest_2011-2040'].sum() + df['core_marginal_2011-2040'].sum())\n",
    "\n",
    "sum_A_2041 = df['core_2041-2070'].sum() / (df['rest_2041-2070'].sum() + df['core_marginal_2041-2070'].sum())\n",
    "sum_B_2041 = df['core_marginal_2041-2070'].sum() / (df['rest_2041-2070'].sum() + df['core_marginal_2041-2070'].sum())\n",
    "\n",
    "sum_A_2071 = df['core_2071-2100'].sum() / (df['rest_2071-2100'].sum() + df['core_marginal_2071-2100'].sum())\n",
    "sum_B_2071 = df['core_marginal_2071-2100'].sum() / (df['rest_2071-2100'].sum() + df['core_marginal_2071-2100'].sum())\n",
    "\n",
    "print(f\"Scénario A: {round(sum_A_2011, 3)} (2011), {round(sum_A_2041, 3)} (2041), {round(sum_A_2071, 3)} (2071)\")\n",
    "print(f\"Scénario B: {round(sum_B_2011, 3)} (2011), {round(sum_B_2041, 3)} (2041), {round(sum_B_2071, 3)} (2071)\")"
   ]
  },
  {
   "cell_type": "markdown",
   "id": "ded6241b",
   "metadata": {},
   "source": [
    "<span style=\"color:red\"> \n",
    "Selon le scénario A, c'est 96,6 % de l'aire idéale actuelle qui le serait toujours en 2041-2070, contre 92 % en 2071-2100.\n",
    "<br/>\n",
    "Selon le scénario B, c'est 86,2% de l'aire idéale et tolérable actuelle qui le serait toujours en 2041-2070, contre seulement 81,7% en 2071-2100.\n",
    "</span>"
   ]
  },
  {
   "cell_type": "code",
   "execution_count": null,
   "id": "56c1be36",
   "metadata": {},
   "outputs": [],
   "source": [
    "sum_A_2041 = df['core_2011_and_2041'].sum() / df['core_2011-2040'].sum()\n",
    "sum_B_2041 = df['marginal_2011_and_2041'].sum() / df['core_marginal_2011-2040'].sum()\n",
    "\n",
    "sum_A_2071 = df['core_2011_and_2071'].sum() / df['core_2011-2040'].sum()\n",
    "sum_B_2071 = df['marginal_2011_and_2071'].sum() / df['core_marginal_2011-2040'].sum()\n",
    "\n",
    "print(f\"Scénario A: {round(sum_A_2041, 3)} (2041), {round(sum_A_2071, 3)} (2071)\")\n",
    "print(f\"Scénario B: {round(sum_B_2041, 3)} (2041), {round(sum_B_2071, 3)} (2071)\")"
   ]
  },
  {
   "cell_type": "markdown",
   "id": "03276969",
   "metadata": {},
   "source": [
    "#### Provinces\n",
    "\n",
    "On calcule ensuite ces mêmes proportions à l'échelle des provinces.\n",
    "- `sum_X_YYYY` eprésente la proportion pour l'année de départ d'une projection donnée (`YYYY`) et un scénario (`X`)."
   ]
  },
  {
   "cell_type": "markdown",
   "id": "d4f907f4",
   "metadata": {},
   "source": [
    "<span style=\"color:red\"> \n",
    "Selon le scénario A, on enregistrerait des pertes au Nouveau-Brunswick (97 % en 2011-2040 c. 93 % en 2071-2100) et en Nouvelle-Écosse (36 % en 2011-2040 c. 12,7% en 2071-2100). On enregistrerait toutefois des gains en Ontario (18 % en 2011-2040 c. 32 % en 2071-2100), au Québec (21 % en 2011-2040 c 42 % en 2071-2100) et à Terre-Neuve-et-Labrador (9 % en 2011-2040 c. 23 % en 2071-2100).\n",
    "\n",
    "Avec le scénario B, toutes les provinces pourraient voir un gain de territoire au sein de la niche climatique idéale ou tolérable de l’érable.\n",
    "\n",
    "</span>"
   ]
  },
  {
   "cell_type": "code",
   "execution_count": null,
   "id": "cf19f8c7",
   "metadata": {},
   "outputs": [],
   "source": [
    "df_pr = df.groupby(\n",
    "    \"province\"\n",
    ").sum()\n",
    "\n",
    "df_pr[\"sum_A_2011\"] = df_pr['core_2011-2040'] / (df_pr['rest_2011-2040'] + df_pr['core_marginal_2011-2040'])\n",
    "df_pr[\"sum_B_2011\"] = df_pr['core_marginal_2011-2040'] / (df_pr['rest_2011-2040'] + df_pr['core_marginal_2011-2040'])\n",
    "\n",
    "df_pr[\"sum_A_2041\"] = df_pr['core_2041-2070'] / (df_pr['rest_2041-2070'] + df_pr['core_marginal_2041-2070'])\n",
    "df_pr[\"sum_B_2041\"] = df_pr['core_marginal_2041-2070'] / (df_pr['rest_2041-2070'] + df_pr['core_marginal_2041-2070'])\n",
    "\n",
    "df_pr[\"sum_A_2071\"] = df_pr['core_2071-2100'] / (df_pr['rest_2071-2100'] + df_pr['core_marginal_2071-2100'])\n",
    "df_pr[\"sum_B_2071\"] = df_pr['core_marginal_2071-2100'] / (df_pr['rest_2071-2100'] + df_pr['core_marginal_2071-2100'])\n",
    "\n",
    "df_pr[[\n",
    "    \"sum_A_2011\", \n",
    "    \"sum_A_2041\", \n",
    "    \"sum_A_2071\", \n",
    "    \"sum_B_2011\", \n",
    "    \"sum_B_2041\", \n",
    "    \"sum_B_2071\", \n",
    "]]"
   ]
  },
  {
   "cell_type": "markdown",
   "id": "7511aba8",
   "metadata": {},
   "source": [
    "<span style=\"color:red\"> \n",
    "Toujours selon le scénario A, la proportion des aires actuellement idéales qui le demeurerait en 2041-2070 est de 100 % pour le Québec, T.-N.-L., le N.-B., l'Ontario, et l'Î.-P.-É.. En 2071-2100, cette proportion s'effrite pour la Nouvelle-Écosse (35 %) et dans une plus faible mesure pour l'Ontario (85 %).\n",
    "</span>"
   ]
  },
  {
   "cell_type": "code",
   "execution_count": null,
   "id": "33850b9d",
   "metadata": {},
   "outputs": [],
   "source": [
    "df_pr = df.groupby(\n",
    "    \"province\"\n",
    ").sum()\n",
    "\n",
    "\n",
    "df_pr[\"sum_A_2041\"] = df_pr['core_2011_and_2041'] / df_pr['core_2011-2040']\n",
    "df_pr[\"sum_B_2041\"] = df_pr['marginal_2011_and_2041'] / df_pr['core_marginal_2011-2040']\n",
    "\n",
    "df_pr[\"sum_A_2071\"] = df_pr['core_2011_and_2071'] / df_pr['core_2011-2040']\n",
    "df_pr[\"sum_B_2071\"] = df_pr['marginal_2011_and_2071'] / df_pr['core_marginal_2011-2040']\n",
    "\n",
    "df_pr[[\n",
    "    \"sum_A_2041\",\n",
    "    \"sum_A_2071\", \n",
    "    \"sum_B_2041\", \n",
    "    \"sum_B_2071\", \n",
    "]]"
   ]
  },
  {
   "cell_type": "markdown",
   "id": "e5366eb8",
   "metadata": {},
   "source": [
    "## 4.2. Où se concentre la production de sirop d’érable au Canada. Et comment a-t-elle évolué au fil des années?"
   ]
  },
  {
   "cell_type": "markdown",
   "id": "9dc052e7",
   "metadata": {},
   "source": [
    "### 4.2.1. Où se concentre la production de sirop d’érable au Canada?\n",
    "\n",
    "#### Proportions par région agricole de recensement\n",
    "\n",
    "On affiche les données ordonnées en fonction du nombre d'entailles en 2021 (`2021_num_entailles`). On affiche également:\n",
    "- le nombre d'exploitations en 2021 (`2021_num_exploitations`)\n",
    "- le rang de la région agricole de recensement en fonction du nombre d'entailles (`rank_entailles`) et du nombre d'exploitations acéricoles (`rank_exploitations`)."
   ]
  },
  {
   "cell_type": "markdown",
   "id": "0f5c9ccf",
   "metadata": {},
   "source": [
    "<span style=\"color:red\"> \n",
    "Le Québec domine l'exploitation des érables au Canada : 32 % des entailles sont dans la région de Chaudière-Appalaches, 15% en Estrie et 15% au Bas-Saint-Laurent. On retrouve également une importante production au Nouveau-Brunswick, en Ontario et, dans une moindre mesure, en Nouvelle-Écosse.\n",
    "</span>"
   ]
  },
  {
   "cell_type": "code",
   "execution_count": null,
   "id": "54305bbb",
   "metadata": {},
   "outputs": [],
   "source": [
    "num_entailles_2021 = df[\"2021_num_entailles\"].sum()\n",
    "num_entailles_2016 = df[\"2016_num_entailles\"].sum()\n",
    "num_entailles_2011 = df[\"2011_num_entailles\"].sum()\n",
    "\n",
    "num_exploitations_2021 = df[\"2021_num_exploitations\"].sum()\n",
    "num_exploitations_2016 = df[\"2016_num_exploitations\"].sum()\n",
    "num_exploitations_2011 = df[\"2011_num_exploitations\"].sum()\n",
    "\n",
    "df[\"2021_percent_entailles\"] = df[\"2021_num_entailles\"] / num_entailles_2021\n",
    "df[\"2021_percent_exploitations\"] = df[\"2021_num_exploitations\"] / num_exploitations_2021\n",
    "\n",
    "df.sort_values(\n",
    "    \"2021_num_entailles\", \n",
    "    ascending=False\n",
    ").reset_index()[[\n",
    "    \"area_name\", \n",
    "    \"province\", \n",
    "    \"2021_num_entailles\", \n",
    "    \"2021_percent_entailles\", \n",
    "    \"2021_num_exploitations\", \n",
    "    \"2021_percent_exploitations\", \n",
    "    \"rank_entailles\",\n",
    "    \"rank_exploitations\"\n",
    "]]"
   ]
  },
  {
   "cell_type": "markdown",
   "id": "b8e2dfb3",
   "metadata": {},
   "source": [
    "#### Proportions d'entailles par province "
   ]
  },
  {
   "cell_type": "markdown",
   "id": "fda87d89",
   "metadata": {},
   "source": [
    "<span style=\"color:red\"> \n",
    "Au total, 90 % des entailles sont au Québec. Le Nouveau-Brunswick suit avec 6 % des entailles en 2021, puis l'Ontario avec 3 %. \n",
    "</span>"
   ]
  },
  {
   "cell_type": "code",
   "execution_count": null,
   "id": "374c0439",
   "metadata": {},
   "outputs": [],
   "source": [
    "df_pr = df.groupby(\n",
    "    \"province\"\n",
    ").sum()\n",
    "\n",
    "df_pr[\"2021_percent_entailles\"] = df_pr[\"2021_num_entailles\"] / num_entailles_2021\n",
    "df_pr[\"2016_percent_entailles\"] = df_pr[\"2016_num_entailles\"] / num_entailles_2016\n",
    "df_pr[\"2011_percent_entailles\"] = df_pr[\"2011_num_entailles\"] / num_entailles_2011\n",
    "\n",
    "df_pr[[\n",
    "    \"2021_percent_entailles\",\n",
    "    \"2016_percent_entailles\",\n",
    "    \"2011_percent_entailles\"\n",
    "]]"
   ]
  },
  {
   "cell_type": "markdown",
   "id": "4169dd1c",
   "metadata": {},
   "source": [
    "#### Proportions d'exploitations par province "
   ]
  },
  {
   "cell_type": "markdown",
   "id": "020a9afa",
   "metadata": {},
   "source": [
    "<span style=\"color:red\"> \n",
    "La proportion d'exploitations québécoises est plus faible que sa proportion d'entailles. Il y a donc un plus grand nombre moyen d'entailles par exploitation. Le Québec compte tout de même entre 68 et 75 % des exploitations du pays, suivis de l'Ontario avec entre 21 et 26 % des exploitations.\n",
    "</span>"
   ]
  },
  {
   "cell_type": "code",
   "execution_count": null,
   "id": "569c5c14",
   "metadata": {},
   "outputs": [],
   "source": [
    "df_pr = df.groupby(\n",
    "    \"province\"\n",
    ").sum()\n",
    "\n",
    "df_pr[\"2021_percent_exploitations\"] = df_pr[\"2021_num_exploitations\"] / num_exploitations_2021\n",
    "df_pr[\"2016_percent_exploitations\"] = df_pr[\"2016_num_exploitations\"] / num_exploitations_2016\n",
    "df_pr[\"2011_percent_exploitations\"] = df_pr[\"2011_num_exploitations\"] / num_exploitations_2011\n",
    "\n",
    "df_pr[[\n",
    "    \"2021_percent_exploitations\", \n",
    "    \"2016_percent_exploitations\", \n",
    "    \"2011_percent_exploitations\", \n",
    "]]"
   ]
  },
  {
   "cell_type": "markdown",
   "id": "0833bed5",
   "metadata": {},
   "source": [
    "### 4.2.2. Quelles régions ont connu la plus forte croissance au fil des ans?\n",
    "\n",
    "On calcule ici les différences de nombre d'entailles et entre 2021 et 2011 (`diff_num_entailles`). "
   ]
  },
  {
   "cell_type": "markdown",
   "id": "0e079428",
   "metadata": {},
   "source": [
    "<span style=\"color:red\"> \n",
    "Si le Manitoba a connu la plus forte hausse relative, le nombre absolu d'entailles demeure extrêmement bas. Le Nouveau-Brunswick, l'Ontario et la Nouvelle-Écosse ont connu des croissances plus marquées que les régions du Québec.\n",
    "</span>"
   ]
  },
  {
   "cell_type": "code",
   "execution_count": null,
   "id": "2ebedba4",
   "metadata": {},
   "outputs": [],
   "source": [
    "df[\"diff_num_entailles\"] = (df[\"2021_num_entailles\"] - df[\"2011_num_entailles\"]) / df[\"2021_num_entailles\"]\n",
    "\n",
    "df.sort_values(\n",
    "    \"diff_num_entailles\", \n",
    "    ascending=False\n",
    ").reset_index()[[\n",
    "    \"area_name\", \n",
    "    \"province\", \n",
    "    \"diff_num_entailles\",\n",
    "    \"2021_num_entailles\", \n",
    "    \"2011_num_entailles\", \n",
    "    \"2021_num_exploitations\",\n",
    "    \"2011_num_exploitations\", \n",
    "    \"rank_entailles\",\n",
    "    \"rank_exploitations\"\n",
    "]]"
   ]
  },
  {
   "cell_type": "markdown",
   "id": "57d45648",
   "metadata": {},
   "source": [
    "## 4.3. Croiser les données sur la répartition et l'abondance de l’érable à sucre du Canada, et les projections de niche climatique d’ici 2100, avec les données sur les entailles d’érable du recensement de l’agriculture 2021. "
   ]
  },
  {
   "cell_type": "markdown",
   "id": "2a08450e",
   "metadata": {},
   "source": [
    "### 4.3.1.Quelle proportion (et quelles régions) des entailles actuelles se retrouverait dans de nouvelles conditions de croissance?\n",
    "\n",
    "\n",
    "#### Scénario A (2041-2070)\n",
    "\n",
    "Ici, on suppose que les entailles se retrouvent exclusivement dans des zones de croissance idéale. On affiche les régions agricoles de recensement qui ne se retrouveraient plus dans cette zone."
   ]
  },
  {
   "cell_type": "markdown",
   "id": "b2363aa0",
   "metadata": {},
   "source": [
    "<span style=\"color:red\"> \n",
    "La plupart des régions avec un grand nombre d'entailles se retrouverait toujours à l'intérieur de la niche climatique de l’érable. On note tout de même quelques régions des Prairies ou un nombre négligeable d'entailles se retrouverait dans de nouvelles conditions de croissance.\n",
    "</span>"
   ]
  },
  {
   "cell_type": "code",
   "execution_count": null,
   "id": "a8c70d94",
   "metadata": {},
   "outputs": [],
   "source": [
    "# Scénario A (2041)\n",
    "df[\"2041_A_is_propice\"] = df[\"core_2011_and_2041\"] > 0\n",
    "is_not_propice_2041_A_df = df[df[\"2041_A_is_propice\"] == False].sort_values(\n",
    "    \"2021_num_entailles\", \n",
    "    ascending=False\n",
    ").reset_index()\n",
    "\n",
    "is_not_propice_2041_A_df[[\n",
    "    \"area_name\", \n",
    "    \"province\", \n",
    "    \"2021_num_entailles\", \n",
    "    \"2021_num_exploitations\", \n",
    "    \"core_2011-2040\", \n",
    "    \"rank_entailles\",\n",
    "    \"rank_exploitations\"\n",
    "]]"
   ]
  },
  {
   "cell_type": "markdown",
   "id": "0213fa56",
   "metadata": {},
   "source": [
    "#### Scénario A (2071-2100)\n",
    "\n",
    "On affiche les régions agricoles de recensement qui se retrouverait plus dans des conditions climatiques idéales. "
   ]
  },
  {
   "cell_type": "markdown",
   "id": "664b1b0a",
   "metadata": {},
   "source": [
    "<span style=\"color:red\"> \n",
    "Il en va de même pour les projections de 2071-2100.\n",
    "</span>"
   ]
  },
  {
   "cell_type": "code",
   "execution_count": null,
   "id": "a9f37663",
   "metadata": {},
   "outputs": [],
   "source": [
    "# Scénario A (2071)\n",
    "df[\"2071_A_is_propice\"] = df[\"core_2011_and_2071\"] > 0\n",
    "is_not_propice_2071_A_df = df[df[\"2071_A_is_propice\"] == False].sort_values(\n",
    "    \"2021_num_entailles\", \n",
    "    ascending=False\n",
    ").reset_index()\n",
    "\n",
    "is_not_propice_2071_A_df[[\n",
    "    \"area_name\", \n",
    "    \"province\", \n",
    "    \"2021_num_entailles\", \n",
    "    \"2021_num_exploitations\", \n",
    "    \"rank_entailles\",\n",
    "    \"core_2011-2040\",\n",
    "    \"rank_exploitations\"\n",
    "]]"
   ]
  },
  {
   "cell_type": "markdown",
   "id": "a0370f59",
   "metadata": {},
   "source": [
    "#### Scénario B (2041-2070)\n",
    "\n",
    "On affiche les régions agricoles de recensement qui se retrouverait plus dans des conditions climatiques idéales ou tolérables. "
   ]
  },
  {
   "cell_type": "markdown",
   "id": "8a18c4f5",
   "metadata": {},
   "source": [
    "<span style=\"color:red\"> \n",
    "Aucune entaille ne se retrouve dans de nouvelles conditions climatiques.\n",
    "</span>"
   ]
  },
  {
   "cell_type": "code",
   "execution_count": null,
   "id": "b8a563ab",
   "metadata": {},
   "outputs": [],
   "source": [
    "# Scénario B (2041)\n",
    "df[\"2041_B_is_propice\"] = df[\"marginal_2011_and_2041\"] > 0\n",
    "is_not_propice_2041_B_df = df[df[\"2041_B_is_propice\"] == False].sort_values(\n",
    "    \"2021_num_entailles\", \n",
    "    ascending=False\n",
    ").reset_index()\n",
    "\n",
    "is_not_propice_2041_B_df[[\n",
    "    \"area_name\", \n",
    "    \"province\", \n",
    "    \"2021_num_entailles\", \n",
    "    \"2021_num_exploitations\", \n",
    "    \"core_marginal_2011-2040\",\n",
    "    \"rank_entailles\",\n",
    "    \"rank_exploitations\"\n",
    "]]"
   ]
  },
  {
   "cell_type": "markdown",
   "id": "d3f5503d",
   "metadata": {},
   "source": [
    "#### Scénario B (2071-2100)\n",
    "\n",
    "On affiche les régions agricoles de recensement qui ne se retrouvent plus dans la niche climatique. "
   ]
  },
  {
   "cell_type": "markdown",
   "id": "7a8a51b9",
   "metadata": {},
   "source": [
    "<span style=\"color:red\"> \n",
    "Aucune entaille ne se retrouve dans de nouvelles conditions climatiques.\n",
    "</span>"
   ]
  },
  {
   "cell_type": "code",
   "execution_count": null,
   "id": "a259b270",
   "metadata": {},
   "outputs": [],
   "source": [
    "# Scénario B (2071)\n",
    "df[\"2071_B_is_propice\"] = df[\"marginal_2011_and_2071\"] > 0\n",
    "is_not_propice_2071_B_df = df[df[\"2071_B_is_propice\"] == False].sort_values(\n",
    "    \"2021_num_entailles\", \n",
    "    ascending=False\n",
    ").reset_index()\n",
    "\n",
    "is_not_propice_2071_B_df[[\n",
    "    \"area_name\", \n",
    "    \"province\", \n",
    "    \"2021_num_entailles\", \n",
    "    \"2021_num_exploitations\", \n",
    "    \"core_marginal_2011-2040\",\n",
    "    \"rank_entailles\",\n",
    "    \"rank_exploitations\"\n",
    "]]"
   ]
  },
  {
   "cell_type": "markdown",
   "id": "8b140cad",
   "metadata": {},
   "source": [
    "#### Proportions d'entailles et d'exploitations ne se retrouvant plus dans les zones propices selon les scénarios A et B et pour les deux périodes de projection."
   ]
  },
  {
   "cell_type": "markdown",
   "id": "83a9acc8",
   "metadata": {},
   "source": [
    "<span style=\"color:red\"> \n",
    "Selon les scénarios A et B, environ 0 % des entailles et des exploitations se retrouverait exclu de la niche climatique de l’érable.\n",
    "</span>"
   ]
  },
  {
   "cell_type": "code",
   "execution_count": null,
   "id": "fb4c2598",
   "metadata": {},
   "outputs": [],
   "source": [
    "ratio_entailles_A_2041 = is_not_propice_2041_A_df[\"2021_num_entailles\"].sum() / df[\"2021_num_entailles\"].sum()\n",
    "ratio_entailles_A_2071 = is_not_propice_2071_A_df[\"2021_num_entailles\"].sum() / df[\"2021_num_entailles\"].sum()\n",
    "\n",
    "ratio_entailles_B_2041 = is_not_propice_2041_B_df[\"2021_num_entailles\"].sum() / df[\"2021_num_entailles\"].sum()\n",
    "ratio_entailles_B_2071 = is_not_propice_2071_B_df[\"2021_num_entailles\"].sum() / df[\"2021_num_entailles\"].sum()\n",
    "\n",
    "ratio_exploitations_A_2041 = is_not_propice_2041_A_df[\"2021_num_exploitations\"].sum() / df[\"2021_num_exploitations\"].sum()\n",
    "ratio_exploitations_A_2071 = is_not_propice_2071_A_df[\"2021_num_exploitations\"].sum() / df[\"2021_num_exploitations\"].sum()\n",
    "\n",
    "ratio_exploitations_B_2041 = is_not_propice_2041_B_df[\"2021_num_exploitations\"].sum() / df[\"2021_num_exploitations\"].sum()\n",
    "ratio_exploitations_B_2071 = is_not_propice_2071_B_df[\"2021_num_exploitations\"].sum() / df[\"2021_num_exploitations\"].sum()\n",
    "\n",
    "\n",
    "print(f\"Scénario A (entailles): {round(ratio_entailles_A_2041, 3)} (2041), {round(ratio_entailles_A_2071, 3)} (2071)\")\n",
    "print(f\"Scénario A (exploitations): {round(ratio_exploitations_A_2041, 3)} (2041), {round(ratio_exploitations_A_2071, 3)} (2071)\")\n",
    "print(f\"Scénario B (entailles): {round(ratio_entailles_B_2041, 3)} (2041), {round(ratio_entailles_B_2071, 3)} (2071)\")\n",
    "print(f\"Scénario B (exploitations): {round(ratio_exploitations_B_2041, 3)} (2041), {round(ratio_exploitations_B_2071, 3)} (2071)\")"
   ]
  },
  {
   "cell_type": "markdown",
   "id": "edb3175a",
   "metadata": {},
   "source": [
    "### 4.3.2. À quel point les régions qui ont connu la plus forte croissance resteront-elles dans des zones propices au développement de l’érable ou se retrouveront-elles au contraire dans les zones où sa croissance pourrait être affectée?\n",
    "\n",
    "On affiche les données ordonnées selon la perte d'entailles entre 2021 et 2011 (`diff_num_entailles`). \n",
    "- On indique également si les régions se retrouvent dans la zone propice  (`YYYY_X_is_propice`) selon l'année de début de la projection (`YYYY`) et le scénario (`X`). "
   ]
  },
  {
   "cell_type": "markdown",
   "id": "485a83df",
   "metadata": {},
   "source": [
    "<span style=\"color:red\"> \n",
    "Le climat des régions ayant connu la plus forte croissance du nombre d'entailles de 2011 à 2021 resterait idéal au développement de l'érable en 2071-2100, à l'exception de la région agricole de recensement 2 du Manitoba.\n",
    "</span>"
   ]
  },
  {
   "cell_type": "code",
   "execution_count": null,
   "id": "acdf29c0",
   "metadata": {},
   "outputs": [],
   "source": [
    "df.sort_values(\"diff_num_entailles\", ascending=False).reset_index()[[\n",
    "    \"area_name\",\n",
    "    \"province\",\n",
    "    \"diff_num_entailles\",\n",
    "    \"2041_A_is_propice\",\n",
    "    \"2071_A_is_propice\",\n",
    "    \"2041_B_is_propice\",\n",
    "    \"2071_B_is_propice\"\n",
    "]]"
   ]
  },
  {
   "cell_type": "markdown",
   "id": "4f521908",
   "metadata": {},
   "source": [
    "# 4.4. Où enregistre-t-on les plus importants gains de territoire dans l'enveloppe climatique propice au développement de l'érable?\n",
    "\n",
    "On observe ici les régions pour lesquelles il existe un potentiel de migration de l'érable. On affiche `gain_X_YYYY` où `X` représente les conditions climatiques considérées (cores ou marginales) et `YYYY` représente l'année de projection."
   ]
  },
  {
   "cell_type": "markdown",
   "id": "d193af61",
   "metadata": {},
   "source": [
    "### Scénario A (2041-2070)\n",
    "<br/>\n",
    "<span style=\"color:red\"> \n",
    "On observe d'importants gain dans des régions nordiques, notamment de Nord de l'Ontario, où plus de 30 000 km carré du territoire n'avaient pas les conditions climatiques propices au développement de l'érable 2011-2040, mais les auront en 2041-2070. Il s'agit de plus de 30% de la superficie de la région agricole. \n",
    "    \n",
    "On observe également d'importants gains dans les régions du Nord du Québec, soit l'Abitibi-Témiscamingue--Nord-du-Québec et Saguenay--Lac-Saint-Jean--Côte-Nord. \n",
    "</span>"
   ]
  },
  {
   "cell_type": "code",
   "execution_count": null,
   "id": "c775bd0f",
   "metadata": {},
   "outputs": [],
   "source": [
    "df.sort_values(\"gain_core_2041\", ascending=False).reset_index()[[\n",
    "    \"area_name\",\n",
    "    \"province\",\n",
    "    \"gain_core_2041\",\n",
    "    \"2021_percent_entailles\",\n",
    "    \"rank_entailles\",\n",
    "    \"total_area\",\n",
    "]]"
   ]
  },
  {
   "cell_type": "markdown",
   "id": "8668a627",
   "metadata": {},
   "source": [
    "### Scénario A (2071-2100)\n",
    "<br/>\n",
    "<span style=\"color:red\"> \n",
    "En 2071-2100, on observe d'encore plus importants gains dans les régions nordiques du Québec.\n",
    "    \n",
    "On observe toutefois que la migration de la niche climatique favorable en 2041-2070 au Nord de l'Ontario s'affaiblie: lorsqu'on observe les projections de 2071-2100, la région enregistre de plus faibles gains en 2071-2100 (25 000 km carré) qu'en 2041-2070 (31 000 km carré).\n",
    "</span>"
   ]
  },
  {
   "cell_type": "code",
   "execution_count": null,
   "id": "3cb7ac20",
   "metadata": {},
   "outputs": [],
   "source": [
    "df.sort_values(\"gain_core_2071\", ascending=False).reset_index()[[\n",
    "    \"area_name\",\n",
    "    \"province\",\n",
    "    \"gain_core_2071\",\n",
    "    \"2021_percent_entailles\",\n",
    "    \"rank_entailles\",\n",
    "    \"total_area\",\n",
    "]]"
   ]
  },
  {
   "cell_type": "markdown",
   "id": "6b63a4ca",
   "metadata": {},
   "source": [
    "### Scénario B (2041-2070)\n",
    "<br/>\n",
    "<span style=\"color:red\"> \n",
    "Selon le scénario B, le Nord de l'Ontario enregistre les gains les plus importants, avec 11.5% du territoire nouvellement dans la niche climatique tolérable. \n",
    "    \n",
    "On enregistre des gains dans un plus grand nombre de régions, dont les régions nordiques de l'Est, mais également certaines régions plus au centre ou à l'Ouest du pays.\n",
    "</span>"
   ]
  },
  {
   "cell_type": "code",
   "execution_count": null,
   "id": "6f0ef007",
   "metadata": {},
   "outputs": [],
   "source": [
    "df.sort_values(\"gain_marginal_2041\", ascending=False).reset_index()[[\n",
    "    \"area_name\",\n",
    "    \"province\",\n",
    "    \"gain_marginal_2041\",\n",
    "    \"2021_percent_entailles\",\n",
    "    \"rank_entailles\",\n",
    "    \"total_area\",\n",
    "]]"
   ]
  },
  {
   "cell_type": "markdown",
   "id": "9420ce86",
   "metadata": {},
   "source": [
    "### Scénario B (2071-2100)\n",
    "<br/>\n",
    "<span style=\"color:red\"> \n",
    "Encore selon le scénario B, le Nord de l'Ontario conserve en bonne partie les nouvelles conditions climatiques favorables en 2071-2100.\n",
    "</span>"
   ]
  },
  {
   "cell_type": "code",
   "execution_count": null,
   "id": "30d91e58",
   "metadata": {},
   "outputs": [],
   "source": [
    "df.sort_values(\"gain_marginal_2071\", ascending=False).reset_index()[[\n",
    "    \"area_name\",\n",
    "    \"province\",\n",
    "    \"gain_marginal_2071\",\n",
    "    \"2021_percent_entailles\",\n",
    "    \"rank_entailles\",\n",
    "    \"total_area\",\n",
    "]]"
   ]
  },
  {
   "cell_type": "markdown",
   "id": "5afc7dc2",
   "metadata": {},
   "source": [
    "# 5. Autres (vérification des hypothèses de recherche)"
   ]
  },
  {
   "cell_type": "markdown",
   "id": "85d7560f",
   "metadata": {},
   "source": [
    "## 5.1. Proportion des entailles / exploitations dans des zones qui ne sont pas propices?"
   ]
  },
  {
   "cell_type": "markdown",
   "id": "e3eb49b5",
   "metadata": {},
   "source": [
    "On constate que moins de 1% des entailles totales se retrouvent à l'extérieur de la niche climatique core."
   ]
  },
  {
   "cell_type": "code",
   "execution_count": null,
   "id": "114efff4",
   "metadata": {},
   "outputs": [],
   "source": [
    "df[\"2021_percent_exploitations\"] = df[\"2021_num_exploitations\"] / num_exploitations_2021\n",
    "\n",
    "df[\n",
    "    df[\"core_2011-2040\"] == 0\n",
    "].sort_values(\n",
    "    \"2021_percent_exploitations\", \n",
    "    ascending=False\n",
    ").reset_index()[[\n",
    "    \"2021_percent_exploitations\", \n",
    "    \"area_name\"\n",
    "]]"
   ]
  },
  {
   "cell_type": "markdown",
   "id": "fc597ca7",
   "metadata": {},
   "source": [
    "On constate que moins de 0.1% des entailles totales se retrouvent à l'extérieur de la niche climatique marginale."
   ]
  },
  {
   "cell_type": "code",
   "execution_count": null,
   "id": "4b44627f",
   "metadata": {},
   "outputs": [],
   "source": [
    "df[\"2021_percent_exploitations\"] = df[\"2021_num_exploitations\"] / num_exploitations_2021\n",
    "\n",
    "df[\n",
    "    df[\"core_marginal_2011-2040\"] == 0\n",
    "].sort_values(\n",
    "    \"2021_percent_exploitations\", \n",
    "    ascending=False\n",
    ").reset_index()[[\n",
    "    \"2021_percent_exploitations\", \n",
    "    \"area_name\"\n",
    "]]"
   ]
  }
 ],
 "metadata": {
  "kernelspec": {
   "display_name": "Python 3 (ipykernel)",
   "language": "python",
   "name": "python3"
  },
  "language_info": {
   "codemirror_mode": {
    "name": "ipython",
    "version": 3
   },
   "file_extension": ".py",
   "mimetype": "text/x-python",
   "name": "python",
   "nbconvert_exporter": "python",
   "pygments_lexer": "ipython3",
   "version": "3.9.7"
  }
 },
 "nbformat": 4,
 "nbformat_minor": 5
}
